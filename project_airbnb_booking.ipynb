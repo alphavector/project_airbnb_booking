{
  "nbformat": 4,
  "nbformat_minor": 0,
  "metadata": {
    "colab": {
      "name": "project_airbnb_booking.ipynb",
      "version": "0.3.2",
      "provenance": [],
      "collapsed_sections": []
    },
    "kernelspec": {
      "name": "python3",
      "display_name": "Python 3"
    },
    "accelerator": "GPU"
  },
  "cells": [
    {
      "metadata": {
        "id": "XJSQStwj9oXt",
        "colab_type": "text"
      },
      "cell_type": "markdown",
      "source": [
        "[![Open In Colab](https://colab.research.google.com/assets/colab-badge.svg)](https://colab.research.google.com/drive/1Yo18y5sNM00HKRIhsJI-mDjPPJTnvpld)"
      ]
    },
    {
      "metadata": {
        "id": "RV5E3FYZ30oc",
        "colab_type": "text"
      },
      "cell_type": "markdown",
      "source": [
        "\n",
        "## <center> \"Прогнозирование бронирований на AirBnB\" </center>\n"
      ]
    },
    {
      "metadata": {
        "id": "hsMaHKE530oe",
        "colab_type": "text"
      },
      "cell_type": "markdown",
      "source": [
        "**План исследования**\n",
        " - Описание набора данных и признаков\n",
        " - Первичный анализ признаков\n",
        " - Первичный визуальный анализ признаков\n",
        " - Закономерности, \"инсайты\", особенности данных\n",
        " - Предобработка данных\n",
        " - Создание новых признаков и описание этого процесса\n",
        " - Кросс-валидация, подбор параметров\n",
        " - Построение кривых валидации и обучения \n",
        " - Прогноз для тестовой или отложенной выборки\n",
        " - Оценка модели с описанием выбранной метрики\n",
        " - Выводы\n",
        " \n",
        " Более детальное описание [тут](https://www.kaggle.com/c/airbnb-recruiting-new-user-bookings/data)."
      ]
    },
    {
      "metadata": {
        "id": "3I9VoxOP30of",
        "colab_type": "text"
      },
      "cell_type": "markdown",
      "source": [
        "#### Импортируем необходимые библиотеки"
      ]
    },
    {
      "metadata": {
        "id": "8C7GycYE30og",
        "colab_type": "code",
        "colab": {}
      },
      "cell_type": "code",
      "source": [
        "import numpy as np\n",
        "import pandas as pd\n",
        "from matplotlib import pyplot as plt\n",
        "import seaborn as sns\n",
        "from sklearn.preprocessing import LabelBinarizer, StandardScaler, LabelEncoder, OneHotEncoder\n",
        "from sklearn.model_selection import train_test_split, GridSearchCV, validation_curve\n",
        "from sklearn.metrics import make_scorer\n",
        "from scipy.sparse import csr_matrix, hstack, vstack\n",
        "import pickle\n",
        "from sklearn.model_selection import learning_curve\n",
        "import json\n",
        "import getpass\n",
        "\n",
        "%matplotlib inline\n",
        "# figure size in inches\n",
        "import warnings\n",
        "warnings.filterwarnings(module='sklearn*', action='ignore', category=DeprecationWarning)\n",
        "plt.rcParams['figure.figsize'] = 16,9"
      ],
      "execution_count": 0,
      "outputs": []
    },
    {
      "metadata": {
        "id": "SU6EtF2v30ok",
        "colab_type": "code",
        "colab": {}
      },
      "cell_type": "code",
      "source": [
        "def create_submission(predict, id_vals, enc, filename):\n",
        "    # Для каждого ID пользователя отбираем 5 классов с максимальной предсказанной вероятностью\n",
        "    ids = []  # спикок ID пользователей\n",
        "    cts = []  # список стран\n",
        "    for i in range(len(id_vals)):\n",
        "        idx = id_vals[i]\n",
        "        ids += [idx] * 5\n",
        "        cts += enc.inverse_transform(np.argsort(predict[i])[::-1])[:5].tolist()\n",
        "    #Generate submission\n",
        "    sub = pd.DataFrame(np.column_stack((ids, cts)), columns=['id', 'country'])\n",
        "    sub.to_csv(filename, index=False) "
      ],
      "execution_count": 0,
      "outputs": []
    },
    {
      "metadata": {
        "id": "tLUwsRH630oo",
        "colab_type": "code",
        "colab": {}
      },
      "cell_type": "code",
      "source": [
        "# Реализация вычисления целевой метрики NDCG\n",
        "def my_ndcg(y_true, y_predict, k=5):\n",
        "    ndcg = 0\n",
        "    n = 0\n",
        "    for y_true_val, y_predict_vec in zip(y_true, y_predict):\n",
        "        #print(y_true_val, y_predict_vec)\n",
        "        order = np.argsort(y_predict_vec)[::-1][:k]\n",
        "        #print(order)\n",
        "        for idx, y_predict_val in enumerate(order):\n",
        "            if y_true_val == y_predict_val:\n",
        "                #print(1 / np.log2(idx + 2))\n",
        "                ndcg += 1 / np.log2(idx + 2)\n",
        "                break\n",
        "        n += 1\n",
        "    #print(ndcg)\n",
        "    return ndcg / n"
      ],
      "execution_count": 0,
      "outputs": []
    },
    {
      "metadata": {
        "id": "Wz-SWRH230os",
        "colab_type": "code",
        "colab": {}
      },
      "cell_type": "code",
      "source": [
        "ndcg_scorer = make_scorer(my_ndcg, needs_proba=True, k=5)"
      ],
      "execution_count": 0,
      "outputs": []
    },
    {
      "metadata": {
        "id": "G7TH8k3c30oy",
        "colab_type": "text"
      },
      "cell_type": "markdown",
      "source": [
        "###  Часть 1. Описание набора данных и признаков"
      ]
    },
    {
      "metadata": {
        "id": "KU9_745E30o0",
        "colab_type": "text"
      },
      "cell_type": "markdown",
      "source": [
        "#### Введение"
      ]
    },
    {
      "metadata": {
        "id": "1fHAl0pc30o2",
        "colab_type": "text"
      },
      "cell_type": "markdown",
      "source": [
        "AirBnB - это онлайн-площадка для размещения, поиска и краткосрочной аренды частного жилья по всему миру. Пользователи Airbnb имеют возможность сдавать путешественникам в аренду своё жильё целиком или частично. Сайт предоставляет платформу для установления контакта между хозяином и гостем, а также отвечает за обработку транзакций."
      ]
    },
    {
      "metadata": {
        "id": "IJQOwO5R30o4",
        "colab_type": "text"
      },
      "cell_type": "markdown",
      "source": [
        "Данный индивидуальный проект посвящен задаче прогнозирования страны первого бронирования жилья для новых пользователей AirBnb (*задача многоклассовой классификации*). Ценность этой задачи для бизнеса состоит в том, что правильное прогнозирование места первого бронирования позволит делать пользователям персонализированные предложения (баннеры на сайте, рассылка по почте). Это в свою очередь должно снизить среднее время от регистрации нового пользователя до первого бронирования, что повысит конверсию пользователей и благотворно скажется на финансовом результате компании."
      ]
    },
    {
      "metadata": {
        "id": "XkEdy5Pa30o6",
        "colab_type": "text"
      },
      "cell_type": "markdown",
      "source": [
        "#### Описание набора данных и признаков"
      ]
    },
    {
      "metadata": {
        "id": "o8Vf4CK830o8",
        "colab_type": "text"
      },
      "cell_type": "markdown",
      "source": [
        "Набор данных получен из Kaggle ([Airbnb New User Bookings](https://www.kaggle.com/c/airbnb-recruiting-new-user-bookings/data)) и включает несколько файлов с данными о пользователях (вкл. социально-демографические данные) и пользовательских веб-сессиях:\n",
        "* *train_users.csv* - обучающая выборка данных о пользователях.\n",
        "\n",
        "|               Переменная | Описание |\n",
        "|--------------------------|----------|\n",
        "|                       id | ID пользователя |\n",
        "|     date_account_created | Дата создания аккаунта на airbnb |\n",
        "|   timestamp_first_active | Дата и время первой активности на сайте airbnb.com |\n",
        "|       date_first_booking | Дата первого бронирования |\n",
        "|                   gender | Пол |\n",
        "|                      age | Возраст |\n",
        "|            signup_method | Способ регистрации (базовый, профиль facebook или google) |\n",
        "|              signup_flow | Страница, с которой пользователь перешел для регистрации |\n",
        "|                 language | Предпочитаемый язык |\n",
        "|        affiliate_channel | Тип рекламы |\n",
        "|       affiliate_provider | Провайдер рекламы |\n",
        "|  first_affiliate_tracked | Первый тип рекламы, с которым взаимодействовал пользователь перед регистрацией |\n",
        "|               signup_app | Приложение, с которого была регистрация |\n",
        "|        first_device_type | Тип первого девайса пользователя |\n",
        "|            first_browser | Первый браузер пользователя |\n",
        "|  **country_destination** | **Целевая переменная** - страна первого бронирования |\n",
        "\n",
        "* *test_users.csv* - тестовая выборка данных о пользователях. Структура аналогична train_users.csv за исключением отсутсвия целевой переменной country_destination.\n",
        "\n",
        "* *sessions.csv* - данные о web-сессиях пользователей (клики, обновление wish-листов, поиск и др.). Будет использоваться для обогащения основных признаков по пользоватлям.\n",
        "\n",
        "|               Переменная |          Описание |\n",
        "|--------------------------|-------------------|\n",
        "|                       id |   ID пользователя |\n",
        "|                   action | Действие на сайте |\n",
        "|              action_type | Тип действия |\n",
        "|            action_detail | Детализация действия |\n",
        "|            device_type | Тип девайса |\n",
        "|            secs_elapsed | Длительность действия |\n"
      ]
    },
    {
      "metadata": {
        "id": "mN8eIqil30o_",
        "colab_type": "text"
      },
      "cell_type": "markdown",
      "source": [
        "#### Общие замечания по исходным данным"
      ]
    },
    {
      "metadata": {
        "id": "owT1sYOR30pD",
        "colab_type": "text"
      },
      "cell_type": "markdown",
      "source": [
        "* Все пользователи в предоставленных данных из США.\n",
        "* Имеются 12 возможных значений целевой переменной - страны первого бронирования: US (США), FR (Франция), CA (Канада), GB (Великобритания), ES (Испания), IT (Италия), PT (Португалия), NL (Нидерланды), DE (Германия), AU (Австралия), NDF (no destination found), and 'other' (другое).\n",
        "* 'other' (другое) - означает, что пользователь сделал бронирование, но страна бронирования не входит в приведенный выше список. А 'NDF' означает, что первого бронирования не было.\n",
        "* Тестовые и обучающие наборы данных не пересекаются по датам. В тестовом наборе данных нужно спрогнозироать страну первого бронирования для пользователей, у которых первые активности на airbnb (регистрация, поиск, клики) состоялись после 01.07.2014."
      ]
    },
    {
      "metadata": {
        "id": "e5402i6I30pF",
        "colab_type": "text"
      },
      "cell_type": "markdown",
      "source": [
        "###  Часть 2. Первичный анализ признаков"
      ]
    },
    {
      "metadata": {
        "id": "O_3JMEOP30pK",
        "colab_type": "text"
      },
      "cell_type": "markdown",
      "source": [
        "#### Загружаем исходные данные"
      ]
    },
    {
      "metadata": {
        "id": "Na_6CjXn6UVh",
        "colab_type": "code",
        "outputId": "ca7fd28b-2a33-4434-dcdc-5cbcddf6d655",
        "colab": {
          "base_uri": "https://localhost:8080/",
          "height": 54
        }
      },
      "cell_type": "code",
      "source": [
        "login = None\n",
        "password = None\n",
        "while(not(login and password)):\n",
        "  login = input(\"Login [%s]: \" % getpass.getuser())\n",
        "  password = getpass.getpass('Password:')"
      ],
      "execution_count": 0,
      "outputs": [
        {
          "output_type": "stream",
          "text": [
            "Login [root]: marat210499@yandex.ru\n",
            "Password:··········\n"
          ],
          "name": "stdout"
        }
      ]
    },
    {
      "metadata": {
        "id": "lBFDYo5E4i_s",
        "colab_type": "code",
        "outputId": "57d63667-d8c0-4903-c611-f2a04f214d0f",
        "colab": {
          "base_uri": "https://localhost:8080/",
          "height": 910
        }
      },
      "cell_type": "code",
      "source": [
        "!pip install kaggle-cli\n",
        "!kg config -g -u $login -p $password -c airbnb-recruiting-new-user-bookings\n",
        "!kg download"
      ],
      "execution_count": 0,
      "outputs": [
        {
          "output_type": "stream",
          "text": [
            "Requirement already satisfied: kaggle-cli in /usr/local/lib/python3.6/dist-packages (0.12.13)\n",
            "Requirement already satisfied: progressbar2<3.35,>=3.34.3 in /usr/local/lib/python3.6/dist-packages (from kaggle-cli) (3.34.3)\n",
            "Requirement already satisfied: configparser in /usr/local/lib/python3.6/dist-packages (from kaggle-cli) (3.5.0)\n",
            "Requirement already satisfied: MechanicalSoup<0.9,>=0.7.0 in /usr/local/lib/python3.6/dist-packages (from kaggle-cli) (0.8.0)\n",
            "Requirement already satisfied: cssselect<1.1,>=1.0.1 in /usr/local/lib/python3.6/dist-packages (from kaggle-cli) (1.0.3)\n",
            "Requirement already satisfied: lxml<4.1,>=4.0.0 in /usr/local/lib/python3.6/dist-packages (from kaggle-cli) (4.0.0)\n",
            "Requirement already satisfied: beautifulsoup4<4.7,>=4.6.0 in /usr/local/lib/python3.6/dist-packages (from kaggle-cli) (4.6.3)\n",
            "Requirement already satisfied: cliff<2.9,>=2.8.0 in /usr/local/lib/python3.6/dist-packages (from kaggle-cli) (2.8.2)\n",
            "Requirement already satisfied: python-utils>=2.1.0 in /usr/local/lib/python3.6/dist-packages (from progressbar2<3.35,>=3.34.3->kaggle-cli) (2.3.0)\n",
            "Requirement already satisfied: six>=1.4 in /usr/local/lib/python3.6/dist-packages (from MechanicalSoup<0.9,>=0.7.0->kaggle-cli) (1.11.0)\n",
            "Requirement already satisfied: requests>=2.0 in /usr/local/lib/python3.6/dist-packages (from MechanicalSoup<0.9,>=0.7.0->kaggle-cli) (2.18.4)\n",
            "Requirement already satisfied: cmd2>=0.6.7; python_version >= \"3.0\" in /usr/local/lib/python3.6/dist-packages (from cliff<2.9,>=2.8.0->kaggle-cli) (0.9.6)\n",
            "Requirement already satisfied: PyYAML>=3.10.0 in /usr/local/lib/python3.6/dist-packages (from cliff<2.9,>=2.8.0->kaggle-cli) (3.13)\n",
            "Requirement already satisfied: PrettyTable<0.8,>=0.7.1 in /usr/local/lib/python3.6/dist-packages (from cliff<2.9,>=2.8.0->kaggle-cli) (0.7.2)\n",
            "Requirement already satisfied: stevedore>=1.20.0 in /usr/local/lib/python3.6/dist-packages (from cliff<2.9,>=2.8.0->kaggle-cli) (1.30.0)\n",
            "Requirement already satisfied: pyparsing>=2.1.0 in /usr/local/lib/python3.6/dist-packages (from cliff<2.9,>=2.8.0->kaggle-cli) (2.3.0)\n",
            "Requirement already satisfied: pbr!=2.1.0,>=2.0.0 in /usr/local/lib/python3.6/dist-packages (from cliff<2.9,>=2.8.0->kaggle-cli) (5.1.1)\n",
            "Requirement already satisfied: chardet<3.1.0,>=3.0.2 in /usr/local/lib/python3.6/dist-packages (from requests>=2.0->MechanicalSoup<0.9,>=0.7.0->kaggle-cli) (3.0.4)\n",
            "Requirement already satisfied: urllib3<1.23,>=1.21.1 in /usr/local/lib/python3.6/dist-packages (from requests>=2.0->MechanicalSoup<0.9,>=0.7.0->kaggle-cli) (1.22)\n",
            "Requirement already satisfied: idna<2.7,>=2.5 in /usr/local/lib/python3.6/dist-packages (from requests>=2.0->MechanicalSoup<0.9,>=0.7.0->kaggle-cli) (2.6)\n",
            "Requirement already satisfied: certifi>=2017.4.17 in /usr/local/lib/python3.6/dist-packages (from requests>=2.0->MechanicalSoup<0.9,>=0.7.0->kaggle-cli) (2018.11.29)\n",
            "Requirement already satisfied: colorama in /usr/local/lib/python3.6/dist-packages (from cmd2>=0.6.7; python_version >= \"3.0\"->cliff<2.9,>=2.8.0->kaggle-cli) (0.4.1)\n",
            "Requirement already satisfied: pyperclip>=1.5.27 in /usr/local/lib/python3.6/dist-packages (from cmd2>=0.6.7; python_version >= \"3.0\"->cliff<2.9,>=2.8.0->kaggle-cli) (1.7.0)\n",
            "Requirement already satisfied: wcwidth>=0.1.7 in /usr/local/lib/python3.6/dist-packages (from cmd2>=0.6.7; python_version >= \"3.0\"->cliff<2.9,>=2.8.0->kaggle-cli) (0.1.7)\n",
            "Requirement already satisfied: attrs>=16.3.0 in /usr/local/lib/python3.6/dist-packages (from cmd2>=0.6.7; python_version >= \"3.0\"->cliff<2.9,>=2.8.0->kaggle-cli) (18.2.0)\n",
            "/usr/local/lib/python3.6/dist-packages/mechanicalsoup/browser.py:37: UserWarning: No parser was explicitly specified, so I'm using the best available HTML parser for this system (\"lxml\"). This usually isn't a problem, but if you run this code on another system, or in a different virtual environment, it may use a different parser and behave differently.\n",
            "\n",
            "The code that caused this warning is on line 37 of the file /usr/local/lib/python3.6/dist-packages/mechanicalsoup/browser.py. To get rid of this warning, pass the additional argument 'features=\"lxml\"' to the BeautifulSoup constructor.\n",
            "\n",
            "  response.content, **soup_config)\n",
            "downloading https://www.kaggle.com/c/airbnb-recruiting-new-user-bookings/download/countries.csv.zip\n",
            "\n",
            "countries.csv.zip already downloaded !\n",
            "downloading https://www.kaggle.com/c/airbnb-recruiting-new-user-bookings/download/age_gender_bkts.csv.zip\n",
            "\n",
            "age_gender_bkts.csv.zip already downloaded !\n",
            "downloading https://www.kaggle.com/c/airbnb-recruiting-new-user-bookings/download/test_users.csv.zip\n",
            "\n",
            "test_users.csv.zip already downloaded !\n",
            "downloading https://www.kaggle.com/c/airbnb-recruiting-new-user-bookings/download/sessions.csv.zip\n",
            "\n",
            "sessions.csv.zip already downloaded !\n",
            "downloading https://www.kaggle.com/c/airbnb-recruiting-new-user-bookings/download/sample_submission_NDF.csv.zip\n",
            "\n",
            "sample_submission_NDF.csv.zip already downloaded !\n",
            "downloading https://www.kaggle.com/c/airbnb-recruiting-new-user-bookings/download/train_users_2.csv.zip\n",
            "\n",
            "train_users_2.csv.zip already downloaded !\n"
          ],
          "name": "stdout"
        }
      ]
    },
    {
      "metadata": {
        "id": "iED2yi_0jGsu",
        "colab_type": "code",
        "outputId": "3ca6b58e-63b1-4c9c-f487-c62ac889b3d6",
        "colab": {
          "base_uri": "https://localhost:8080/",
          "height": 254
        }
      },
      "cell_type": "code",
      "source": [
        "!unzip -n \\*.zip"
      ],
      "execution_count": 0,
      "outputs": [
        {
          "output_type": "stream",
          "text": [
            "Archive:  age_gender_bkts.csv.zip\n",
            "\n",
            "Archive:  train_users_2.csv.zip\n",
            "\n",
            "Archive:  countries.csv.zip\n",
            "\n",
            "Archive:  sample_submission_NDF.csv.zip\n",
            "\n",
            "Archive:  test_users.csv.zip\n",
            "\n",
            "Archive:  sessions.csv.zip\n",
            "\n",
            "6 archives were successfully processed.\n"
          ],
          "name": "stdout"
        }
      ]
    },
    {
      "metadata": {
        "id": "26KT6VEq30pK",
        "colab_type": "code",
        "colab": {}
      },
      "cell_type": "code",
      "source": [
        "df_train = pd.read_csv('train_users_2.csv')\n",
        "df_test = pd.read_csv('test_users.csv')"
      ],
      "execution_count": 0,
      "outputs": []
    },
    {
      "metadata": {
        "id": "LmudK8Mb30pN",
        "colab_type": "code",
        "outputId": "62096e16-f335-483e-8481-57b52eb326f7",
        "colab": {
          "base_uri": "https://localhost:8080/",
          "height": 35
        }
      },
      "cell_type": "code",
      "source": [
        "df_train.shape, df_test.shape"
      ],
      "execution_count": 0,
      "outputs": [
        {
          "output_type": "execute_result",
          "data": {
            "text/plain": [
              "((213451, 16), (62096, 15))"
            ]
          },
          "metadata": {
            "tags": []
          },
          "execution_count": 9
        }
      ]
    },
    {
      "metadata": {
        "id": "xOImHMma30pS",
        "colab_type": "text"
      },
      "cell_type": "markdown",
      "source": [
        "Итак, у нас имеются данные по *213451* пользователям в обучающей выборке и *62096* пользователям в тестовой."
      ]
    },
    {
      "metadata": {
        "id": "27HVzt4330pT",
        "colab_type": "text"
      },
      "cell_type": "markdown",
      "source": [
        "#### Первичный осмотр данных"
      ]
    },
    {
      "metadata": {
        "id": "hQ4mK8eV30pV",
        "colab_type": "code",
        "outputId": "8afc2656-1753-43f2-b893-e0cd26b72369",
        "colab": {
          "base_uri": "https://localhost:8080/",
          "height": 253
        }
      },
      "cell_type": "code",
      "source": [
        "df_train.head()"
      ],
      "execution_count": 0,
      "outputs": [
        {
          "output_type": "execute_result",
          "data": {
            "text/html": [
              "<div>\n",
              "<style scoped>\n",
              "    .dataframe tbody tr th:only-of-type {\n",
              "        vertical-align: middle;\n",
              "    }\n",
              "\n",
              "    .dataframe tbody tr th {\n",
              "        vertical-align: top;\n",
              "    }\n",
              "\n",
              "    .dataframe thead th {\n",
              "        text-align: right;\n",
              "    }\n",
              "</style>\n",
              "<table border=\"1\" class=\"dataframe\">\n",
              "  <thead>\n",
              "    <tr style=\"text-align: right;\">\n",
              "      <th></th>\n",
              "      <th>id</th>\n",
              "      <th>date_account_created</th>\n",
              "      <th>timestamp_first_active</th>\n",
              "      <th>date_first_booking</th>\n",
              "      <th>gender</th>\n",
              "      <th>age</th>\n",
              "      <th>signup_method</th>\n",
              "      <th>signup_flow</th>\n",
              "      <th>language</th>\n",
              "      <th>affiliate_channel</th>\n",
              "      <th>affiliate_provider</th>\n",
              "      <th>first_affiliate_tracked</th>\n",
              "      <th>signup_app</th>\n",
              "      <th>first_device_type</th>\n",
              "      <th>first_browser</th>\n",
              "      <th>country_destination</th>\n",
              "    </tr>\n",
              "  </thead>\n",
              "  <tbody>\n",
              "    <tr>\n",
              "      <th>0</th>\n",
              "      <td>gxn3p5htnn</td>\n",
              "      <td>2010-06-28</td>\n",
              "      <td>20090319043255</td>\n",
              "      <td>NaN</td>\n",
              "      <td>-unknown-</td>\n",
              "      <td>NaN</td>\n",
              "      <td>facebook</td>\n",
              "      <td>0</td>\n",
              "      <td>en</td>\n",
              "      <td>direct</td>\n",
              "      <td>direct</td>\n",
              "      <td>untracked</td>\n",
              "      <td>Web</td>\n",
              "      <td>Mac Desktop</td>\n",
              "      <td>Chrome</td>\n",
              "      <td>NDF</td>\n",
              "    </tr>\n",
              "    <tr>\n",
              "      <th>1</th>\n",
              "      <td>820tgsjxq7</td>\n",
              "      <td>2011-05-25</td>\n",
              "      <td>20090523174809</td>\n",
              "      <td>NaN</td>\n",
              "      <td>MALE</td>\n",
              "      <td>38.0</td>\n",
              "      <td>facebook</td>\n",
              "      <td>0</td>\n",
              "      <td>en</td>\n",
              "      <td>seo</td>\n",
              "      <td>google</td>\n",
              "      <td>untracked</td>\n",
              "      <td>Web</td>\n",
              "      <td>Mac Desktop</td>\n",
              "      <td>Chrome</td>\n",
              "      <td>NDF</td>\n",
              "    </tr>\n",
              "    <tr>\n",
              "      <th>2</th>\n",
              "      <td>4ft3gnwmtx</td>\n",
              "      <td>2010-09-28</td>\n",
              "      <td>20090609231247</td>\n",
              "      <td>2010-08-02</td>\n",
              "      <td>FEMALE</td>\n",
              "      <td>56.0</td>\n",
              "      <td>basic</td>\n",
              "      <td>3</td>\n",
              "      <td>en</td>\n",
              "      <td>direct</td>\n",
              "      <td>direct</td>\n",
              "      <td>untracked</td>\n",
              "      <td>Web</td>\n",
              "      <td>Windows Desktop</td>\n",
              "      <td>IE</td>\n",
              "      <td>US</td>\n",
              "    </tr>\n",
              "    <tr>\n",
              "      <th>3</th>\n",
              "      <td>bjjt8pjhuk</td>\n",
              "      <td>2011-12-05</td>\n",
              "      <td>20091031060129</td>\n",
              "      <td>2012-09-08</td>\n",
              "      <td>FEMALE</td>\n",
              "      <td>42.0</td>\n",
              "      <td>facebook</td>\n",
              "      <td>0</td>\n",
              "      <td>en</td>\n",
              "      <td>direct</td>\n",
              "      <td>direct</td>\n",
              "      <td>untracked</td>\n",
              "      <td>Web</td>\n",
              "      <td>Mac Desktop</td>\n",
              "      <td>Firefox</td>\n",
              "      <td>other</td>\n",
              "    </tr>\n",
              "    <tr>\n",
              "      <th>4</th>\n",
              "      <td>87mebub9p4</td>\n",
              "      <td>2010-09-14</td>\n",
              "      <td>20091208061105</td>\n",
              "      <td>2010-02-18</td>\n",
              "      <td>-unknown-</td>\n",
              "      <td>41.0</td>\n",
              "      <td>basic</td>\n",
              "      <td>0</td>\n",
              "      <td>en</td>\n",
              "      <td>direct</td>\n",
              "      <td>direct</td>\n",
              "      <td>untracked</td>\n",
              "      <td>Web</td>\n",
              "      <td>Mac Desktop</td>\n",
              "      <td>Chrome</td>\n",
              "      <td>US</td>\n",
              "    </tr>\n",
              "  </tbody>\n",
              "</table>\n",
              "</div>"
            ],
            "text/plain": [
              "           id date_account_created  timestamp_first_active date_first_booking  \\\n",
              "0  gxn3p5htnn           2010-06-28          20090319043255                NaN   \n",
              "1  820tgsjxq7           2011-05-25          20090523174809                NaN   \n",
              "2  4ft3gnwmtx           2010-09-28          20090609231247         2010-08-02   \n",
              "3  bjjt8pjhuk           2011-12-05          20091031060129         2012-09-08   \n",
              "4  87mebub9p4           2010-09-14          20091208061105         2010-02-18   \n",
              "\n",
              "      gender   age signup_method  signup_flow language affiliate_channel  \\\n",
              "0  -unknown-   NaN      facebook            0       en            direct   \n",
              "1       MALE  38.0      facebook            0       en               seo   \n",
              "2     FEMALE  56.0         basic            3       en            direct   \n",
              "3     FEMALE  42.0      facebook            0       en            direct   \n",
              "4  -unknown-  41.0         basic            0       en            direct   \n",
              "\n",
              "  affiliate_provider first_affiliate_tracked signup_app first_device_type  \\\n",
              "0             direct               untracked        Web       Mac Desktop   \n",
              "1             google               untracked        Web       Mac Desktop   \n",
              "2             direct               untracked        Web   Windows Desktop   \n",
              "3             direct               untracked        Web       Mac Desktop   \n",
              "4             direct               untracked        Web       Mac Desktop   \n",
              "\n",
              "  first_browser country_destination  \n",
              "0        Chrome                 NDF  \n",
              "1        Chrome                 NDF  \n",
              "2            IE                  US  \n",
              "3       Firefox               other  \n",
              "4        Chrome                  US  "
            ]
          },
          "metadata": {
            "tags": []
          },
          "execution_count": 10
        }
      ]
    },
    {
      "metadata": {
        "id": "XdN77jCh30pY",
        "colab_type": "code",
        "outputId": "414e579b-6e2f-439a-87ac-83db71dbd6d8",
        "colab": {
          "base_uri": "https://localhost:8080/",
          "height": 287
        }
      },
      "cell_type": "code",
      "source": [
        "df_test.head()"
      ],
      "execution_count": 0,
      "outputs": [
        {
          "output_type": "execute_result",
          "data": {
            "text/html": [
              "<div>\n",
              "<style scoped>\n",
              "    .dataframe tbody tr th:only-of-type {\n",
              "        vertical-align: middle;\n",
              "    }\n",
              "\n",
              "    .dataframe tbody tr th {\n",
              "        vertical-align: top;\n",
              "    }\n",
              "\n",
              "    .dataframe thead th {\n",
              "        text-align: right;\n",
              "    }\n",
              "</style>\n",
              "<table border=\"1\" class=\"dataframe\">\n",
              "  <thead>\n",
              "    <tr style=\"text-align: right;\">\n",
              "      <th></th>\n",
              "      <th>id</th>\n",
              "      <th>date_account_created</th>\n",
              "      <th>timestamp_first_active</th>\n",
              "      <th>date_first_booking</th>\n",
              "      <th>gender</th>\n",
              "      <th>age</th>\n",
              "      <th>signup_method</th>\n",
              "      <th>signup_flow</th>\n",
              "      <th>language</th>\n",
              "      <th>affiliate_channel</th>\n",
              "      <th>affiliate_provider</th>\n",
              "      <th>first_affiliate_tracked</th>\n",
              "      <th>signup_app</th>\n",
              "      <th>first_device_type</th>\n",
              "      <th>first_browser</th>\n",
              "    </tr>\n",
              "  </thead>\n",
              "  <tbody>\n",
              "    <tr>\n",
              "      <th>0</th>\n",
              "      <td>5uwns89zht</td>\n",
              "      <td>2014-07-01</td>\n",
              "      <td>20140701000006</td>\n",
              "      <td>NaN</td>\n",
              "      <td>FEMALE</td>\n",
              "      <td>35.0</td>\n",
              "      <td>facebook</td>\n",
              "      <td>0</td>\n",
              "      <td>en</td>\n",
              "      <td>direct</td>\n",
              "      <td>direct</td>\n",
              "      <td>untracked</td>\n",
              "      <td>Moweb</td>\n",
              "      <td>iPhone</td>\n",
              "      <td>Mobile Safari</td>\n",
              "    </tr>\n",
              "    <tr>\n",
              "      <th>1</th>\n",
              "      <td>jtl0dijy2j</td>\n",
              "      <td>2014-07-01</td>\n",
              "      <td>20140701000051</td>\n",
              "      <td>NaN</td>\n",
              "      <td>-unknown-</td>\n",
              "      <td>NaN</td>\n",
              "      <td>basic</td>\n",
              "      <td>0</td>\n",
              "      <td>en</td>\n",
              "      <td>direct</td>\n",
              "      <td>direct</td>\n",
              "      <td>untracked</td>\n",
              "      <td>Moweb</td>\n",
              "      <td>iPhone</td>\n",
              "      <td>Mobile Safari</td>\n",
              "    </tr>\n",
              "    <tr>\n",
              "      <th>2</th>\n",
              "      <td>xx0ulgorjt</td>\n",
              "      <td>2014-07-01</td>\n",
              "      <td>20140701000148</td>\n",
              "      <td>NaN</td>\n",
              "      <td>-unknown-</td>\n",
              "      <td>NaN</td>\n",
              "      <td>basic</td>\n",
              "      <td>0</td>\n",
              "      <td>en</td>\n",
              "      <td>direct</td>\n",
              "      <td>direct</td>\n",
              "      <td>linked</td>\n",
              "      <td>Web</td>\n",
              "      <td>Windows Desktop</td>\n",
              "      <td>Chrome</td>\n",
              "    </tr>\n",
              "    <tr>\n",
              "      <th>3</th>\n",
              "      <td>6c6puo6ix0</td>\n",
              "      <td>2014-07-01</td>\n",
              "      <td>20140701000215</td>\n",
              "      <td>NaN</td>\n",
              "      <td>-unknown-</td>\n",
              "      <td>NaN</td>\n",
              "      <td>basic</td>\n",
              "      <td>0</td>\n",
              "      <td>en</td>\n",
              "      <td>direct</td>\n",
              "      <td>direct</td>\n",
              "      <td>linked</td>\n",
              "      <td>Web</td>\n",
              "      <td>Windows Desktop</td>\n",
              "      <td>IE</td>\n",
              "    </tr>\n",
              "    <tr>\n",
              "      <th>4</th>\n",
              "      <td>czqhjk3yfe</td>\n",
              "      <td>2014-07-01</td>\n",
              "      <td>20140701000305</td>\n",
              "      <td>NaN</td>\n",
              "      <td>-unknown-</td>\n",
              "      <td>NaN</td>\n",
              "      <td>basic</td>\n",
              "      <td>0</td>\n",
              "      <td>en</td>\n",
              "      <td>direct</td>\n",
              "      <td>direct</td>\n",
              "      <td>untracked</td>\n",
              "      <td>Web</td>\n",
              "      <td>Mac Desktop</td>\n",
              "      <td>Safari</td>\n",
              "    </tr>\n",
              "  </tbody>\n",
              "</table>\n",
              "</div>"
            ],
            "text/plain": [
              "           id date_account_created  timestamp_first_active  \\\n",
              "0  5uwns89zht           2014-07-01          20140701000006   \n",
              "1  jtl0dijy2j           2014-07-01          20140701000051   \n",
              "2  xx0ulgorjt           2014-07-01          20140701000148   \n",
              "3  6c6puo6ix0           2014-07-01          20140701000215   \n",
              "4  czqhjk3yfe           2014-07-01          20140701000305   \n",
              "\n",
              "   date_first_booking     gender   age signup_method  signup_flow language  \\\n",
              "0                 NaN     FEMALE  35.0      facebook            0       en   \n",
              "1                 NaN  -unknown-   NaN         basic            0       en   \n",
              "2                 NaN  -unknown-   NaN         basic            0       en   \n",
              "3                 NaN  -unknown-   NaN         basic            0       en   \n",
              "4                 NaN  -unknown-   NaN         basic            0       en   \n",
              "\n",
              "  affiliate_channel affiliate_provider first_affiliate_tracked signup_app  \\\n",
              "0            direct             direct               untracked      Moweb   \n",
              "1            direct             direct               untracked      Moweb   \n",
              "2            direct             direct                  linked        Web   \n",
              "3            direct             direct                  linked        Web   \n",
              "4            direct             direct               untracked        Web   \n",
              "\n",
              "  first_device_type  first_browser  \n",
              "0            iPhone  Mobile Safari  \n",
              "1            iPhone  Mobile Safari  \n",
              "2   Windows Desktop         Chrome  \n",
              "3   Windows Desktop             IE  \n",
              "4       Mac Desktop         Safari  "
            ]
          },
          "metadata": {
            "tags": []
          },
          "execution_count": 11
        }
      ]
    },
    {
      "metadata": {
        "id": "qRGvGRkd30pe",
        "colab_type": "text"
      },
      "cell_type": "markdown",
      "source": [
        "Выводы по первичному осмотру данных:\n",
        "* По крайней мере в двух признаках (date_first_booking и age) есть пропуски. Далее мы исследуем этот вопрос подробнее.\n",
        "* В наборе данных очень много категориальных признаков. Соответственно, далее их нужно будет преобразовывать.\n",
        "* Признак timestamp_first_active нужно преобразовать к нормальному типу timestamp."
      ]
    },
    {
      "metadata": {
        "id": "DobdMgUo30pg",
        "colab_type": "code",
        "colab": {}
      },
      "cell_type": "code",
      "source": [
        "# Создадим объединенный набор данных - будет полезно для некоторых дальнейших исследований\n",
        "df_all = pd.concat([df_train, df_test], axis=0, ignore_index=True)\n",
        "# Удалим из объединенного датасета ID пользователя - он пока не нужен\n",
        "df_all.drop('id', axis=1, inplace=True)"
      ],
      "execution_count": 0,
      "outputs": []
    },
    {
      "metadata": {
        "id": "74_gF4_Z30pj",
        "colab_type": "code",
        "outputId": "6c81cf94-5199-4362-83a6-1498ac70edee",
        "colab": {
          "base_uri": "https://localhost:8080/",
          "height": 381
        }
      },
      "cell_type": "code",
      "source": [
        "df_all.info()"
      ],
      "execution_count": 0,
      "outputs": [
        {
          "output_type": "stream",
          "text": [
            "<class 'pandas.core.frame.DataFrame'>\n",
            "RangeIndex: 275547 entries, 0 to 275546\n",
            "Data columns (total 15 columns):\n",
            "affiliate_channel          275547 non-null object\n",
            "affiliate_provider         275547 non-null object\n",
            "age                        158681 non-null float64\n",
            "country_destination        213451 non-null object\n",
            "date_account_created       275547 non-null object\n",
            "date_first_booking         88908 non-null object\n",
            "first_affiliate_tracked    269462 non-null object\n",
            "first_browser              275547 non-null object\n",
            "first_device_type          275547 non-null object\n",
            "gender                     275547 non-null object\n",
            "language                   275547 non-null object\n",
            "signup_app                 275547 non-null object\n",
            "signup_flow                275547 non-null int64\n",
            "signup_method              275547 non-null object\n",
            "timestamp_first_active     275547 non-null int64\n",
            "dtypes: float64(1), int64(2), object(12)\n",
            "memory usage: 31.5+ MB\n"
          ],
          "name": "stdout"
        }
      ]
    },
    {
      "metadata": {
        "id": "T7ZCklf130po",
        "colab_type": "text"
      },
      "cell_type": "markdown",
      "source": [
        "#### Профилирование категориальных переменных"
      ]
    },
    {
      "metadata": {
        "id": "ycyvfzjT30po",
        "colab_type": "text"
      },
      "cell_type": "markdown",
      "source": [
        "В нашем наборе данных много категориальных переменных. Давайте исследуем распределение их значений."
      ]
    },
    {
      "metadata": {
        "id": "_jd-wvBj30pp",
        "colab_type": "code",
        "colab": {}
      },
      "cell_type": "code",
      "source": [
        "categorical_features = [\n",
        "    'affiliate_channel',\n",
        "    'affiliate_provider',\n",
        "    'country_destination',\n",
        "    'first_affiliate_tracked',\n",
        "    'first_browser',\n",
        "    'first_device_type',\n",
        "    'gender',\n",
        "    'language',\n",
        "    'signup_app',\n",
        "    'signup_method'\n",
        "]\n",
        "\n",
        "for categorical_feature in categorical_features:\n",
        "    df_all[categorical_feature] = df_all[categorical_feature].astype('category')"
      ],
      "execution_count": 0,
      "outputs": []
    },
    {
      "metadata": {
        "scrolled": false,
        "id": "IaKJcD9J30pt",
        "colab_type": "code",
        "outputId": "4d941ad6-0944-4ab1-d728-8253844a99cd",
        "colab": {
          "base_uri": "https://localhost:8080/",
          "height": 3781
        }
      },
      "cell_type": "code",
      "source": [
        "for cat_feat in categorical_features:\n",
        "    heading = \"Profile for {}\".format(cat_feat)\n",
        "    print(\"*\" * len(heading))\n",
        "    print(heading)\n",
        "    print(\"*\" * len(heading))\n",
        "    print(df_all[cat_feat].value_counts())\n",
        "    print(\"\\n\")"
      ],
      "execution_count": 0,
      "outputs": [
        {
          "output_type": "stream",
          "text": [
            "*****************************\n",
            "Profile for affiliate_channel\n",
            "*****************************\n",
            "direct           181571\n",
            "sem-brand         36439\n",
            "sem-non-brand     20075\n",
            "seo               14362\n",
            "other              9547\n",
            "api                8167\n",
            "content            4118\n",
            "remarketing        1268\n",
            "Name: affiliate_channel, dtype: int64\n",
            "\n",
            "\n",
            "******************************\n",
            "Profile for affiliate_provider\n",
            "******************************\n",
            "direct                 181270\n",
            "google                  65956\n",
            "other                   13036\n",
            "facebook                 3996\n",
            "bing                     3719\n",
            "craigslist               3475\n",
            "padmapper                 836\n",
            "vast                      830\n",
            "yahoo                     653\n",
            "facebook-open-graph       566\n",
            "gsp                       455\n",
            "meetup                    358\n",
            "email-marketing           270\n",
            "naver                      66\n",
            "baidu                      32\n",
            "yandex                     18\n",
            "wayn                        8\n",
            "daum                        3\n",
            "Name: affiliate_provider, dtype: int64\n",
            "\n",
            "\n",
            "*******************************\n",
            "Profile for country_destination\n",
            "*******************************\n",
            "NDF      124543\n",
            "US        62376\n",
            "other     10094\n",
            "FR         5023\n",
            "IT         2835\n",
            "GB         2324\n",
            "ES         2249\n",
            "CA         1428\n",
            "DE         1061\n",
            "NL          762\n",
            "AU          539\n",
            "PT          217\n",
            "Name: country_destination, dtype: int64\n",
            "\n",
            "\n",
            "***********************************\n",
            "Profile for first_affiliate_tracked\n",
            "***********************************\n",
            "untracked        143181\n",
            "linked            62064\n",
            "omg               54859\n",
            "tracked-other      6655\n",
            "product            2353\n",
            "marketing           281\n",
            "local ops            69\n",
            "Name: first_affiliate_tracked, dtype: int64\n",
            "\n",
            "\n",
            "*************************\n",
            "Profile for first_browser\n",
            "*************************\n",
            "Chrome                  78671\n",
            "Safari                  53302\n",
            "-unknown-               44394\n",
            "Firefox                 38665\n",
            "Mobile Safari           29636\n",
            "IE                      24744\n",
            "Chrome Mobile            3186\n",
            "Android Browser          1577\n",
            "AOL Explorer              254\n",
            "Opera                     228\n",
            "Silk                      172\n",
            "IE Mobile                 118\n",
            "BlackBerry Browser         89\n",
            "Chromium                   83\n",
            "Mobile Firefox             64\n",
            "Maxthon                    60\n",
            "Apple Mail                 45\n",
            "Sogou Explorer             43\n",
            "SiteKiosk                  27\n",
            "Iron                       24\n",
            "RockMelt                   24\n",
            "IceWeasel                  14\n",
            "Yandex.Browser             14\n",
            "Pale Moon                  13\n",
            "CometBird                  12\n",
            "SeaMonkey                  12\n",
            "Camino                      9\n",
            "Opera Mini                  8\n",
            "TenFourFox                  8\n",
            "wOSBrowser                  7\n",
            "CoolNovo                    6\n",
            "Avant Browser               4\n",
            "Opera Mobile                4\n",
            "Mozilla                     3\n",
            "Comodo Dragon               2\n",
            "TheWorld Browser            2\n",
            "Flock                       2\n",
            "SlimBrowser                 2\n",
            "Crazy Browser               2\n",
            "OmniWeb                     2\n",
            "PS Vita browser             1\n",
            "UC Browser                  1\n",
            "Stainless                   1\n",
            "Arora                       1\n",
            "Palm Pre web browser        1\n",
            "IceDragon                   1\n",
            "Outlook 2007                1\n",
            "Conkeror                    1\n",
            "Epic                        1\n",
            "Nintendo Browser            1\n",
            "Google Earth                1\n",
            "Googlebot                   1\n",
            "IBrowse                     1\n",
            "NetNewsWire                 1\n",
            "Kindle Browser              1\n",
            "Name: first_browser, dtype: int64\n",
            "\n",
            "\n",
            "*****************************\n",
            "Profile for first_device_type\n",
            "*****************************\n",
            "Mac Desktop           106328\n",
            "Windows Desktop        86948\n",
            "iPhone                 39814\n",
            "iPad                   18036\n",
            "Other/Unknown          11167\n",
            "Android Phone           9458\n",
            "Android Tablet          2098\n",
            "Desktop (Other)         1507\n",
            "SmartPhone (Other)       191\n",
            "Name: first_device_type, dtype: int64\n",
            "\n",
            "\n",
            "******************\n",
            "Profile for gender\n",
            "******************\n",
            "-unknown-    129480\n",
            "FEMALE        77524\n",
            "MALE          68209\n",
            "OTHER           334\n",
            "Name: gender, dtype: int64\n",
            "\n",
            "\n",
            "********************\n",
            "Profile for language\n",
            "********************\n",
            "en           265538\n",
            "zh             2634\n",
            "fr             1508\n",
            "es             1174\n",
            "ko             1116\n",
            "de              977\n",
            "it              633\n",
            "ru              508\n",
            "ja              345\n",
            "pt              322\n",
            "sv              176\n",
            "nl              134\n",
            "tr               92\n",
            "da               75\n",
            "pl               75\n",
            "no               51\n",
            "cs               49\n",
            "el               30\n",
            "th               28\n",
            "hu               25\n",
            "id               23\n",
            "fi               20\n",
            "ca                6\n",
            "is                5\n",
            "hr                2\n",
            "-unknown-         1\n",
            "Name: language, dtype: int64\n",
            "\n",
            "\n",
            "**********************\n",
            "Profile for signup_app\n",
            "**********************\n",
            "Web        219918\n",
            "iOS         34593\n",
            "Android     10519\n",
            "Moweb       10517\n",
            "Name: signup_app, dtype: int64\n",
            "\n",
            "\n",
            "*************************\n",
            "Profile for signup_method\n",
            "*************************\n",
            "basic       198222\n",
            "facebook     74864\n",
            "google        2438\n",
            "weibo           23\n",
            "Name: signup_method, dtype: int64\n",
            "\n",
            "\n"
          ],
          "name": "stdout"
        }
      ]
    },
    {
      "metadata": {
        "id": "OV7FRWMK30pz",
        "colab_type": "text"
      },
      "cell_type": "markdown",
      "source": [
        "Замечания по результатам профилирования категориальных признаков:\n",
        "* В некоторых признаках встречаются значения -unknown- - это очевидно пропущенные значению. Нужно принять это во внимание при очистке данных.\n",
        "* Распределение целевой переменной говорит о том, что подавляющее большинство пользователей (по факту 90%) попадает в две категории - они либо еще не сделали бронирование, либо сделали первое бронирование в США. На это стоит обратить внимание при моделировании, т.к. сильно обобщенная модель может выдавать только два прогноза - NDF и USA."
      ]
    },
    {
      "metadata": {
        "id": "BKbWFZWp30p0",
        "colab_type": "text"
      },
      "cell_type": "markdown",
      "source": [
        "#### Переменная возраст (Age)"
      ]
    },
    {
      "metadata": {
        "id": "lQCwZfRS30p1",
        "colab_type": "code",
        "outputId": "47b9caee-4265-4c1d-b00d-139892fd8513",
        "colab": {
          "base_uri": "https://localhost:8080/",
          "height": 181
        }
      },
      "cell_type": "code",
      "source": [
        "df_all.age.describe()"
      ],
      "execution_count": 0,
      "outputs": [
        {
          "output_type": "execute_result",
          "data": {
            "text/plain": [
              "count    158681.000000\n",
              "mean         47.145310\n",
              "std         142.629468\n",
              "min           1.000000\n",
              "25%          28.000000\n",
              "50%          33.000000\n",
              "75%          42.000000\n",
              "max        2014.000000\n",
              "Name: age, dtype: float64"
            ]
          },
          "metadata": {
            "tags": []
          },
          "execution_count": 16
        }
      ]
    },
    {
      "metadata": {
        "id": "g2q3F9vf30p5",
        "colab_type": "code",
        "outputId": "8cf991f9-1900-4e8e-b96a-be54934ccfdd",
        "colab": {
          "base_uri": "https://localhost:8080/",
          "height": 35
        }
      },
      "cell_type": "code",
      "source": [
        "df_all.age.min()"
      ],
      "execution_count": 0,
      "outputs": [
        {
          "output_type": "execute_result",
          "data": {
            "text/plain": [
              "1.0"
            ]
          },
          "metadata": {
            "tags": []
          },
          "execution_count": 17
        }
      ]
    },
    {
      "metadata": {
        "id": "cbfL4E9830p9",
        "colab_type": "code",
        "outputId": "6e098fa3-db67-45e6-c48e-241060bf2993",
        "colab": {
          "base_uri": "https://localhost:8080/",
          "height": 35
        }
      },
      "cell_type": "code",
      "source": [
        "df_all.age.max()"
      ],
      "execution_count": 0,
      "outputs": [
        {
          "output_type": "execute_result",
          "data": {
            "text/plain": [
              "2014.0"
            ]
          },
          "metadata": {
            "tags": []
          },
          "execution_count": 18
        }
      ]
    },
    {
      "metadata": {
        "id": "eMM-lEBq30qA",
        "colab_type": "code",
        "outputId": "ac149569-4360-4488-b88b-b1db36c5e868",
        "colab": {
          "base_uri": "https://localhost:8080/",
          "height": 1145
        }
      },
      "cell_type": "code",
      "source": [
        "df_all.age.value_counts()"
      ],
      "execution_count": 0,
      "outputs": [
        {
          "output_type": "execute_result",
          "data": {
            "text/plain": [
              "30.0      7712\n",
              "28.0      7687\n",
              "29.0      7647\n",
              "31.0      7540\n",
              "27.0      7462\n",
              "32.0      7187\n",
              "33.0      6795\n",
              "26.0      6745\n",
              "34.0      6176\n",
              "25.0      6149\n",
              "35.0      5949\n",
              "36.0      5032\n",
              "24.0      4571\n",
              "37.0      4474\n",
              "38.0      4091\n",
              "39.0      3642\n",
              "23.0      3516\n",
              "40.0      3327\n",
              "41.0      3098\n",
              "42.0      2731\n",
              "45.0      2669\n",
              "44.0      2584\n",
              "22.0      2508\n",
              "43.0      2486\n",
              "46.0      2317\n",
              "19.0      2023\n",
              "47.0      2006\n",
              "48.0      1779\n",
              "50.0      1679\n",
              "51.0      1630\n",
              "          ... \n",
              "1949.0       3\n",
              "1936.0       2\n",
              "1920.0       2\n",
              "111.0        2\n",
              "1938.0       2\n",
              "1929.0       2\n",
              "1923.0       2\n",
              "1926.0       2\n",
              "1944.0       2\n",
              "1951.0       2\n",
              "1940.0       2\n",
              "1942.0       1\n",
              "2002.0       1\n",
              "150.0        1\n",
              "1952.0       1\n",
              "1945.0       1\n",
              "2008.0       1\n",
              "1939.0       1\n",
              "2000.0       1\n",
              "1995.0       1\n",
              "1948.0       1\n",
              "1968.0       1\n",
              "1930.0       1\n",
              "1941.0       1\n",
              "1922.0       1\n",
              "1954.0       1\n",
              "1953.0       1\n",
              "132.0        1\n",
              "1937.0       1\n",
              "112.0        1\n",
              "Name: age, Length: 145, dtype: int64"
            ]
          },
          "metadata": {
            "tags": []
          },
          "execution_count": 19
        }
      ]
    },
    {
      "metadata": {
        "id": "MZgV3mLm30qE",
        "colab_type": "text"
      },
      "cell_type": "markdown",
      "source": [
        "Мы видим, что в переменной age встречаются странные значения - больше 120 и меньше 10."
      ]
    },
    {
      "metadata": {
        "id": "quM3o20e30qE",
        "colab_type": "code",
        "outputId": "15bc34d4-04d6-438b-8016-1af5447790a7",
        "colab": {
          "base_uri": "https://localhost:8080/",
          "height": 35
        }
      },
      "cell_type": "code",
      "source": [
        "sum(df_all.age > 120)"
      ],
      "execution_count": 0,
      "outputs": [
        {
          "output_type": "execute_result",
          "data": {
            "text/plain": [
              "830"
            ]
          },
          "metadata": {
            "tags": []
          },
          "execution_count": 20
        }
      ]
    },
    {
      "metadata": {
        "id": "daQ7hPM230qK",
        "colab_type": "code",
        "outputId": "a5c74295-a2d6-48cd-e021-72cb5f529f71",
        "colab": {
          "base_uri": "https://localhost:8080/",
          "height": 35
        }
      },
      "cell_type": "code",
      "source": [
        "sum(df_all.age < 10)"
      ],
      "execution_count": 0,
      "outputs": [
        {
          "output_type": "execute_result",
          "data": {
            "text/plain": [
              "59"
            ]
          },
          "metadata": {
            "tags": []
          },
          "execution_count": 21
        }
      ]
    },
    {
      "metadata": {
        "id": "Tahkv-Qs30qP",
        "colab_type": "text"
      },
      "cell_type": "markdown",
      "source": [
        "На этапе предобработки такие данные потребуют особого внимания."
      ]
    },
    {
      "metadata": {
        "id": "QSwNAA9L30qR",
        "colab_type": "text"
      },
      "cell_type": "markdown",
      "source": [
        "#### Пропущенные значения"
      ]
    },
    {
      "metadata": {
        "id": "Llpkwtlm30qS",
        "colab_type": "text"
      },
      "cell_type": "markdown",
      "source": [
        "Для более объективной картины по пропущенным значениям заменим значения '-unknown-' в некоторых категориальных признаках на стандартное неопределенное значение np.nan."
      ]
    },
    {
      "metadata": {
        "id": "pE204pqY30qU",
        "colab_type": "code",
        "colab": {}
      },
      "cell_type": "code",
      "source": [
        "df_all.gender.replace('-unknown-', np.nan, inplace=True)\n",
        "df_train.gender.replace('-unknown-', np.nan, inplace=True)\n",
        "df_test.gender.replace('-unknown-', np.nan, inplace=True)\n",
        "\n",
        "df_all.language.replace('-unknown-', np.nan, inplace=True)\n",
        "df_train.language.replace('-unknown-', np.nan, inplace=True)\n",
        "df_test.language.replace('-unknown-', np.nan, inplace=True)\n",
        "\n",
        "df_all.first_browser.replace('-unknown-', np.nan, inplace=True)\n",
        "df_train.first_browser.replace('-unknown-', np.nan, inplace=True)\n",
        "df_test.first_browser.replace('-unknown-', np.nan, inplace=True)"
      ],
      "execution_count": 0,
      "outputs": []
    },
    {
      "metadata": {
        "id": "_hNx1mUa30qY",
        "colab_type": "text"
      },
      "cell_type": "markdown",
      "source": [
        "Проведем исследование пропущенных значений отдельно для обучающей и тестовой выборки."
      ]
    },
    {
      "metadata": {
        "id": "Yi4hnrTD30qZ",
        "colab_type": "code",
        "outputId": "3304d133-8353-44c2-cf88-f69d5de1f3dc",
        "colab": {
          "base_uri": "https://localhost:8080/",
          "height": 126
        }
      },
      "cell_type": "code",
      "source": [
        "df_train_missing = df_train.isnull().sum() / df_train.shape[0]\n",
        "df_train_missing[df_train_missing > 0]"
      ],
      "execution_count": 0,
      "outputs": [
        {
          "output_type": "execute_result",
          "data": {
            "text/plain": [
              "date_first_booking         0.583473\n",
              "gender                     0.448290\n",
              "age                        0.412226\n",
              "first_affiliate_tracked    0.028414\n",
              "first_browser              0.127739\n",
              "dtype: float64"
            ]
          },
          "metadata": {
            "tags": []
          },
          "execution_count": 23
        }
      ]
    },
    {
      "metadata": {
        "id": "gWzJNR9t30qi",
        "colab_type": "code",
        "outputId": "dc96782b-9054-47df-c9bd-66e81b997bf9",
        "colab": {
          "base_uri": "https://localhost:8080/",
          "height": 126
        }
      },
      "cell_type": "code",
      "source": [
        "df_test_missing = df_test.isnull().sum() / df_test.shape[0]\n",
        "df_test_missing[df_test_missing > 0].drop('date_first_booking')"
      ],
      "execution_count": 0,
      "outputs": [
        {
          "output_type": "execute_result",
          "data": {
            "text/plain": [
              "gender                     0.544190\n",
              "age                        0.465022\n",
              "language                   0.000016\n",
              "first_affiliate_tracked    0.000322\n",
              "first_browser              0.275831\n",
              "dtype: float64"
            ]
          },
          "metadata": {
            "tags": []
          },
          "execution_count": 24
        }
      ]
    },
    {
      "metadata": {
        "id": "ugZARAUR30qn",
        "colab_type": "text"
      },
      "cell_type": "markdown",
      "source": [
        "В наших данных много пропусков в переменных gender, age, date_first_booking и first_browser. \n",
        "Переменная date_first_booking связана с целевой переменной и ее пропуски обусловлены значением NDF целевой переменной. По остальным переменным с пропусками нужно будет выбрать стратегии обработки."
      ]
    },
    {
      "metadata": {
        "id": "urUECH1s30qo",
        "colab_type": "text"
      },
      "cell_type": "markdown",
      "source": [
        "###  Часть 3. Первичный визуальный анализ признаков"
      ]
    },
    {
      "metadata": {
        "id": "otiFO0HH30qq",
        "colab_type": "text"
      },
      "cell_type": "markdown",
      "source": [
        "#### Распределение целевой переменной"
      ]
    },
    {
      "metadata": {
        "id": "HGVnO-ut30qs",
        "colab_type": "code",
        "outputId": "02ef41aa-395d-44b0-f6bc-5be89823d738",
        "colab": {
          "base_uri": "https://localhost:8080/",
          "height": 315
        }
      },
      "cell_type": "code",
      "source": [
        "fig, axes = plt.subplots(nrows=1, ncols=3, figsize=(16, 4))\n",
        "\n",
        "country_counts = df_train.country_destination.value_counts()\n",
        "country_counts.plot(kind='bar',title='Country Destination Count', ax=axes[0])\n",
        "\n",
        "ax = country_counts.div(country_counts.sum()).plot(kind='bar',title='Country Destination %',ax=axes[1] )\n",
        "ax.set_yticklabels(['{:3.1f}%'.format(x*100) for x in ax.get_yticks()])\n",
        "\n",
        "booked_count = df_train[df_train.country_destination != 'NDF'].country_destination.value_counts()\n",
        "ax1 = booked_count.div(booked_count.sum()).plot(kind='bar',title='Country Destination % без NDF',ax=axes[2] )\n",
        "ax1.set_yticklabels(['{:3.1f}%'.format(x*100) for x in ax1.get_yticks()]);"
      ],
      "execution_count": 0,
      "outputs": [
        {
          "output_type": "display_data",
          "data": {
            "image/png": "[encoded data removed]",
            "text/plain": [
              "<matplotlib.figure.Figure at 0x7f7e40ad1cf8>"
            ]
          },
          "metadata": {
            "tags": []
          }
        }
      ]
    },
    {
      "metadata": {
        "id": "7yLDDSkV30qz",
        "colab_type": "text"
      },
      "cell_type": "markdown",
      "source": [
        "Графики подтверждают наши наблюдения, сделанные ранее - большая часть значений целевой переменной относятся к двум классам - NDF (не сделавшие бронирование) и USA."
      ]
    },
    {
      "metadata": {
        "id": "XmSuWNtb30q1",
        "colab_type": "text"
      },
      "cell_type": "markdown",
      "source": [
        "#### Распределение целевой переменной с учетом пола"
      ]
    },
    {
      "metadata": {
        "id": "FwYp4Spa30q1",
        "colab_type": "code",
        "outputId": "0be6171a-a87d-4460-935b-5d595e508091",
        "colab": {
          "base_uri": "https://localhost:8080/",
          "height": 571
        }
      },
      "cell_type": "code",
      "source": [
        "women = sum(df_train['gender'] == 'FEMALE')\n",
        "men = sum(df_train['gender'] == 'MALE')\n",
        "\n",
        "female_destinations = df_train[df_train['gender'] == 'FEMALE'].country_destination.value_counts() / women * 100\n",
        "male_destinations = df_train[df_train['gender'] == 'MALE'].country_destination.value_counts() / men * 100\n",
        "\n",
        "# Bar width\n",
        "width = 0.4\n",
        "\n",
        "male_destinations.plot(kind='bar', width=width, color='green', position=0, label='Male', rot=0, figsize=(16, 9))\n",
        "female_destinations.plot(kind='bar', width=width, color='pink', position=1, label='Female', rot=0, figsize=(16, 9))\n",
        "\n",
        "plt.legend()\n",
        "plt.xlabel('Destination Country')\n",
        "plt.ylabel('Percentage')\n",
        "\n",
        "sns.despine()\n",
        "plt.show()"
      ],
      "execution_count": 0,
      "outputs": [
        {
          "output_type": "display_data",
          "data": {
            "image/png": "[encoded data removed]",
            "text/plain": [
              "<matplotlib.figure.Figure at 0x7f7e3f9a7668>"
            ]
          },
          "metadata": {
            "tags": []
          }
        }
      ]
    },
    {
      "metadata": {
        "id": "SYK0wuR130q6",
        "colab_type": "text"
      },
      "cell_type": "markdown",
      "source": [
        "Судя по графику, практически нет различий в предпочтениях мужчин и женщин."
      ]
    },
    {
      "metadata": {
        "id": "UfYhQHpo30q7",
        "colab_type": "text"
      },
      "cell_type": "markdown",
      "source": [
        "#### Распределение целевой переменной с учетом возраста"
      ]
    },
    {
      "metadata": {
        "id": "SFdDN2WQ30q8",
        "colab_type": "code",
        "outputId": "d2d7de9a-eb24-4dc0-cb41-a4b614bdb391",
        "colab": {
          "base_uri": "https://localhost:8080/",
          "height": 587
        }
      },
      "cell_type": "code",
      "source": [
        "sns.distplot(df_train[(df_train.age < 100)&(df_train.age > 10)].age.dropna(), color='#FD5C64')\n",
        "plt.title(\"Распределение пользователей по возрасту\")\n",
        "#plt.figsize = (16, 9)\n",
        "plt.xlabel('Age')\n",
        "plt.rcParams['figure.figsize'] = 16,9"
      ],
      "execution_count": 0,
      "outputs": [
        {
          "output_type": "display_data",
          "data": {
            "image/png": "[encoded data removed]",
            "text/plain": [
              "<matplotlib.figure.Figure at 0x7f7e40abdf60>"
            ]
          },
          "metadata": {
            "tags": []
          }
        }
      ]
    },
    {
      "metadata": {
        "id": "m7v1tauU30rA",
        "colab_type": "text"
      },
      "cell_type": "markdown",
      "source": [
        "AirBnb наиболее популярен среди пользователей от 25 до 40 лет."
      ]
    },
    {
      "metadata": {
        "id": "D2d9hyUG30rB",
        "colab_type": "code",
        "colab": {}
      },
      "cell_type": "code",
      "source": [
        "age_data = df_train[(df_train.age < 100)&(df_train.age > 10)]"
      ],
      "execution_count": 0,
      "outputs": []
    },
    {
      "metadata": {
        "id": "it6Jcm1Q30rG",
        "colab_type": "code",
        "outputId": "c774fbe2-ef67-4caf-df54-5669f97fc194",
        "colab": {
          "base_uri": "https://localhost:8080/",
          "height": 607
        }
      },
      "cell_type": "code",
      "source": [
        "sns.boxplot(x='country_destination', y='age', data=age_data, palette=\"muted\");"
      ],
      "execution_count": 0,
      "outputs": [
        {
          "output_type": "stream",
          "text": [
            "/usr/local/lib/python3.6/dist-packages/seaborn/categorical.py:454: FutureWarning: remove_na is deprecated and is a private function. Do not use.\n",
            "  box_data = remove_na(group_data)\n"
          ],
          "name": "stderr"
        },
        {
          "output_type": "display_data",
          "data": {
            "image/png": "[encoded data removed]",
            "text/plain": [
              "<matplotlib.figure.Figure at 0x7f7e40d49358>"
            ]
          },
          "metadata": {
            "tags": []
          }
        }
      ]
    },
    {
      "metadata": {
        "id": "Ms3uOdn_30rK",
        "colab_type": "text"
      },
      "cell_type": "markdown",
      "source": [
        "На этом графике не видно больших различий бронирования в зависимости от возраста пользователя."
      ]
    },
    {
      "metadata": {
        "id": "autBgse530rR",
        "colab_type": "text"
      },
      "cell_type": "markdown",
      "source": [
        "Попробуем посмотреть на распределение целевой переменной по возрасту на двух частях выборки, разделенных медианой."
      ]
    },
    {
      "metadata": {
        "id": "mwOxGUSO30rR",
        "colab_type": "code",
        "outputId": "1e515fc9-f9cd-4046-d70b-8971ce4c587d",
        "colab": {
          "base_uri": "https://localhost:8080/",
          "height": 35
        }
      },
      "cell_type": "code",
      "source": [
        "age_data.age.median()"
      ],
      "execution_count": 0,
      "outputs": [
        {
          "output_type": "execute_result",
          "data": {
            "text/plain": [
              "34.0"
            ]
          },
          "metadata": {
            "tags": []
          },
          "execution_count": 30
        }
      ]
    },
    {
      "metadata": {
        "id": "Zycfnv4730rW",
        "colab_type": "code",
        "outputId": "5b296638-4d13-4ef5-b070-86b01fdd0913",
        "colab": {
          "base_uri": "https://localhost:8080/",
          "height": 571
        }
      },
      "cell_type": "code",
      "source": [
        "age = age_data.age.median()\n",
        "\n",
        "younger = sum(age_data['age'] < age)\n",
        "older = sum(age_data['age'] > age)\n",
        "\n",
        "younger_destinations = age_data[age_data['age'] < age].country_destination.value_counts() / younger * 100\n",
        "older_destinations = age_data[age_data['age'] > age].country_destination.value_counts() / older * 100\n",
        "\n",
        "younger_destinations.plot(kind='bar', width=width, color='#191970', position=0, label='Молодняк 50%', rot=0)\n",
        "older_destinations.plot(kind='bar', width=width, color='#1E90FF', position=1, label='Уже не молодые 50%', rot=0)\n",
        "\n",
        "plt.legend()\n",
        "plt.xlabel('Destination Country')\n",
        "plt.ylabel('Процент')\n",
        "\n",
        "sns.despine()\n",
        "plt.show()"
      ],
      "execution_count": 0,
      "outputs": [
        {
          "output_type": "display_data",
          "data": {
            "image/png": "[encoded data removed]",
            "text/plain": [
              "<matplotlib.figure.Figure at 0x7f7e3ce2a4a8>"
            ]
          },
          "metadata": {
            "tags": []
          }
        }
      ]
    },
    {
      "metadata": {
        "id": "_05tFmP330rj",
        "colab_type": "text"
      },
      "cell_type": "markdown",
      "source": [
        "На этом графике видно, что \"более молодая\" половина делает чаще первое бронирование после регистрации (меньше доля NDF) и в то же время чаще делает бронирование в США."
      ]
    },
    {
      "metadata": {
        "id": "T6UYnWt230rl",
        "colab_type": "text"
      },
      "cell_type": "markdown",
      "source": [
        "#### Временные признаки"
      ]
    },
    {
      "metadata": {
        "id": "5AvWOXEP30rl",
        "colab_type": "code",
        "outputId": "01e7f4b4-d0c9-4232-88de-11a7086ea182",
        "colab": {
          "base_uri": "https://localhost:8080/",
          "height": 548
        }
      },
      "cell_type": "code",
      "source": [
        "sns.set_style(\"darkgrid\", {'axes.edgecolor': '0'})\n",
        "sns.set_context(\"poster\", font_scale=1.1)\n",
        "df_all['date_account_created'] = pd.to_datetime(df_all['date_account_created'])\n",
        "df_all.date_account_created.value_counts().sort_index().plot(kind='line', linewidth=1.2, color='red',)\n",
        "plt.title(\"Количество новых пользователей по годам\");"
      ],
      "execution_count": 0,
      "outputs": [
        {
          "output_type": "display_data",
          "data": {
            "image/png": "[encoded data removed]",
            "text/plain": [
              "<matplotlib.figure.Figure at 0x7f7e40f26be0>"
            ]
          },
          "metadata": {
            "tags": []
          }
        }
      ]
    },
    {
      "metadata": {
        "id": "S054q4ZW30rq",
        "colab_type": "text"
      },
      "cell_type": "markdown",
      "source": [
        "Мы видим экспоненциальный рост количества пользователей по времени."
      ]
    },
    {
      "metadata": {
        "id": "UCVr1weL30rr",
        "colab_type": "text"
      },
      "cell_type": "markdown",
      "source": [
        "###  Часть 4. Закономерности, \"инсайты\", особенности данных"
      ]
    },
    {
      "metadata": {
        "collapsed": true,
        "id": "Ji1eVsMK30rr",
        "colab_type": "text"
      },
      "cell_type": "markdown",
      "source": [
        "Выше вы уже отмечали найденные особенности в данных. Соберем их здесь вместе:\n",
        "* Распределение целевой переменной говорит о том, что подавляющее большинство пользователей (по факту 90%) попадает в две категории - они либо еще не сделали бронирование, либо сделали первое бронирование в США. На это стоит обратить внимание при моделировании, т.к. сильно обобщенная модель может выдавать только два прогноза - NDF и USA.\n",
        "* Мы видим экспоненциальный рост количества пользователей по времени. Причем скорость роста усиливается с 2014 года. Возможно имеет смысл использовать для моделирования более свежие данные (начиная с 2014 года).\n",
        "* В данных довольно много пропусков (и некорректных значений) по полу и возрасту. Часть некорректных значений по возрасту можно будет восстановить, т.к. некоторые пользователи вместо возраста ввели год рождения (например, 1951). Пропущенные значения связаны, скорее всего, с нежеланием пользователей раскрывать свои личные данные.\n",
        "* Мы не обнаружили различий в распределении целевой переменной по полу и возрасту. Для моделирования потребуется более глубокий анализ и создание новых признаков.\n",
        "* Пользователи с возрастом меньше медианного (половина выборки) более часто делают первое бронирование, чем вторая половина пользователей.\n",
        "* Переменная date_first_booking связана с целевой переменной и заполнена только в обучающей выборке. Она не может быть использована для обучения модели, поэтому ее следует удалить из обучающей выборки."
      ]
    },
    {
      "metadata": {
        "id": "771W1DAv30rt",
        "colab_type": "text"
      },
      "cell_type": "markdown",
      "source": [
        "###  Часть 5. Предобработка данных "
      ]
    },
    {
      "metadata": {
        "id": "KFVbim9D30rt",
        "colab_type": "text"
      },
      "cell_type": "markdown",
      "source": [
        "#### Скорректируем форматы переменных, связанных с датами и временем"
      ]
    },
    {
      "metadata": {
        "id": "TGKkFKE630rv",
        "colab_type": "code",
        "colab": {}
      },
      "cell_type": "code",
      "source": [
        "df_train['date_account_created'] = pd.to_datetime(df_train['date_account_created'])\n",
        "df_test['date_account_created'] = pd.to_datetime(df_test['date_account_created'])\n",
        "\n",
        "df_train['timestamp_first_active'] = pd.to_datetime(df_train['timestamp_first_active'], format='%Y%m%d%H%M%S')\n",
        "df_test['timestamp_first_active'] = pd.to_datetime(df_test['timestamp_first_active'], format='%Y%m%d%H%M%S')"
      ],
      "execution_count": 0,
      "outputs": []
    },
    {
      "metadata": {
        "id": "lJO5tDWn30rz",
        "colab_type": "text"
      },
      "cell_type": "markdown",
      "source": [
        "Переменная date_first_booking связана с целевой переменной и заполнена только в обучающей выборке, поэтому ее следует удалить:"
      ]
    },
    {
      "metadata": {
        "id": "pGebW7Nt30rz",
        "colab_type": "code",
        "colab": {}
      },
      "cell_type": "code",
      "source": [
        "df_train.drop('date_first_booking', axis=1, inplace=True)\n",
        "df_test.drop('date_first_booking', axis=1, inplace=True)"
      ],
      "execution_count": 0,
      "outputs": []
    },
    {
      "metadata": {
        "id": "nmmSBykh30r5",
        "colab_type": "text"
      },
      "cell_type": "markdown",
      "source": [
        "#### Обработка переменной Age"
      ]
    },
    {
      "metadata": {
        "id": "0_or23Ab30r6",
        "colab_type": "text"
      },
      "cell_type": "markdown",
      "source": [
        "Часть пользователей ввели год рождения вместо возраста. Попробуем восстановить их возраст."
      ]
    },
    {
      "metadata": {
        "id": "cIlDoxXX30r7",
        "colab_type": "code",
        "colab": {}
      },
      "cell_type": "code",
      "source": [
        "train_with_year_age_mask = df_train['age'] > 1900\n",
        "df_train.loc[train_with_year_age_mask, 'age'] = 2015 - df_train.loc[train_with_year_age_mask, 'age'] # соревнование 2015г"
      ],
      "execution_count": 0,
      "outputs": []
    },
    {
      "metadata": {
        "id": "75I6ByAn30sC",
        "colab_type": "code",
        "colab": {}
      },
      "cell_type": "code",
      "source": [
        "test_with_year_age_mask = df_test['age'] > 1900\n",
        "df_test.loc[test_with_year_age_mask, 'age'] = 2015 - df_test.loc[test_with_year_age_mask, 'age']"
      ],
      "execution_count": 0,
      "outputs": []
    },
    {
      "metadata": {
        "id": "8PAX1jdI30sE",
        "colab_type": "text"
      },
      "cell_type": "markdown",
      "source": [
        "Значения возраста больше 100 считаем некорректными и присваиваем им неопределенное значение."
      ]
    },
    {
      "metadata": {
        "id": "d0lcCKCX30sG",
        "colab_type": "code",
        "colab": {}
      },
      "cell_type": "code",
      "source": [
        "df_train.loc[df_train.age >= 100, 'age'] = np.nan\n",
        "df_test.loc[df_test.age >= 100, 'age'] = np.nan"
      ],
      "execution_count": 0,
      "outputs": []
    },
    {
      "metadata": {
        "id": "NhNcxszy30sJ",
        "colab_type": "text"
      },
      "cell_type": "markdown",
      "source": [
        "Аналогично поступаем со значениями возраста менее 15."
      ]
    },
    {
      "metadata": {
        "id": "z4qhRtYX30sK",
        "colab_type": "code",
        "colab": {}
      },
      "cell_type": "code",
      "source": [
        "df_train.loc[df_train.age <= 15, 'age'] = np.nan\n",
        "df_test.loc[df_test.age <= 15, 'age'] = np.nan"
      ],
      "execution_count": 0,
      "outputs": []
    },
    {
      "metadata": {
        "id": "1lfj2YMz30sM",
        "colab_type": "text"
      },
      "cell_type": "markdown",
      "source": [
        "Все пропуски в возрасте заполняем -1."
      ]
    },
    {
      "metadata": {
        "id": "pBr1IZi530sM",
        "colab_type": "code",
        "colab": {}
      },
      "cell_type": "code",
      "source": [
        "df_train['age'].fillna(-1, inplace=True)\n",
        "df_test['age'].fillna(-1, inplace=True)"
      ],
      "execution_count": 0,
      "outputs": []
    },
    {
      "metadata": {
        "id": "1QLz2EBK30sP",
        "colab_type": "code",
        "colab": {}
      },
      "cell_type": "code",
      "source": [
        "df_train['age'] = df_train['age'].astype(int)\n",
        "df_test['age'] = df_test['age'].astype(int)"
      ],
      "execution_count": 0,
      "outputs": []
    },
    {
      "metadata": {
        "id": "JT04DUlq30sS",
        "colab_type": "text"
      },
      "cell_type": "markdown",
      "source": [
        "#### Обработка остальных пропусков"
      ]
    },
    {
      "metadata": {
        "id": "TN1bsmDu30sT",
        "colab_type": "text"
      },
      "cell_type": "markdown",
      "source": [
        "Для категориальных переменных с пропущенными значениями преобразуем пропуски к 'unknown' для того, чтобы потом сработал LabelBinarizer."
      ]
    },
    {
      "metadata": {
        "id": "VlAxAHiw30sT",
        "colab_type": "code",
        "colab": {}
      },
      "cell_type": "code",
      "source": [
        "df_train['first_affiliate_tracked'].fillna('unknown', inplace=True)\n",
        "df_test['first_affiliate_tracked'].fillna('unknown', inplace=True)\n",
        "              \n",
        "df_train['first_browser'].fillna('unknown', inplace=True)\n",
        "df_test['first_browser'].fillna('unknown', inplace=True)\n",
        "\n",
        "df_train['language'].fillna('unknown', inplace=True)\n",
        "df_test['language'].fillna('unknown', inplace=True)\n",
        "\n",
        "df_train['gender'].fillna('unknown', inplace=True)\n",
        "df_test['gender'].fillna('unknown', inplace=True)"
      ],
      "execution_count": 0,
      "outputs": []
    },
    {
      "metadata": {
        "id": "f-iKDs0e30sW",
        "colab_type": "text"
      },
      "cell_type": "markdown",
      "source": [
        "###  Часть 6. Создание новых признаков и описание этого процесса"
      ]
    },
    {
      "metadata": {
        "id": "4H0FKTLt30sX",
        "colab_type": "text"
      },
      "cell_type": "markdown",
      "source": [
        "#### Добавим признаки, связанные с сессиями пользователя"
      ]
    },
    {
      "metadata": {
        "id": "BvTLaNT330sY",
        "colab_type": "code",
        "outputId": "169274cb-78f0-4e32-ab5b-2577edfd94e5",
        "colab": {
          "base_uri": "https://localhost:8080/",
          "height": 54
        }
      },
      "cell_type": "code",
      "source": [
        "%%time\n",
        "df_sessions = pd.read_csv('sessions.csv')"
      ],
      "execution_count": 0,
      "outputs": [
        {
          "output_type": "stream",
          "text": [
            "CPU times: user 10.5 s, sys: 838 ms, total: 11.3 s\n",
            "Wall time: 11.3 s\n"
          ],
          "name": "stdout"
        }
      ]
    },
    {
      "metadata": {
        "id": "pZY-V2J030sb",
        "colab_type": "code",
        "outputId": "ffbd0498-25ea-451f-fc09-80d7291c5f5b",
        "colab": {
          "base_uri": "https://localhost:8080/",
          "height": 35
        }
      },
      "cell_type": "code",
      "source": [
        "df_sessions.shape"
      ],
      "execution_count": 0,
      "outputs": [
        {
          "output_type": "execute_result",
          "data": {
            "text/plain": [
              "(10567737, 6)"
            ]
          },
          "metadata": {
            "tags": []
          },
          "execution_count": 43
        }
      ]
    },
    {
      "metadata": {
        "id": "gTKBDDQQ30sd",
        "colab_type": "code",
        "outputId": "24afc28b-5025-47df-d2ed-882d82efb360",
        "colab": {
          "base_uri": "https://localhost:8080/",
          "height": 198
        }
      },
      "cell_type": "code",
      "source": [
        "df_sessions.head(5)"
      ],
      "execution_count": 0,
      "outputs": [
        {
          "output_type": "execute_result",
          "data": {
            "text/html": [
              "<div>\n",
              "<style scoped>\n",
              "    .dataframe tbody tr th:only-of-type {\n",
              "        vertical-align: middle;\n",
              "    }\n",
              "\n",
              "    .dataframe tbody tr th {\n",
              "        vertical-align: top;\n",
              "    }\n",
              "\n",
              "    .dataframe thead th {\n",
              "        text-align: right;\n",
              "    }\n",
              "</style>\n",
              "<table border=\"1\" class=\"dataframe\">\n",
              "  <thead>\n",
              "    <tr style=\"text-align: right;\">\n",
              "      <th></th>\n",
              "      <th>user_id</th>\n",
              "      <th>action</th>\n",
              "      <th>action_type</th>\n",
              "      <th>action_detail</th>\n",
              "      <th>device_type</th>\n",
              "      <th>secs_elapsed</th>\n",
              "    </tr>\n",
              "  </thead>\n",
              "  <tbody>\n",
              "    <tr>\n",
              "      <th>0</th>\n",
              "      <td>d1mm9tcy42</td>\n",
              "      <td>lookup</td>\n",
              "      <td>NaN</td>\n",
              "      <td>NaN</td>\n",
              "      <td>Windows Desktop</td>\n",
              "      <td>319.0</td>\n",
              "    </tr>\n",
              "    <tr>\n",
              "      <th>1</th>\n",
              "      <td>d1mm9tcy42</td>\n",
              "      <td>search_results</td>\n",
              "      <td>click</td>\n",
              "      <td>view_search_results</td>\n",
              "      <td>Windows Desktop</td>\n",
              "      <td>67753.0</td>\n",
              "    </tr>\n",
              "    <tr>\n",
              "      <th>2</th>\n",
              "      <td>d1mm9tcy42</td>\n",
              "      <td>lookup</td>\n",
              "      <td>NaN</td>\n",
              "      <td>NaN</td>\n",
              "      <td>Windows Desktop</td>\n",
              "      <td>301.0</td>\n",
              "    </tr>\n",
              "    <tr>\n",
              "      <th>3</th>\n",
              "      <td>d1mm9tcy42</td>\n",
              "      <td>search_results</td>\n",
              "      <td>click</td>\n",
              "      <td>view_search_results</td>\n",
              "      <td>Windows Desktop</td>\n",
              "      <td>22141.0</td>\n",
              "    </tr>\n",
              "    <tr>\n",
              "      <th>4</th>\n",
              "      <td>d1mm9tcy42</td>\n",
              "      <td>lookup</td>\n",
              "      <td>NaN</td>\n",
              "      <td>NaN</td>\n",
              "      <td>Windows Desktop</td>\n",
              "      <td>435.0</td>\n",
              "    </tr>\n",
              "  </tbody>\n",
              "</table>\n",
              "</div>"
            ],
            "text/plain": [
              "      user_id          action action_type        action_detail  \\\n",
              "0  d1mm9tcy42          lookup         NaN                  NaN   \n",
              "1  d1mm9tcy42  search_results       click  view_search_results   \n",
              "2  d1mm9tcy42          lookup         NaN                  NaN   \n",
              "3  d1mm9tcy42  search_results       click  view_search_results   \n",
              "4  d1mm9tcy42          lookup         NaN                  NaN   \n",
              "\n",
              "       device_type  secs_elapsed  \n",
              "0  Windows Desktop         319.0  \n",
              "1  Windows Desktop       67753.0  \n",
              "2  Windows Desktop         301.0  \n",
              "3  Windows Desktop       22141.0  \n",
              "4  Windows Desktop         435.0  "
            ]
          },
          "metadata": {
            "tags": []
          },
          "execution_count": 44
        }
      ]
    },
    {
      "metadata": {
        "id": "prM5Ym__30sk",
        "colab_type": "text"
      },
      "cell_type": "markdown",
      "source": [
        "Выдвинем гипотезу, что пользоватали, которые чаще пользуются airbnb с мобильного устройства, чаще бронируют жилье в родной стране. Соответственно будет полезно узнать основной используемый девайс в разрезе пользователя."
      ]
    },
    {
      "metadata": {
        "id": "rURLbGFw30sl",
        "colab_type": "code",
        "colab": {}
      },
      "cell_type": "code",
      "source": [
        "# Определяем основной девайс пользователя\n",
        "sessions_device = df_sessions.loc[:, ['user_id', 'device_type', 'secs_elapsed']]\n",
        "aggregated_lvl1 = sessions_device.groupby(['user_id', 'device_type'], as_index=False, sort=False).aggregate(np.sum)\n",
        "idx = aggregated_lvl1.groupby(['user_id'], sort=False)['secs_elapsed'].transform(max) == aggregated_lvl1['secs_elapsed']\n",
        "df_primary = pd.DataFrame(aggregated_lvl1.loc[idx , ['user_id', 'device_type', 'secs_elapsed']])\n",
        "df_primary.rename(columns = {'device_type':'primary_device', 'secs_elapsed':'primary_secs'}, inplace=True)\n",
        "\n",
        "df_primary = pd.concat([df_primary[['user_id', 'primary_secs']], \n",
        "                        pd.get_dummies(df_primary['primary_device'], \n",
        "                                       prefix='prima')\n",
        "                       ], axis=1)\n",
        "df_primary.columns = [col.replace('-', '').replace(' ', '_').lower() for col in df_primary.columns]"
      ],
      "execution_count": 0,
      "outputs": []
    },
    {
      "metadata": {
        "id": "XFZXIXu830sn",
        "colab_type": "code",
        "outputId": "e57f21d3-c994-4fb8-99bc-7b9767faae17",
        "colab": {
          "base_uri": "https://localhost:8080/",
          "height": 35
        }
      },
      "cell_type": "code",
      "source": [
        "df_primary.shape"
      ],
      "execution_count": 0,
      "outputs": [
        {
          "output_type": "execute_result",
          "data": {
            "text/plain": [
              "(135483, 16)"
            ]
          },
          "metadata": {
            "tags": []
          },
          "execution_count": 46
        }
      ]
    },
    {
      "metadata": {
        "id": "HPhELLsT30sr",
        "colab_type": "text"
      },
      "cell_type": "markdown",
      "source": [
        "Также определим второй по популярности девайс в разрезе пользователя"
      ]
    },
    {
      "metadata": {
        "id": "WgxTeYBW30su",
        "colab_type": "code",
        "colab": {}
      },
      "cell_type": "code",
      "source": [
        "# Определяем второй девайс пользователя\n",
        "remaining = aggregated_lvl1.drop(aggregated_lvl1.index[idx])\n",
        "idx = remaining.groupby(['user_id'], sort=False)['secs_elapsed'].transform(max) == remaining['secs_elapsed']\n",
        "df_secondary = pd.DataFrame(remaining.loc[idx , ['user_id', 'device_type', 'secs_elapsed']])\n",
        "df_secondary.rename(columns = {'device_type':'secondary_device', 'secs_elapsed':'secondary_secs'}, inplace=True)\n",
        "\n",
        "\n",
        "df_secondary = pd.concat([df_secondary[['user_id', 'secondary_secs']], \n",
        "                        pd.get_dummies(df_secondary['secondary_device'], \n",
        "                                       prefix='second')\n",
        "                       ], axis=1)\n",
        "df_secondary.columns = [col.replace('-', '').replace(' ', '_').lower() for col in df_secondary.columns]\n",
        "#df_secondary = convert_to_binary(df=df_secondary, column_to_convert='secondary_device')\n",
        "#df_secondary.drop('secondary_device', axis=1, inplace=True)"
      ],
      "execution_count": 0,
      "outputs": []
    },
    {
      "metadata": {
        "id": "A8aKgUjR30sw",
        "colab_type": "code",
        "outputId": "1e38bbac-ab06-45bd-e3e3-77ce05c077a6",
        "colab": {
          "base_uri": "https://localhost:8080/",
          "height": 35
        }
      },
      "cell_type": "code",
      "source": [
        "df_secondary.shape"
      ],
      "execution_count": 0,
      "outputs": [
        {
          "output_type": "execute_result",
          "data": {
            "text/plain": [
              "(36521, 16)"
            ]
          },
          "metadata": {
            "tags": []
          },
          "execution_count": 48
        }
      ]
    },
    {
      "metadata": {
        "id": "d20ibmJt30sz",
        "colab_type": "text"
      },
      "cell_type": "markdown",
      "source": [
        "Дополнительно рассчитаем фичи на основе агрегации различных типов событий из пользовательских сессий."
      ]
    },
    {
      "metadata": {
        "id": "RbrKoyaM30sz",
        "colab_type": "code",
        "colab": {}
      },
      "cell_type": "code",
      "source": [
        "# Вспомогательная функция для расчета агрегатов по типам событий в разрезе клиентов и разворачивания (pivot) типов по столбцам \n",
        "def convert_to_counts(df, id_col, column_to_convert):\n",
        "    id_list = df[id_col].drop_duplicates()\n",
        "\n",
        "    df_counts = df.loc[:,[id_col, column_to_convert]]\n",
        "    df_counts['count'] = 1\n",
        "    df_counts = df_counts.groupby(by=[id_col, column_to_convert], as_index=False, sort=False).sum()\n",
        "\n",
        "    new_df = df_counts.pivot(index=id_col, columns=column_to_convert, values='count')\n",
        "    new_df = new_df.fillna(0)\n",
        "\n",
        "    \n",
        "    categories = list(df[column_to_convert].drop_duplicates())\n",
        "    for category in categories:\n",
        "        cat_name = str(category).replace(\" \", \"_\").replace(\"(\", \"\").replace(\")\", \"\").replace(\"/\", \"_\").replace(\"-\", \"\").lower()\n",
        "        col_name = column_to_convert + '_' + cat_name\n",
        "        new_df.rename(columns = {category:col_name}, inplace=True)\n",
        "\n",
        "    return new_df"
      ],
      "execution_count": 0,
      "outputs": []
    },
    {
      "metadata": {
        "id": "17KTpUly30s2",
        "colab_type": "code",
        "outputId": "5efd749b-ce04-43c2-d945-02bb7b24ecdc",
        "colab": {
          "base_uri": "https://localhost:8080/",
          "height": 126
        }
      },
      "cell_type": "code",
      "source": [
        "%%time\n",
        "print(\"Aggregating actions taken...\")\n",
        "session_actions = df_sessions.loc[:, ['user_id', 'action', 'action_type', 'action_detail']]\n",
        "columns_to_convert = ['action', 'action_type', 'action_detail']\n",
        "session_actions = session_actions.fillna('not provided')\n",
        "first = True\n",
        "\n",
        "for column in columns_to_convert:\n",
        "    \n",
        "    print(\"Converting \" + column + \" column...\")\n",
        "    current_data = convert_to_counts(df=session_actions, id_col='user_id', column_to_convert=column)\n",
        "    \n",
        "    # If first loop, current data becomes existing data, otherwise merge existing and current\n",
        "    if first:\n",
        "        first = False\n",
        "        actions_data = current_data\n",
        "    else:\n",
        "        actions_data = pd.concat([actions_data, current_data], axis=1, join='inner')"
      ],
      "execution_count": 0,
      "outputs": [
        {
          "output_type": "stream",
          "text": [
            "Aggregating actions taken...\n",
            "Converting action column...\n",
            "Converting action_type column...\n",
            "Converting action_detail column...\n",
            "CPU times: user 55.7 s, sys: 2.14 s, total: 57.9 s\n",
            "Wall time: 57.9 s\n"
          ],
          "name": "stdout"
        }
      ]
    },
    {
      "metadata": {
        "id": "mf62bJYm30s5",
        "colab_type": "code",
        "outputId": "a5d5dbba-28ca-4d30-8530-9ea6865467fb",
        "colab": {
          "base_uri": "https://localhost:8080/",
          "height": 35
        }
      },
      "cell_type": "code",
      "source": [
        "actions_data.shape"
      ],
      "execution_count": 0,
      "outputs": [
        {
          "output_type": "execute_result",
          "data": {
            "text/plain": [
              "(135484, 527)"
            ]
          },
          "metadata": {
            "tags": []
          },
          "execution_count": 51
        }
      ]
    },
    {
      "metadata": {
        "id": "UkRKnf_i30s_",
        "colab_type": "text"
      },
      "cell_type": "markdown",
      "source": [
        "#### Объединим признаки сессий с обучающей и тестовой выборками"
      ]
    },
    {
      "metadata": {
        "id": "YImyODwJ30tA",
        "colab_type": "code",
        "colab": {}
      },
      "cell_type": "code",
      "source": [
        "# Сначала объединим датасеты с девайсами...\n",
        "df_primary.set_index('user_id', inplace=True)\n",
        "df_secondary.set_index('user_id', inplace=True)\n",
        "device_data = pd.concat([df_primary, df_secondary], axis=1, join=\"outer\")\n",
        "\n",
        "# ...затем к девайсам добавим события\n",
        "combined_results = pd.concat([device_data, actions_data], axis=1, join='outer')\n",
        "df_sessions = combined_results.fillna(0)"
      ],
      "execution_count": 0,
      "outputs": []
    },
    {
      "metadata": {
        "id": "rkTb_QyG30tF",
        "colab_type": "code",
        "colab": {}
      },
      "cell_type": "code",
      "source": [
        "primary_cols = [col for col in df_primary.columns if col != 'primary_secs']\n",
        "secondary_cols = [col for col in df_secondary.columns if col != 'secondary_secs']"
      ],
      "execution_count": 0,
      "outputs": []
    },
    {
      "metadata": {
        "id": "-P62MtGn30tI",
        "colab_type": "code",
        "outputId": "513e8698-d533-459f-9220-a93617c7e44d",
        "colab": {
          "base_uri": "https://localhost:8080/",
          "height": 35
        }
      },
      "cell_type": "code",
      "source": [
        "df_sessions.shape"
      ],
      "execution_count": 0,
      "outputs": [
        {
          "output_type": "execute_result",
          "data": {
            "text/plain": [
              "(135484, 557)"
            ]
          },
          "metadata": {
            "tags": []
          },
          "execution_count": 54
        }
      ]
    },
    {
      "metadata": {
        "id": "Obo-l3S430tM",
        "colab_type": "code",
        "colab": {}
      },
      "cell_type": "code",
      "source": [
        "df_train.set_index('id', inplace=True)\n",
        "df_test.set_index('id', inplace=True)"
      ],
      "execution_count": 0,
      "outputs": []
    },
    {
      "metadata": {
        "id": "pIT_hW4R30tO",
        "colab_type": "code",
        "colab": {}
      },
      "cell_type": "code",
      "source": [
        "#df_train_sessions = pd.DataFrame(index=df_train['id'])\n",
        "#df_test_sessions = pd.DataFrame(index=df_test['id'])"
      ],
      "execution_count": 0,
      "outputs": []
    },
    {
      "metadata": {
        "id": "-74ifTLJ30tP",
        "colab_type": "code",
        "colab": {}
      },
      "cell_type": "code",
      "source": [
        "df_train = df_train.join(df_sessions, how='inner')\n",
        "df_test = df_test.join(df_sessions, how='left')"
      ],
      "execution_count": 0,
      "outputs": []
    },
    {
      "metadata": {
        "id": "DU2_9B3u30tR",
        "colab_type": "code",
        "colab": {}
      },
      "cell_type": "code",
      "source": [
        "df_train.fillna(0, inplace=True)\n",
        "df_test.fillna(0, inplace=True)"
      ],
      "execution_count": 0,
      "outputs": []
    },
    {
      "metadata": {
        "id": "IOf0ajbd30tS",
        "colab_type": "code",
        "outputId": "c7977b6a-e7e9-4997-f258-89658be17682",
        "colab": {
          "base_uri": "https://localhost:8080/",
          "height": 35
        }
      },
      "cell_type": "code",
      "source": [
        "df_train.shape, df_test.shape"
      ],
      "execution_count": 0,
      "outputs": [
        {
          "output_type": "execute_result",
          "data": {
            "text/plain": [
              "((73815, 571), (62096, 570))"
            ]
          },
          "metadata": {
            "tags": []
          },
          "execution_count": 59
        }
      ]
    },
    {
      "metadata": {
        "id": "Q1AQV6Ld30tV",
        "colab_type": "text"
      },
      "cell_type": "markdown",
      "source": [
        "#### Выделяем целевую переменную"
      ]
    },
    {
      "metadata": {
        "id": "M0yDlv4Z30tV",
        "colab_type": "code",
        "colab": {}
      },
      "cell_type": "code",
      "source": [
        "y_enc = LabelEncoder()"
      ],
      "execution_count": 0,
      "outputs": []
    },
    {
      "metadata": {
        "id": "2Ru2bG8g30tX",
        "colab_type": "code",
        "outputId": "1946e2be-273b-4db4-87b8-5c4768d3acfb",
        "colab": {
          "base_uri": "https://localhost:8080/",
          "height": 74
        }
      },
      "cell_type": "code",
      "source": [
        "# Текстовые значения классов (стран) нужно перекодировать в числовые\n",
        "y = y_enc.fit_transform(df_train[['country_destination']])"
      ],
      "execution_count": 0,
      "outputs": [
        {
          "output_type": "stream",
          "text": [
            "/usr/local/lib/python3.6/dist-packages/sklearn/preprocessing/label.py:235: DataConversionWarning: A column-vector y was passed when a 1d array was expected. Please change the shape of y to (n_samples, ), for example using ravel().\n",
            "  y = column_or_1d(y, warn=True)\n"
          ],
          "name": "stderr"
        }
      ]
    },
    {
      "metadata": {
        "id": "fkTY9IhK1PEI",
        "colab_type": "code",
        "outputId": "0799eb9a-00a4-4fb4-ee99-dcdf7dacac45",
        "colab": {
          "base_uri": "https://localhost:8080/",
          "height": 35
        }
      },
      "cell_type": "code",
      "source": [
        "y.shape"
      ],
      "execution_count": 0,
      "outputs": [
        {
          "output_type": "execute_result",
          "data": {
            "text/plain": [
              "(73815,)"
            ]
          },
          "metadata": {
            "tags": []
          },
          "execution_count": 62
        }
      ]
    },
    {
      "metadata": {
        "id": "g4Fw7YlFluta",
        "colab_type": "code",
        "colab": {}
      },
      "cell_type": "code",
      "source": [
        "import pickle\n",
        "pickle.dump(y_enc, open('y_enc.dump', 'wb'))"
      ],
      "execution_count": 0,
      "outputs": []
    },
    {
      "metadata": {
        "id": "YppWhBCHvYHQ",
        "colab_type": "code",
        "colab": {}
      },
      "cell_type": "code",
      "source": [
        "#Сохраняем\n",
        "np.savetxt(\"train_target.csv\", y, delimiter=\",\")"
      ],
      "execution_count": 0,
      "outputs": []
    },
    {
      "metadata": {
        "id": "_jszB_CK30tY",
        "colab_type": "code",
        "colab": {}
      },
      "cell_type": "code",
      "source": [
        "df_train.drop('country_destination', axis=1, inplace=True)"
      ],
      "execution_count": 0,
      "outputs": []
    },
    {
      "metadata": {
        "id": "k0yA53fW30ta",
        "colab_type": "code",
        "colab": {}
      },
      "cell_type": "code",
      "source": [
        "categorical_features.remove('country_destination')"
      ],
      "execution_count": 0,
      "outputs": []
    },
    {
      "metadata": {
        "id": "xdRH4poS30tb",
        "colab_type": "text"
      },
      "cell_type": "markdown",
      "source": [
        "#### Перекодируем текстовые категориальные переменные"
      ]
    },
    {
      "metadata": {
        "id": "v1zo7lFi30td",
        "colab_type": "code",
        "colab": {}
      },
      "cell_type": "code",
      "source": [
        "# Так как на входе у нах текстовые значения, то используем LabelBinarizer вместо OneHotEncoder\n",
        "lab_enc = LabelBinarizer(sparse_output=True)"
      ],
      "execution_count": 0,
      "outputs": []
    },
    {
      "metadata": {
        "id": "LPDllnni30tf",
        "colab_type": "text"
      },
      "cell_type": "markdown",
      "source": [
        "LabelBinarizer умеет кодировать только один признак за раз..."
      ]
    },
    {
      "metadata": {
        "id": "f_ixROXQ30tf",
        "colab_type": "code",
        "colab": {}
      },
      "cell_type": "code",
      "source": [
        "X_train_affiliate_channel_bin = lab_enc.fit_transform(df_train['affiliate_channel'])\n",
        "X_test_affiliate_channel_bin = lab_enc.transform(df_test['affiliate_channel'])"
      ],
      "execution_count": 0,
      "outputs": []
    },
    {
      "metadata": {
        "id": "eNja4twm30tg",
        "colab_type": "code",
        "colab": {}
      },
      "cell_type": "code",
      "source": [
        "X_train_affiliate_provider_bin = lab_enc.fit_transform(df_train['affiliate_provider'])\n",
        "X_test_affiliate_provider_bin = lab_enc.transform(df_test['affiliate_provider'])"
      ],
      "execution_count": 0,
      "outputs": []
    },
    {
      "metadata": {
        "id": "65Rm_NI530ti",
        "colab_type": "code",
        "colab": {}
      },
      "cell_type": "code",
      "source": [
        "X_train_first_affiliate_tracked_bin = lab_enc.fit_transform(df_train['first_affiliate_tracked'])\n",
        "X_test_first_affiliate_tracked_bin = lab_enc.transform(df_test['first_affiliate_tracked'])"
      ],
      "execution_count": 0,
      "outputs": []
    },
    {
      "metadata": {
        "id": "44DXkBCr30tj",
        "colab_type": "code",
        "colab": {}
      },
      "cell_type": "code",
      "source": [
        "X_train_first_browser_bin = lab_enc.fit_transform(df_train['first_browser'])\n",
        "X_test_first_browser_bin = lab_enc.transform(df_test['first_browser'])"
      ],
      "execution_count": 0,
      "outputs": []
    },
    {
      "metadata": {
        "id": "8vAClDSa30tm",
        "colab_type": "code",
        "colab": {}
      },
      "cell_type": "code",
      "source": [
        "X_train_first_device_type_bin = lab_enc.fit_transform(df_train['first_device_type'])\n",
        "X_test_first_device_type_bin = lab_enc.transform(df_test['first_device_type'])"
      ],
      "execution_count": 0,
      "outputs": []
    },
    {
      "metadata": {
        "id": "MotGmtfx30tp",
        "colab_type": "code",
        "colab": {}
      },
      "cell_type": "code",
      "source": [
        "X_train_gender_bin = lab_enc.fit_transform(df_train['gender'])\n",
        "X_test_gender_bin = lab_enc.transform(df_test['gender'])"
      ],
      "execution_count": 0,
      "outputs": []
    },
    {
      "metadata": {
        "id": "Y1bPSyAU30tr",
        "colab_type": "code",
        "colab": {}
      },
      "cell_type": "code",
      "source": [
        "X_train_language_bin = lab_enc.fit_transform(df_train['language'])\n",
        "X_test_language_bin = lab_enc.transform(df_test['language'])"
      ],
      "execution_count": 0,
      "outputs": []
    },
    {
      "metadata": {
        "id": "vaNiuOWD30tu",
        "colab_type": "code",
        "colab": {}
      },
      "cell_type": "code",
      "source": [
        "X_train_signup_app_bin = lab_enc.fit_transform(df_train['signup_app'])\n",
        "X_test_signup_app_bin = lab_enc.transform(df_test['signup_app'])"
      ],
      "execution_count": 0,
      "outputs": []
    },
    {
      "metadata": {
        "id": "dY0YtH1J30tx",
        "colab_type": "code",
        "colab": {}
      },
      "cell_type": "code",
      "source": [
        "X_train_signup_method_bin = lab_enc.fit_transform(df_train['signup_method'])\n",
        "X_test_signup_method_bin = lab_enc.transform(df_test['signup_method'])"
      ],
      "execution_count": 0,
      "outputs": []
    },
    {
      "metadata": {
        "id": "57CFtpjS30ty",
        "colab_type": "text"
      },
      "cell_type": "markdown",
      "source": [
        "#### Выделяем признаки, связанные с датами и временем"
      ]
    },
    {
      "metadata": {
        "id": "-A9GBZmQ30tz",
        "colab_type": "code",
        "colab": {}
      },
      "cell_type": "code",
      "source": [
        "df_train['weekday_account_created'] = df_train.date_account_created.dt.weekday\n",
        "df_test['weekday_account_created'] = df_test.date_account_created.dt.weekday\n",
        "df_train['day_account_created'] = df_train.date_account_created.dt.day\n",
        "df_test['day_account_created'] = df_test.date_account_created.dt.day\n",
        "df_train['month_account_created'] = df_train.date_account_created.dt.month\n",
        "df_test['month_account_created'] = df_test.date_account_created.dt.month\n",
        "df_train['quarter_account_created'] = df_train.date_account_created.dt.quarter\n",
        "df_test['quarter_account_created'] = df_test.date_account_created.dt.quarter\n",
        "df_train['year_account_created'] = df_train.date_account_created.dt.year\n",
        "df_test['year_account_created'] = df_test.date_account_created.dt.year"
      ],
      "execution_count": 0,
      "outputs": []
    },
    {
      "metadata": {
        "id": "2e1kgzCz30t2",
        "colab_type": "code",
        "colab": {}
      },
      "cell_type": "code",
      "source": [
        "df_train['hour_first_active'] = df_train.timestamp_first_active.dt.hour\n",
        "df_test['hour_first_active'] = df_test.timestamp_first_active.dt.hour\n",
        "df_train['weekday_first_active'] = df_train.timestamp_first_active.dt.weekday\n",
        "df_test['weekday_first_active'] = df_test.timestamp_first_active.dt.weekday\n",
        "df_train['day_first_active'] = df_train.timestamp_first_active.dt.day\n",
        "df_test['day_first_active'] = df_test.timestamp_first_active.dt.day\n",
        "df_train['month_first_active'] = df_train.timestamp_first_active.dt.month\n",
        "df_test['month_first_active'] = df_test.timestamp_first_active.dt.month\n",
        "df_train['quarter_first_active'] = df_train.timestamp_first_active.dt.quarter\n",
        "df_test['quarter_first_active'] = df_test.timestamp_first_active.dt.quarter\n",
        "df_train['year_first_active'] = df_train.timestamp_first_active.dt.year\n",
        "df_test['year_first_active'] = df_test.timestamp_first_active.dt.year"
      ],
      "execution_count": 0,
      "outputs": []
    },
    {
      "metadata": {
        "id": "epzJFeID30t3",
        "colab_type": "code",
        "colab": {}
      },
      "cell_type": "code",
      "source": [
        "df_train['time_lag'] = (df_train['date_account_created'] - df_train['timestamp_first_active']).dt.days\n",
        "df_test['time_lag'] = (df_test['date_account_created'] - df_test['timestamp_first_active']).dt.days"
      ],
      "execution_count": 0,
      "outputs": []
    },
    {
      "metadata": {
        "id": "QLlea67i30t5",
        "colab_type": "text"
      },
      "cell_type": "markdown",
      "source": [
        "#### Перекодируем числовые категориальные переменные"
      ]
    },
    {
      "metadata": {
        "id": "tvBH4CHz30t6",
        "colab_type": "code",
        "colab": {}
      },
      "cell_type": "code",
      "source": [
        "oh_enc = OneHotEncoder(handle_unknown='ignore')"
      ],
      "execution_count": 0,
      "outputs": []
    },
    {
      "metadata": {
        "id": "rB3HtNRk30t7",
        "colab_type": "code",
        "colab": {}
      },
      "cell_type": "code",
      "source": [
        "X_train_cat_bin = oh_enc.fit_transform(df_train[['signup_flow', \n",
        "                                                'weekday_account_created', \n",
        "                                                'day_account_created', \n",
        "                                                'month_account_created', \n",
        "                                                'quarter_account_created', \n",
        "                                                'year_account_created', \n",
        "                                                'hour_first_active', \n",
        "                                                'weekday_first_active', \n",
        "                                                'day_first_active', \n",
        "                                                'month_first_active', \n",
        "                                                'quarter_first_active', \n",
        "                                                'year_first_active']])\n",
        "\n",
        "X_test_cat_bin = oh_enc.transform(df_test[['signup_flow', \n",
        "                                           'weekday_account_created', \n",
        "                                           'day_account_created', \n",
        "                                           'month_account_created', \n",
        "                                           'quarter_account_created', \n",
        "                                           'year_account_created', \n",
        "                                           'hour_first_active', \n",
        "                                           'weekday_first_active', \n",
        "                                           'day_first_active', \n",
        "                                           'month_first_active', \n",
        "                                           'quarter_first_active', \n",
        "                                           'year_first_active']])"
      ],
      "execution_count": 0,
      "outputs": []
    },
    {
      "metadata": {
        "id": "eq0YRN9c30t8",
        "colab_type": "code",
        "outputId": "a88639e5-0145-4844-f0e1-f1ea31007210",
        "colab": {
          "base_uri": "https://localhost:8080/",
          "height": 35
        }
      },
      "cell_type": "code",
      "source": [
        "X_train_cat_bin.shape, X_test_cat_bin.shape\n",
        "# ((213451, 160), (62096, 160))"
      ],
      "execution_count": 0,
      "outputs": [
        {
          "output_type": "execute_result",
          "data": {
            "text/plain": [
              "((73815, 125), (62096, 125))"
            ]
          },
          "metadata": {
            "tags": []
          },
          "execution_count": 82
        }
      ]
    },
    {
      "metadata": {
        "id": "JNfp-zRi30t-",
        "colab_type": "text"
      },
      "cell_type": "markdown",
      "source": [
        "#### Масштабирование признаков"
      ]
    },
    {
      "metadata": {
        "id": "Qy9YHh-u30t_",
        "colab_type": "text"
      },
      "cell_type": "markdown",
      "source": [
        "Так как мы планируем попробовать в т.ч. линейные модели, то необходимо масштабирование признаков."
      ]
    },
    {
      "metadata": {
        "id": "5_M3YGUN30uE",
        "colab_type": "code",
        "outputId": "6225b584-bf06-4b6d-cea5-cfb943ffc99a",
        "colab": {
          "base_uri": "https://localhost:8080/",
          "height": 146
        }
      },
      "cell_type": "code",
      "source": [
        "scaler = StandardScaler()\n",
        "X_train_age_scaled = scaler.fit_transform(df_train[['age']])\n",
        "X_test_age_scaled = scaler.transform(df_test[['age']])"
      ],
      "execution_count": 0,
      "outputs": [
        {
          "output_type": "stream",
          "text": [
            "/usr/local/lib/python3.6/dist-packages/sklearn/preprocessing/data.py:625: DataConversionWarning: Data with input dtype int64 were all converted to float64 by StandardScaler.\n",
            "  return self.partial_fit(X, y)\n",
            "/usr/local/lib/python3.6/dist-packages/sklearn/base.py:462: DataConversionWarning: Data with input dtype int64 were all converted to float64 by StandardScaler.\n",
            "  return self.fit(X, **fit_params).transform(X)\n",
            "/usr/local/lib/python3.6/dist-packages/ipykernel_launcher.py:3: DataConversionWarning: Data with input dtype int64 were all converted to float64 by StandardScaler.\n",
            "  This is separate from the ipykernel package so we can avoid doing imports until\n"
          ],
          "name": "stderr"
        }
      ]
    },
    {
      "metadata": {
        "id": "7rxisK_H30uH",
        "colab_type": "code",
        "outputId": "1e91b07d-cc4b-4049-c96f-5eec97faf6a8",
        "colab": {
          "base_uri": "https://localhost:8080/",
          "height": 146
        }
      },
      "cell_type": "code",
      "source": [
        "X_train_time_lag_scaled = scaler.fit_transform(df_train[['time_lag']])\n",
        "X_test_time_lag_scaled = scaler.transform(df_test[['time_lag']])"
      ],
      "execution_count": 0,
      "outputs": [
        {
          "output_type": "stream",
          "text": [
            "/usr/local/lib/python3.6/dist-packages/sklearn/preprocessing/data.py:625: DataConversionWarning: Data with input dtype int64 were all converted to float64 by StandardScaler.\n",
            "  return self.partial_fit(X, y)\n",
            "/usr/local/lib/python3.6/dist-packages/sklearn/base.py:462: DataConversionWarning: Data with input dtype int64 were all converted to float64 by StandardScaler.\n",
            "  return self.fit(X, **fit_params).transform(X)\n",
            "/usr/local/lib/python3.6/dist-packages/ipykernel_launcher.py:2: DataConversionWarning: Data with input dtype int64 were all converted to float64 by StandardScaler.\n",
            "  \n"
          ],
          "name": "stderr"
        }
      ]
    },
    {
      "metadata": {
        "id": "M0h0uB8G30uJ",
        "colab_type": "code",
        "colab": {}
      },
      "cell_type": "code",
      "source": [
        "X_train_primary_secs_scaled = scaler.fit_transform(df_train[['primary_secs']])\n",
        "X_test_primary_secs_scaled = scaler.transform(df_test[['primary_secs']])"
      ],
      "execution_count": 0,
      "outputs": []
    },
    {
      "metadata": {
        "id": "Gtg7o46830uM",
        "colab_type": "code",
        "colab": {}
      },
      "cell_type": "code",
      "source": [
        "X_train_actions_scaled = scaler.fit_transform(df_train[actions_data.columns])\n",
        "X_test_actions_scaled = scaler.transform(df_test[actions_data.columns])"
      ],
      "execution_count": 0,
      "outputs": []
    },
    {
      "metadata": {
        "id": "K9M0pJ7K30uP",
        "colab_type": "text"
      },
      "cell_type": "markdown",
      "source": [
        "#### Объединим все созданные признаки в единый датасет"
      ]
    },
    {
      "metadata": {
        "id": "1S42yG7c30uP",
        "colab_type": "code",
        "colab": {}
      },
      "cell_type": "code",
      "source": [
        "X_train = csr_matrix(\n",
        "            hstack(\n",
        "                [X_train_affiliate_channel_bin,\n",
        "                 X_train_affiliate_provider_bin,\n",
        "                 X_train_first_affiliate_tracked_bin,\n",
        "                 X_train_first_browser_bin,\n",
        "                 X_train_first_device_type_bin,\n",
        "                 X_train_gender_bin,\n",
        "                 X_train_language_bin,\n",
        "                 X_train_signup_app_bin,\n",
        "                 X_train_signup_method_bin,\n",
        "                 X_train_cat_bin,\n",
        "                 X_train_age_scaled,\n",
        "                 X_train_time_lag_scaled,\n",
        "                 X_train_actions_scaled,\n",
        "                 df_train[primary_cols]\n",
        "                ]\n",
        "            )\n",
        ")"
      ],
      "execution_count": 0,
      "outputs": []
    },
    {
      "metadata": {
        "id": "h2jI3Y8z30uR",
        "colab_type": "code",
        "colab": {}
      },
      "cell_type": "code",
      "source": [
        "X_test = csr_matrix(\n",
        "            hstack(\n",
        "                [X_test_affiliate_channel_bin,\n",
        "                 X_test_affiliate_provider_bin,\n",
        "                 X_test_first_affiliate_tracked_bin,\n",
        "                 X_test_first_browser_bin,\n",
        "                 X_test_first_device_type_bin,\n",
        "                 X_test_gender_bin,\n",
        "                 X_test_language_bin,\n",
        "                 X_test_signup_app_bin,\n",
        "                 X_test_signup_method_bin,\n",
        "                 X_test_cat_bin,\n",
        "                 X_test_age_scaled,\n",
        "                 X_test_time_lag_scaled,\n",
        "                 X_test_actions_scaled,\n",
        "                 df_test[primary_cols]\n",
        "                ]\n",
        "            )\n",
        ")"
      ],
      "execution_count": 0,
      "outputs": []
    },
    {
      "metadata": {
        "id": "gX3ES1Qz30uT",
        "colab_type": "code",
        "outputId": "5d1b4936-4dd0-41ff-8a38-0af57197472f",
        "colab": {
          "base_uri": "https://localhost:8080/",
          "height": 35
        }
      },
      "cell_type": "code",
      "source": [
        "X_train.shape, X_test.shape"
      ],
      "execution_count": 0,
      "outputs": [
        {
          "output_type": "execute_result",
          "data": {
            "text/plain": [
              "((73815, 780), (62096, 780))"
            ]
          },
          "metadata": {
            "tags": []
          },
          "execution_count": 89
        }
      ]
    },
    {
      "metadata": {
        "id": "zyRCgKv9yNtT",
        "colab_type": "code",
        "outputId": "224892ff-9cf2-418a-87f2-254e4ec6c380",
        "colab": {
          "base_uri": "https://localhost:8080/",
          "height": 35
        }
      },
      "cell_type": "code",
      "source": [
        "type(y)"
      ],
      "execution_count": 0,
      "outputs": [
        {
          "output_type": "execute_result",
          "data": {
            "text/plain": [
              "numpy.ndarray"
            ]
          },
          "metadata": {
            "tags": []
          },
          "execution_count": 90
        }
      ]
    },
    {
      "metadata": {
        "id": "sdPdY52yunnv",
        "colab_type": "text"
      },
      "cell_type": "markdown",
      "source": [
        "Сохраняем выборки"
      ]
    },
    {
      "metadata": {
        "id": "0miyJ20pvAFz",
        "colab_type": "code",
        "colab": {}
      },
      "cell_type": "code",
      "source": [
        "from scipy import sparse"
      ],
      "execution_count": 0,
      "outputs": []
    },
    {
      "metadata": {
        "id": "rwFFXStWv8Aa",
        "colab_type": "code",
        "colab": {}
      },
      "cell_type": "code",
      "source": [
        "sparse.save_npz(\"train_data.npz\", X_train)\n",
        "sparse.save_npz(\"test_data.npz\", X_test)"
      ],
      "execution_count": 0,
      "outputs": []
    },
    {
      "metadata": {
        "id": "5_R7aer033Xe",
        "colab_type": "code",
        "colab": {}
      },
      "cell_type": "code",
      "source": [
        "keker = df_test.index.values"
      ],
      "execution_count": 0,
      "outputs": []
    },
    {
      "metadata": {
        "id": "Y69TdU8k3XlR",
        "colab_type": "code",
        "colab": {}
      },
      "cell_type": "code",
      "source": [
        "np.save('df_test_index.npy', index)"
      ],
      "execution_count": 0,
      "outputs": []
    },
    {
      "metadata": {
        "id": "g4Y2IJmu4IzK",
        "colab_type": "code",
        "outputId": "4941e6e8-ea98-4969-f12d-6c0e0f20ec60",
        "colab": {
          "base_uri": "https://localhost:8080/",
          "height": 35
        }
      },
      "cell_type": "code",
      "source": [
        "type(keker)"
      ],
      "execution_count": 0,
      "outputs": [
        {
          "output_type": "execute_result",
          "data": {
            "text/plain": [
              "numpy.ndarray"
            ]
          },
          "metadata": {
            "tags": []
          },
          "execution_count": 96
        }
      ]
    },
    {
      "metadata": {
        "id": "U2hlpfCs64rC",
        "colab_type": "code",
        "colab": {}
      },
      "cell_type": "code",
      "source": [
        ""
      ],
      "execution_count": 0,
      "outputs": []
    },
    {
      "metadata": {
        "id": "YxOAfjZ47A4d",
        "colab_type": "code",
        "colab": {}
      },
      "cell_type": "code",
      "source": [
        ""
      ],
      "execution_count": 0,
      "outputs": []
    },
    {
      "metadata": {
        "id": "FUjIREoQfoET",
        "colab_type": "text"
      },
      "cell_type": "markdown",
      "source": [
        "Отчистим RAM для обучения"
      ]
    },
    {
      "metadata": {
        "id": "meXPHyqqwOSt",
        "colab_type": "code",
        "outputId": "779e3c83-dd77-4664-ad6c-e70c5acdfec5",
        "colab": {
          "base_uri": "https://localhost:8080/",
          "height": 35
        }
      },
      "cell_type": "code",
      "source": [
        "import gc\n",
        "gc.collect()\n",
        "#import os\n",
        "#os._exit(00)\n"
      ],
      "execution_count": 0,
      "outputs": [
        {
          "output_type": "execute_result",
          "data": {
            "text/plain": [
              "23077"
            ]
          },
          "metadata": {
            "tags": []
          },
          "execution_count": 99
        }
      ]
    },
    {
      "metadata": {
        "id": "juIFz0sPwtia",
        "colab_type": "code",
        "outputId": "c81e2f16-02d6-4373-99ee-24040393192e",
        "colab": {
          "base_uri": "https://localhost:8080/",
          "height": 326
        }
      },
      "cell_type": "code",
      "source": [
        "!nvidia-smi"
      ],
      "execution_count": 0,
      "outputs": [
        {
          "output_type": "stream",
          "text": [
            "Sat Jan  5 16:51:00 2019       \n",
            "+-----------------------------------------------------------------------------+\n",
            "| NVIDIA-SMI 396.44                 Driver Version: 396.44                    |\n",
            "|-------------------------------+----------------------+----------------------+\n",
            "| GPU  Name        Persistence-M| Bus-Id        Disp.A | Volatile Uncorr. ECC |\n",
            "| Fan  Temp  Perf  Pwr:Usage/Cap|         Memory-Usage | GPU-Util  Compute M. |\n",
            "|===============================+======================+======================|\n",
            "|   0  Tesla K80           Off  | 00000000:00:04.0 Off |                    0 |\n",
            "| N/A   73C    P8    35W / 149W |      0MiB / 11441MiB |      0%      Default |\n",
            "+-------------------------------+----------------------+----------------------+\n",
            "                                                                               \n",
            "+-----------------------------------------------------------------------------+\n",
            "| Processes:                                                       GPU Memory |\n",
            "|  GPU       PID   Type   Process name                             Usage      |\n",
            "|=============================================================================|\n",
            "|  No running processes found                                                 |\n",
            "+-----------------------------------------------------------------------------+\n"
          ],
          "name": "stdout"
        }
      ]
    },
    {
      "metadata": {
        "colab_type": "code",
        "id": "d6LaqlqUw7rI",
        "colab": {}
      },
      "cell_type": "code",
      "source": [
        "import numpy as np\n",
        "import pandas as pd\n",
        "from matplotlib import pyplot as plt\n",
        "from sklearn.linear_model import LogisticRegression, LogisticRegressionCV\n",
        "from sklearn.model_selection import train_test_split, GridSearchCV, validation_curve\n",
        "from sklearn.metrics import make_scorer\n",
        "import xgboost as xgb\n",
        "from xgboost import XGBClassifier\n",
        "import pickle\n",
        "from sklearn.model_selection import learning_curve\n",
        "from scipy import sparse\n",
        "from numpy import genfromtxt\n",
        "import pickle\n",
        "%matplotlib inline\n",
        "# figure size in inches\n",
        "import warnings\n",
        "warnings.filterwarnings(module='sklearn*', action='ignore', category=DeprecationWarning)\n",
        "plt.rcParams['figure.figsize'] = 16,9"
      ],
      "execution_count": 0,
      "outputs": []
    },
    {
      "metadata": {
        "colab_type": "code",
        "id": "5FtcjwfFw7rb",
        "colab": {}
      },
      "cell_type": "code",
      "source": [
        "def create_submission(predict, id_vals, enc, filename):\n",
        "    # Для каждого ID пользователя отбираем 5 классов с максимальной предсказанной вероятностью\n",
        "    ids = []  # спикок ID пользователей\n",
        "    cts = []  # список стран\n",
        "    for i in range(len(id_vals)):\n",
        "        idx = id_vals[i]\n",
        "        ids += [idx] * 5\n",
        "        cts += enc.inverse_transform(np.argsort(predict[i])[::-1])[:5].tolist()\n",
        "    #Generate submission\n",
        "    sub = pd.DataFrame(np.column_stack((ids, cts)), columns=['id', 'country'])\n",
        "    sub.to_csv(filename, index=False) "
      ],
      "execution_count": 0,
      "outputs": []
    },
    {
      "metadata": {
        "colab_type": "code",
        "id": "HAq8QGn2w7rw",
        "colab": {}
      },
      "cell_type": "code",
      "source": [
        "# Реализация вычисления целевой метрики NDCG\n",
        "def my_ndcg(y_true, y_predict, k=5):\n",
        "    ndcg = 0\n",
        "    n = 0\n",
        "    for y_true_val, y_predict_vec in zip(y_true, y_predict):\n",
        "        #print(y_true_val, y_predict_vec)\n",
        "        order = np.argsort(y_predict_vec)[::-1][:k]\n",
        "        #print(order)\n",
        "        for idx, y_predict_val in enumerate(order):\n",
        "            if y_true_val == y_predict_val:\n",
        "                #print(no1 / np.log2(idx + 2))\n",
        "                ndcg += 1 / np.log2(idx + 2)\n",
        "                break\n",
        "        n += 1\n",
        "    #print(ndcg)\n",
        "    return ndcg / n"
      ],
      "execution_count": 0,
      "outputs": []
    },
    {
      "metadata": {
        "id": "2pfoGcU68FBu",
        "colab_type": "code",
        "colab": {}
      },
      "cell_type": "code",
      "source": [
        "ndcg_scorer = make_scorer(my_ndcg, needs_proba=True, k=5)"
      ],
      "execution_count": 0,
      "outputs": []
    },
    {
      "metadata": {
        "id": "FiyigxXcf-n5",
        "colab_type": "text"
      },
      "cell_type": "markdown",
      "source": [
        "Подгружаем данные"
      ]
    },
    {
      "metadata": {
        "id": "4pr0MTRrwBj4",
        "colab_type": "code",
        "colab": {}
      },
      "cell_type": "code",
      "source": [
        "X_train = sparse.load_npz(\"train_data.npz\")\n",
        "X_test = sparse.load_npz(\"test_data.npz\")"
      ],
      "execution_count": 0,
      "outputs": []
    },
    {
      "metadata": {
        "id": "BQAt4F4ht4Ia",
        "colab_type": "code",
        "colab": {}
      },
      "cell_type": "code",
      "source": [
        "y = genfromtxt('train_target.csv', delimiter=',')"
      ],
      "execution_count": 0,
      "outputs": []
    },
    {
      "metadata": {
        "id": "L4meoFDN3ptb",
        "colab_type": "code",
        "colab": {}
      },
      "cell_type": "code",
      "source": [
        "indexes = np.load('df_test_index.npy')"
      ],
      "execution_count": 0,
      "outputs": []
    },
    {
      "metadata": {
        "id": "H2Ae67fp34aU",
        "colab_type": "code",
        "outputId": "c108aaae-aaf0-4617-f241-779ed14fd3d3",
        "colab": {
          "base_uri": "https://localhost:8080/",
          "height": 35
        }
      },
      "cell_type": "code",
      "source": [
        "indexes[1]"
      ],
      "execution_count": 0,
      "outputs": [
        {
          "output_type": "execute_result",
          "data": {
            "text/plain": [
              "'jtl0dijy2j'"
            ]
          },
          "metadata": {
            "tags": []
          },
          "execution_count": 108
        }
      ]
    },
    {
      "metadata": {
        "id": "KxnDuNd_30uX",
        "colab_type": "text"
      },
      "cell_type": "markdown",
      "source": [
        "Выделяем обучающую выборку и валидационную (отложенную)."
      ]
    },
    {
      "metadata": {
        "id": "wVi2DIKa30uY",
        "colab_type": "code",
        "colab": {}
      },
      "cell_type": "code",
      "source": [
        "X_train_part, X_valid, y_train_part, y_valid = train_test_split(X_train, y, test_size=0.3, random_state=17)"
      ],
      "execution_count": 0,
      "outputs": []
    },
    {
      "metadata": {
        "id": "2pHvM-cW30uZ",
        "colab_type": "text"
      },
      "cell_type": "markdown",
      "source": [
        "### Часть 7. Выбор метрики"
      ]
    },
    {
      "metadata": {
        "id": "hoxnjme530uZ",
        "colab_type": "text"
      },
      "cell_type": "markdown",
      "source": [
        "В данной задаче по каждому пользователю из тестовой выборки нам нужно спрогнозировать 5 стран, разместив прогнозы в порядке уменьшения вероятности первого бронирования. В идеальном прогнозе для каждого пользователя на первом месте будет идти \"истинная\" страна первого бронирования. В хорошем же прогнозе чем выше \"истинная\" страна в списке из 5 спрогнозированных стран, тем лучше. Это чем-то похоже на ранжирование поисковой выдачи, поэтому применяется соответствующая метрика качества.\n",
        "\n",
        "В качестве основной метрики для оценки результатов модели мы будем использовать (вслед за организаторами соответствующего соревнования Kaggle) метрику [NDCG (Normalized discounted cumulative gain)](https://en.wikipedia.org/wiki/Discounted_cumulative_gain). Это метрика качества ранжирования, которая широко используется в информационном поиске, а также в некоторых задачах многолассовой классификации (наш случай). NDCG является нормализованной (нормированной) версией метрики Discounted Cumulative Gain (DCG), которая определяется следующим образом:\n",
        "$$\\large \\begin{array}{rcl}\n",
        "DCG_k = \\sum_{i=1}^{k}\\dfrac{2^{rel_i}-1}{\\log_{2}(i+1)}\n",
        "\\end{array}$$\n",
        "\n",
        "$rel_i$ - это релевантность нахождения объекта поисковой выдачи на позиции $i$. В нашем случае \"истинная\" страна имеет $rel_i = 1$, а все остальные $rel_i = 0$. Поэтому чем выше истинная страна в ранкинге, тем выше скор DCG.\n",
        "$k$ - параметр метрики - количество объектов, которые рассматриваются в ранкинге. В нашем случае $k = 5$.\n",
        "\n",
        "Для получения NDCG нужно DCG разделить на \"идеальный\" DCG для набора документов, которые все правильно отсортированы по их релевантности. В нашем случае IDCG = 1, т.к. у нас только одна релевантная страна и она должна быть расположена на первом месте, следовательно $\\dfrac{2^{1}-1}{\\log_{2}(1+1)}=1$."
      ]
    },
    {
      "metadata": {
        "id": "YAySBTlb30ua",
        "colab_type": "text"
      },
      "cell_type": "markdown",
      "source": [
        "### Часть 8. Выбор модели"
      ]
    },
    {
      "metadata": {
        "id": "o1MfXzJK30ub",
        "colab_type": "text"
      },
      "cell_type": "markdown",
      "source": [
        "Так как мы имеем дело с задачей многоклассовой классификации, то попробовуем использовать два класса моделей: \n",
        "* Логистическую регрессию (LogisticRegression) - простой и быстрый вариант.\n",
        "* Градиентный бустинг (XGBoost) - потенциально обеспечит более высокую точность.\n",
        "* CatBoost - имеем много категориальных признаков."
      ]
    },
    {
      "metadata": {
        "id": "02k-8ekG30uc",
        "colab_type": "text"
      },
      "cell_type": "markdown",
      "source": [
        "###  Часть 9. Кросс-валидация, подбор параметров"
      ]
    },
    {
      "metadata": {
        "id": "UbPYfU0a30uc",
        "colab_type": "text"
      },
      "cell_type": "markdown",
      "source": [
        "### _Логистическая регрессия_"
      ]
    },
    {
      "metadata": {
        "collapsed": true,
        "id": "V-1BmrNG30uf",
        "colab_type": "text"
      },
      "cell_type": "markdown",
      "source": [
        "Для начала построим модель логистической регрессии с параметрами по умолчанию."
      ]
    },
    {
      "metadata": {
        "id": "WmkwCvEr30uf",
        "colab_type": "code",
        "outputId": "4f4314de-0e6e-4a15-d52b-812184974a3f",
        "colab": {
          "base_uri": "https://localhost:8080/",
          "height": 54
        }
      },
      "cell_type": "code",
      "source": [
        "%%time\n",
        "clf_logit = LogisticRegression(random_state=17, \n",
        "                               multi_class='multinomial',\n",
        "                               n_jobs=4,\n",
        "                               solver='lbfgs'\n",
        "                              )\n",
        "clf_logit.fit(X_train_part, y_train_part)"
      ],
      "execution_count": 0,
      "outputs": [
        {
          "output_type": "stream",
          "text": [
            "CPU times: user 161 ms, sys: 498 ms, total: 659 ms\n",
            "Wall time: 1min 11s\n"
          ],
          "name": "stdout"
        }
      ]
    },
    {
      "metadata": {
        "id": "KyZv9Y6a30uh",
        "colab_type": "text"
      },
      "cell_type": "markdown",
      "source": [
        "#### Прогноз для отложенной и тестовой выборки"
      ]
    },
    {
      "metadata": {
        "id": "ydlOZitq30ui",
        "colab_type": "code",
        "colab": {}
      },
      "cell_type": "code",
      "source": [
        "y_predict = clf_logit.predict_proba(X_valid)"
      ],
      "execution_count": 0,
      "outputs": []
    },
    {
      "metadata": {
        "id": "aXMLKD8130uj",
        "colab_type": "code",
        "outputId": "f525c3bd-30f6-452e-a376-652e227267c7",
        "colab": {
          "base_uri": "https://localhost:8080/",
          "height": 72
        }
      },
      "cell_type": "code",
      "source": [
        "%%time\n",
        "my_ndcg(y_valid, y_predict, k=5)"
      ],
      "execution_count": 0,
      "outputs": [
        {
          "output_type": "stream",
          "text": [
            "CPU times: user 180 ms, sys: 7.08 ms, total: 187 ms\n",
            "Wall time: 186 ms\n"
          ],
          "name": "stdout"
        },
        {
          "output_type": "execute_result",
          "data": {
            "text/plain": [
              "0.8434736443967666"
            ]
          },
          "metadata": {
            "tags": []
          },
          "execution_count": 113
        }
      ]
    },
    {
      "metadata": {
        "id": "8UmN6KWr30un",
        "colab_type": "code",
        "outputId": "8eecf16a-8ff4-412c-dad6-2e2d087f8a27",
        "colab": {
          "base_uri": "https://localhost:8080/",
          "height": 54
        }
      },
      "cell_type": "code",
      "source": [
        "%%time\n",
        "clf_logit.fit(X_train, y)\n",
        "y_predict = clf_logit.predict_proba(X_test)"
      ],
      "execution_count": 0,
      "outputs": [
        {
          "output_type": "stream",
          "text": [
            "CPU times: user 584 ms, sys: 174 ms, total: 759 ms\n",
            "Wall time: 1min 33s\n"
          ],
          "name": "stdout"
        }
      ]
    },
    {
      "metadata": {
        "id": "yY8GcUAlpdvT",
        "colab_type": "code",
        "colab": {}
      },
      "cell_type": "code",
      "source": [
        "y_enc = pickle.load(open('y_enc.dump', 'rb'))"
      ],
      "execution_count": 0,
      "outputs": []
    },
    {
      "metadata": {
        "id": "QtF-i8Z4p17V",
        "colab_type": "code",
        "colab": {}
      },
      "cell_type": "code",
      "source": [
        ""
      ],
      "execution_count": 0,
      "outputs": []
    },
    {
      "metadata": {
        "id": "L5__rsIy30up",
        "colab_type": "code",
        "colab": {}
      },
      "cell_type": "code",
      "source": [
        "create_submission(y_predict, indexes, y_enc, 'sub_log_base.csv')"
      ],
      "execution_count": 0,
      "outputs": []
    },
    {
      "metadata": {
        "id": "Xuykpg0f30uv",
        "colab_type": "text"
      },
      "cell_type": "markdown",
      "source": [
        "#### Кросс-валидация логистической регрессии"
      ]
    },
    {
      "metadata": {
        "id": "EVpWn1yw30uv",
        "colab_type": "text"
      },
      "cell_type": "markdown",
      "source": [
        "Теперь выполним кросс-валидацию модели логистической регрессии. Будем подбирать параметр регуляризации $C$ на кросс-валидации по 5 фолдам."
      ]
    },
    {
      "metadata": {
        "id": "GkOcCo-z30uv",
        "colab_type": "code",
        "colab": {}
      },
      "cell_type": "code",
      "source": [
        "C_vals = np.logspace(-2, 2, 5)"
      ],
      "execution_count": 0,
      "outputs": []
    },
    {
      "metadata": {
        "id": "5rAdixdE30ux",
        "colab_type": "code",
        "colab": {}
      },
      "cell_type": "code",
      "source": [
        "log_cv = LogisticRegressionCV(Cs=C_vals, \n",
        "                              cv=5, \n",
        "                              random_state=17, \n",
        "                              multi_class='multinomial', \n",
        "                              solver='lbfgs', \n",
        "                              scoring=ndcg_scorer, \n",
        "                              n_jobs=-1)"
      ],
      "execution_count": 0,
      "outputs": []
    },
    {
      "metadata": {
        "id": "6ebSBY8H30u2",
        "colab_type": "code",
        "outputId": "8c6a97a3-cd4f-4e9d-c261-65cf38e75996",
        "colab": {
          "base_uri": "https://localhost:8080/",
          "height": 255
        }
      },
      "cell_type": "code",
      "source": [
        "%%time\n",
        "log_cv.fit(X_train_part, y_train_part)"
      ],
      "execution_count": 0,
      "outputs": [
        {
          "output_type": "stream",
          "text": [
            "/usr/local/lib/python3.6/dist-packages/sklearn/externals/joblib/externals/loky/process_executor.py:706: UserWarning: A worker stopped while some jobs were given to the executor. This can be caused by a too short worker timeout or by a memory leak.\n",
            "  \"timeout or by a memory leak.\", UserWarning\n"
          ],
          "name": "stderr"
        },
        {
          "output_type": "stream",
          "text": [
            "CPU times: user 1min 7s, sys: 354 ms, total: 1min 7s\n",
            "Wall time: 21min 12s\n"
          ],
          "name": "stdout"
        },
        {
          "output_type": "stream",
          "text": [
            "/usr/local/lib/python3.6/dist-packages/sklearn/linear_model/logistic.py:758: ConvergenceWarning: lbfgs failed to converge. Increase the number of iterations.\n",
            "  \"of iterations.\", ConvergenceWarning)\n"
          ],
          "name": "stderr"
        },
        {
          "output_type": "execute_result",
          "data": {
            "text/plain": [
              "LogisticRegressionCV(Cs=array([1.e-02, 1.e-01, 1.e+00, 1.e+01, 1.e+02]),\n",
              "           class_weight=None, cv=5, dual=False, fit_intercept=True,\n",
              "           intercept_scaling=1.0, max_iter=100, multi_class='multinomial',\n",
              "           n_jobs=-1, penalty='l2', random_state=17, refit=True,\n",
              "           scoring=make_scorer(my_ndcg, needs_proba=True, k=5),\n",
              "           solver='lbfgs', tol=0.0001, verbose=0)"
            ]
          },
          "metadata": {
            "tags": []
          },
          "execution_count": 120
        }
      ]
    },
    {
      "metadata": {
        "id": "1pHfAAbd30u5",
        "colab_type": "code",
        "outputId": "a5fc0bb8-cbfb-4805-85f2-6866e49a5b09",
        "colab": {
          "base_uri": "https://localhost:8080/",
          "height": 54
        }
      },
      "cell_type": "code",
      "source": [
        "log_cv.C_"
      ],
      "execution_count": 0,
      "outputs": [
        {
          "output_type": "execute_result",
          "data": {
            "text/plain": [
              "array([0.01, 0.01, 0.01, 0.01, 0.01, 0.01, 0.01, 0.01, 0.01, 0.01, 0.01,\n",
              "       0.01])"
            ]
          },
          "metadata": {
            "tags": []
          },
          "execution_count": 121
        }
      ]
    },
    {
      "metadata": {
        "id": "vlxofsSL30vE",
        "colab_type": "text"
      },
      "cell_type": "markdown",
      "source": [
        "Оптимальный параметр C = 0.01."
      ]
    },
    {
      "metadata": {
        "id": "b0yebinM30vE",
        "colab_type": "text"
      },
      "cell_type": "markdown",
      "source": [
        "#### Прогноз для отложенной и тестовой выборки (логистическая регрессия)"
      ]
    },
    {
      "metadata": {
        "id": "KEOGe-Nu30vG",
        "colab_type": "text"
      },
      "cell_type": "markdown",
      "source": [
        "Выполним прогнозы с учетом оптимального значения параметра C, полученного на кросс-валидации."
      ]
    },
    {
      "metadata": {
        "id": "ypuJBCc330vH",
        "colab_type": "code",
        "outputId": "fd070011-4a61-431f-c44f-e246a810e95b",
        "colab": {
          "base_uri": "https://localhost:8080/",
          "height": 54
        }
      },
      "cell_type": "code",
      "source": [
        "%%time\n",
        "clf_logit = LogisticRegression(C=0.01, \n",
        "                               random_state=17, \n",
        "                               n_jobs=4,\n",
        "                               multi_class='multinomial', \n",
        "                               solver='lbfgs')\n",
        "clf_logit.fit(X_train_part, y_train_part)"
      ],
      "execution_count": 0,
      "outputs": [
        {
          "output_type": "stream",
          "text": [
            "CPU times: user 138 ms, sys: 370 ms, total: 508 ms\n",
            "Wall time: 1min 9s\n"
          ],
          "name": "stdout"
        }
      ]
    },
    {
      "metadata": {
        "id": "FibSG7hT30vL",
        "colab_type": "code",
        "colab": {}
      },
      "cell_type": "code",
      "source": [
        "y_predict = clf_logit.predict_proba(X_valid)"
      ],
      "execution_count": 0,
      "outputs": []
    },
    {
      "metadata": {
        "id": "AI3KODEX30vO",
        "colab_type": "code",
        "outputId": "ad2234b4-5ee2-42ea-d920-1e8f465d2dd5",
        "colab": {
          "base_uri": "https://localhost:8080/",
          "height": 72
        }
      },
      "cell_type": "code",
      "source": [
        "%%time\n",
        "my_ndcg(y_valid, y_predict, k=5)"
      ],
      "execution_count": 0,
      "outputs": [
        {
          "output_type": "stream",
          "text": [
            "CPU times: user 163 ms, sys: 2.97 ms, total: 166 ms\n",
            "Wall time: 168 ms\n"
          ],
          "name": "stdout"
        },
        {
          "output_type": "execute_result",
          "data": {
            "text/plain": [
              "0.8448835460419181"
            ]
          },
          "metadata": {
            "tags": []
          },
          "execution_count": 124
        }
      ]
    },
    {
      "metadata": {
        "id": "UZbRWDe_30vQ",
        "colab_type": "code",
        "outputId": "27da9a68-8e29-4a98-82ef-ce9b75f6223a",
        "colab": {
          "base_uri": "https://localhost:8080/",
          "height": 54
        }
      },
      "cell_type": "code",
      "source": [
        "%%time\n",
        "clf_logit.fit(X_train, y)\n",
        "y_predict = clf_logit.predict_proba(X_test)"
      ],
      "execution_count": 0,
      "outputs": [
        {
          "output_type": "stream",
          "text": [
            "CPU times: user 570 ms, sys: 170 ms, total: 740 ms\n",
            "Wall time: 1min 33s\n"
          ],
          "name": "stdout"
        }
      ]
    },
    {
      "metadata": {
        "id": "V-GNW_L_30vR",
        "colab_type": "code",
        "colab": {}
      },
      "cell_type": "code",
      "source": [
        "create_submission(y_predict, indexes, y_enc, 'sub_tmp_cv.csv')"
      ],
      "execution_count": 0,
      "outputs": []
    },
    {
      "metadata": {
        "id": "o0lFnC0r30vT",
        "colab_type": "text"
      },
      "cell_type": "markdown",
      "source": [
        "По результатам кросс-валидации удалось улучшить скор\n"
      ]
    },
    {
      "metadata": {
        "id": "cWd5V6p430vT",
        "colab_type": "text"
      },
      "cell_type": "markdown",
      "source": [
        "#### Построим кривые валидации"
      ]
    },
    {
      "metadata": {
        "id": "EItKTmI230vT",
        "colab_type": "code",
        "colab": {}
      },
      "cell_type": "code",
      "source": [
        "C_vals = np.logspace(-2, 1, 5)\n",
        "clf_logit = LogisticRegression(random_state=17, \n",
        "                               n_jobs=-1,\n",
        "                               multi_class='multinomial', \n",
        "                               solver='lbfgs')"
      ],
      "execution_count": 0,
      "outputs": []
    },
    {
      "metadata": {
        "id": "_h4hhBNk30vU",
        "colab_type": "code",
        "outputId": "50111eb9-66ea-4b66-c6fd-03fd44af8172",
        "colab": {
          "base_uri": "https://localhost:8080/",
          "height": 1427
        }
      },
      "cell_type": "code",
      "source": [
        "%%time\n",
        "val_train, val_test = validation_curve(clf_logit, \n",
        "                                       X_train, \n",
        "                                       y, \n",
        "                                       param_name='C', \n",
        "                                       param_range=C_vals, \n",
        "                                       cv=5,\n",
        "                                       scoring='neg_log_loss',\n",
        "                                       n_jobs=-1,\n",
        "                                       verbose=1)"
      ],
      "execution_count": 0,
      "outputs": [
        {
          "output_type": "stream",
          "text": [
            "[Parallel(n_jobs=-1)]: Using backend LokyBackend with 2 concurrent workers.\n"
          ],
          "name": "stderr"
        },
        {
          "output_type": "error",
          "ename": "KeyboardInterrupt",
          "evalue": "ignored",
          "traceback": [
            "\u001b[0;31m---------------------------------------------------------------------------\u001b[0m",
            "\u001b[0;31mKeyboardInterrupt\u001b[0m                         Traceback (most recent call last)",
            "\u001b[0;32m<ipython-input-128-4da49ee2a4e6>\u001b[0m in \u001b[0;36m<module>\u001b[0;34m()\u001b[0m\n\u001b[0;32m----> 1\u001b[0;31m \u001b[0mget_ipython\u001b[0m\u001b[0;34m(\u001b[0m\u001b[0;34m)\u001b[0m\u001b[0;34m.\u001b[0m\u001b[0mrun_cell_magic\u001b[0m\u001b[0;34m(\u001b[0m\u001b[0;34m'time'\u001b[0m\u001b[0;34m,\u001b[0m \u001b[0;34m''\u001b[0m\u001b[0;34m,\u001b[0m \u001b[0;34m\"val_train, val_test = validation_curve(clf_logit, \\n                                       X_train, \\n                                       y, \\n                                       param_name='C', \\n                                       param_range=C_vals, \\n                                       cv=5,\\n                                       scoring='neg_log_loss',\\n                                       n_jobs=-1,\\n                                       verbose=1)\"\u001b[0m\u001b[0;34m)\u001b[0m\u001b[0;34m\u001b[0m\u001b[0;34m\u001b[0m\u001b[0m\n\u001b[0m",
            "\u001b[0;32m/usr/local/lib/python3.6/dist-packages/IPython/core/interactiveshell.py\u001b[0m in \u001b[0;36mrun_cell_magic\u001b[0;34m(self, magic_name, line, cell)\u001b[0m\n\u001b[1;32m   2115\u001b[0m             \u001b[0mmagic_arg_s\u001b[0m \u001b[0;34m=\u001b[0m \u001b[0mself\u001b[0m\u001b[0;34m.\u001b[0m\u001b[0mvar_expand\u001b[0m\u001b[0;34m(\u001b[0m\u001b[0mline\u001b[0m\u001b[0;34m,\u001b[0m \u001b[0mstack_depth\u001b[0m\u001b[0;34m)\u001b[0m\u001b[0;34m\u001b[0m\u001b[0;34m\u001b[0m\u001b[0m\n\u001b[1;32m   2116\u001b[0m             \u001b[0;32mwith\u001b[0m \u001b[0mself\u001b[0m\u001b[0;34m.\u001b[0m\u001b[0mbuiltin_trap\u001b[0m\u001b[0;34m:\u001b[0m\u001b[0;34m\u001b[0m\u001b[0;34m\u001b[0m\u001b[0m\n\u001b[0;32m-> 2117\u001b[0;31m                 \u001b[0mresult\u001b[0m \u001b[0;34m=\u001b[0m \u001b[0mfn\u001b[0m\u001b[0;34m(\u001b[0m\u001b[0mmagic_arg_s\u001b[0m\u001b[0;34m,\u001b[0m \u001b[0mcell\u001b[0m\u001b[0;34m)\u001b[0m\u001b[0;34m\u001b[0m\u001b[0;34m\u001b[0m\u001b[0m\n\u001b[0m\u001b[1;32m   2118\u001b[0m             \u001b[0;32mreturn\u001b[0m \u001b[0mresult\u001b[0m\u001b[0;34m\u001b[0m\u001b[0;34m\u001b[0m\u001b[0m\n\u001b[1;32m   2119\u001b[0m \u001b[0;34m\u001b[0m\u001b[0m\n",
            "\u001b[0;32m<decorator-gen-60>\u001b[0m in \u001b[0;36mtime\u001b[0;34m(self, line, cell, local_ns)\u001b[0m\n",
            "\u001b[0;32m/usr/local/lib/python3.6/dist-packages/IPython/core/magic.py\u001b[0m in \u001b[0;36m<lambda>\u001b[0;34m(f, *a, **k)\u001b[0m\n\u001b[1;32m    186\u001b[0m     \u001b[0;31m# but it's overkill for just that one bit of state.\u001b[0m\u001b[0;34m\u001b[0m\u001b[0;34m\u001b[0m\u001b[0;34m\u001b[0m\u001b[0m\n\u001b[1;32m    187\u001b[0m     \u001b[0;32mdef\u001b[0m \u001b[0mmagic_deco\u001b[0m\u001b[0;34m(\u001b[0m\u001b[0marg\u001b[0m\u001b[0;34m)\u001b[0m\u001b[0;34m:\u001b[0m\u001b[0;34m\u001b[0m\u001b[0;34m\u001b[0m\u001b[0m\n\u001b[0;32m--> 188\u001b[0;31m         \u001b[0mcall\u001b[0m \u001b[0;34m=\u001b[0m \u001b[0;32mlambda\u001b[0m \u001b[0mf\u001b[0m\u001b[0;34m,\u001b[0m \u001b[0;34m*\u001b[0m\u001b[0ma\u001b[0m\u001b[0;34m,\u001b[0m \u001b[0;34m**\u001b[0m\u001b[0mk\u001b[0m\u001b[0;34m:\u001b[0m \u001b[0mf\u001b[0m\u001b[0;34m(\u001b[0m\u001b[0;34m*\u001b[0m\u001b[0ma\u001b[0m\u001b[0;34m,\u001b[0m \u001b[0;34m**\u001b[0m\u001b[0mk\u001b[0m\u001b[0;34m)\u001b[0m\u001b[0;34m\u001b[0m\u001b[0;34m\u001b[0m\u001b[0m\n\u001b[0m\u001b[1;32m    189\u001b[0m \u001b[0;34m\u001b[0m\u001b[0m\n\u001b[1;32m    190\u001b[0m         \u001b[0;32mif\u001b[0m \u001b[0mcallable\u001b[0m\u001b[0;34m(\u001b[0m\u001b[0marg\u001b[0m\u001b[0;34m)\u001b[0m\u001b[0;34m:\u001b[0m\u001b[0;34m\u001b[0m\u001b[0;34m\u001b[0m\u001b[0m\n",
            "\u001b[0;32m/usr/local/lib/python3.6/dist-packages/IPython/core/magics/execution.py\u001b[0m in \u001b[0;36mtime\u001b[0;34m(self, line, cell, local_ns)\u001b[0m\n\u001b[1;32m   1191\u001b[0m         \u001b[0;32melse\u001b[0m\u001b[0;34m:\u001b[0m\u001b[0;34m\u001b[0m\u001b[0;34m\u001b[0m\u001b[0m\n\u001b[1;32m   1192\u001b[0m             \u001b[0mst\u001b[0m \u001b[0;34m=\u001b[0m \u001b[0mclock2\u001b[0m\u001b[0;34m(\u001b[0m\u001b[0;34m)\u001b[0m\u001b[0;34m\u001b[0m\u001b[0;34m\u001b[0m\u001b[0m\n\u001b[0;32m-> 1193\u001b[0;31m             \u001b[0mexec\u001b[0m\u001b[0;34m(\u001b[0m\u001b[0mcode\u001b[0m\u001b[0;34m,\u001b[0m \u001b[0mglob\u001b[0m\u001b[0;34m,\u001b[0m \u001b[0mlocal_ns\u001b[0m\u001b[0;34m)\u001b[0m\u001b[0;34m\u001b[0m\u001b[0;34m\u001b[0m\u001b[0m\n\u001b[0m\u001b[1;32m   1194\u001b[0m             \u001b[0mend\u001b[0m \u001b[0;34m=\u001b[0m \u001b[0mclock2\u001b[0m\u001b[0;34m(\u001b[0m\u001b[0;34m)\u001b[0m\u001b[0;34m\u001b[0m\u001b[0;34m\u001b[0m\u001b[0m\n\u001b[1;32m   1195\u001b[0m             \u001b[0mout\u001b[0m \u001b[0;34m=\u001b[0m \u001b[0;32mNone\u001b[0m\u001b[0;34m\u001b[0m\u001b[0;34m\u001b[0m\u001b[0m\n",
            "\u001b[0;32m<timed exec>\u001b[0m in \u001b[0;36m<module>\u001b[0;34m()\u001b[0m\n",
            "\u001b[0;32m/usr/local/lib/python3.6/dist-packages/sklearn/model_selection/_validation.py\u001b[0m in \u001b[0;36mvalidation_curve\u001b[0;34m(estimator, X, y, param_name, param_range, groups, cv, scoring, n_jobs, pre_dispatch, verbose, error_score)\u001b[0m\n\u001b[1;32m   1445\u001b[0m         error_score=error_score)\n\u001b[1;32m   1446\u001b[0m         \u001b[0;31m# NOTE do not change order of iteration to allow one time cv splitters\u001b[0m\u001b[0;34m\u001b[0m\u001b[0;34m\u001b[0m\u001b[0;34m\u001b[0m\u001b[0m\n\u001b[0;32m-> 1447\u001b[0;31m         for train, test in cv.split(X, y, groups) for v in param_range)\n\u001b[0m\u001b[1;32m   1448\u001b[0m     \u001b[0mout\u001b[0m \u001b[0;34m=\u001b[0m \u001b[0mnp\u001b[0m\u001b[0;34m.\u001b[0m\u001b[0masarray\u001b[0m\u001b[0;34m(\u001b[0m\u001b[0mout\u001b[0m\u001b[0;34m)\u001b[0m\u001b[0;34m\u001b[0m\u001b[0;34m\u001b[0m\u001b[0m\n\u001b[1;32m   1449\u001b[0m     \u001b[0mn_params\u001b[0m \u001b[0;34m=\u001b[0m \u001b[0mlen\u001b[0m\u001b[0;34m(\u001b[0m\u001b[0mparam_range\u001b[0m\u001b[0;34m)\u001b[0m\u001b[0;34m\u001b[0m\u001b[0;34m\u001b[0m\u001b[0m\n",
            "\u001b[0;32m/usr/local/lib/python3.6/dist-packages/sklearn/externals/joblib/parallel.py\u001b[0m in \u001b[0;36m__call__\u001b[0;34m(self, iterable)\u001b[0m\n\u001b[1;32m    928\u001b[0m \u001b[0;34m\u001b[0m\u001b[0m\n\u001b[1;32m    929\u001b[0m             \u001b[0;32mwith\u001b[0m \u001b[0mself\u001b[0m\u001b[0;34m.\u001b[0m\u001b[0m_backend\u001b[0m\u001b[0;34m.\u001b[0m\u001b[0mretrieval_context\u001b[0m\u001b[0;34m(\u001b[0m\u001b[0;34m)\u001b[0m\u001b[0;34m:\u001b[0m\u001b[0;34m\u001b[0m\u001b[0;34m\u001b[0m\u001b[0m\n\u001b[0;32m--> 930\u001b[0;31m                 \u001b[0mself\u001b[0m\u001b[0;34m.\u001b[0m\u001b[0mretrieve\u001b[0m\u001b[0;34m(\u001b[0m\u001b[0;34m)\u001b[0m\u001b[0;34m\u001b[0m\u001b[0;34m\u001b[0m\u001b[0m\n\u001b[0m\u001b[1;32m    931\u001b[0m             \u001b[0;31m# Make sure that we get a last message telling us we are done\u001b[0m\u001b[0;34m\u001b[0m\u001b[0;34m\u001b[0m\u001b[0;34m\u001b[0m\u001b[0m\n\u001b[1;32m    932\u001b[0m             \u001b[0melapsed_time\u001b[0m \u001b[0;34m=\u001b[0m \u001b[0mtime\u001b[0m\u001b[0;34m.\u001b[0m\u001b[0mtime\u001b[0m\u001b[0;34m(\u001b[0m\u001b[0;34m)\u001b[0m \u001b[0;34m-\u001b[0m \u001b[0mself\u001b[0m\u001b[0;34m.\u001b[0m\u001b[0m_start_time\u001b[0m\u001b[0;34m\u001b[0m\u001b[0;34m\u001b[0m\u001b[0m\n",
            "\u001b[0;32m/usr/local/lib/python3.6/dist-packages/sklearn/externals/joblib/parallel.py\u001b[0m in \u001b[0;36mretrieve\u001b[0;34m(self)\u001b[0m\n\u001b[1;32m    831\u001b[0m             \u001b[0;32mtry\u001b[0m\u001b[0;34m:\u001b[0m\u001b[0;34m\u001b[0m\u001b[0;34m\u001b[0m\u001b[0m\n\u001b[1;32m    832\u001b[0m                 \u001b[0;32mif\u001b[0m \u001b[0mgetattr\u001b[0m\u001b[0;34m(\u001b[0m\u001b[0mself\u001b[0m\u001b[0;34m.\u001b[0m\u001b[0m_backend\u001b[0m\u001b[0;34m,\u001b[0m \u001b[0;34m'supports_timeout'\u001b[0m\u001b[0;34m,\u001b[0m \u001b[0;32mFalse\u001b[0m\u001b[0;34m)\u001b[0m\u001b[0;34m:\u001b[0m\u001b[0;34m\u001b[0m\u001b[0;34m\u001b[0m\u001b[0m\n\u001b[0;32m--> 833\u001b[0;31m                     \u001b[0mself\u001b[0m\u001b[0;34m.\u001b[0m\u001b[0m_output\u001b[0m\u001b[0;34m.\u001b[0m\u001b[0mextend\u001b[0m\u001b[0;34m(\u001b[0m\u001b[0mjob\u001b[0m\u001b[0;34m.\u001b[0m\u001b[0mget\u001b[0m\u001b[0;34m(\u001b[0m\u001b[0mtimeout\u001b[0m\u001b[0;34m=\u001b[0m\u001b[0mself\u001b[0m\u001b[0;34m.\u001b[0m\u001b[0mtimeout\u001b[0m\u001b[0;34m)\u001b[0m\u001b[0;34m)\u001b[0m\u001b[0;34m\u001b[0m\u001b[0;34m\u001b[0m\u001b[0m\n\u001b[0m\u001b[1;32m    834\u001b[0m                 \u001b[0;32melse\u001b[0m\u001b[0;34m:\u001b[0m\u001b[0;34m\u001b[0m\u001b[0;34m\u001b[0m\u001b[0m\n\u001b[1;32m    835\u001b[0m                     \u001b[0mself\u001b[0m\u001b[0;34m.\u001b[0m\u001b[0m_output\u001b[0m\u001b[0;34m.\u001b[0m\u001b[0mextend\u001b[0m\u001b[0;34m(\u001b[0m\u001b[0mjob\u001b[0m\u001b[0;34m.\u001b[0m\u001b[0mget\u001b[0m\u001b[0;34m(\u001b[0m\u001b[0;34m)\u001b[0m\u001b[0;34m)\u001b[0m\u001b[0;34m\u001b[0m\u001b[0;34m\u001b[0m\u001b[0m\n",
            "\u001b[0;32m/usr/local/lib/python3.6/dist-packages/sklearn/externals/joblib/_parallel_backends.py\u001b[0m in \u001b[0;36mwrap_future_result\u001b[0;34m(future, timeout)\u001b[0m\n\u001b[1;32m    519\u001b[0m         AsyncResults.get from multiprocessing.\"\"\"\n\u001b[1;32m    520\u001b[0m         \u001b[0;32mtry\u001b[0m\u001b[0;34m:\u001b[0m\u001b[0;34m\u001b[0m\u001b[0;34m\u001b[0m\u001b[0m\n\u001b[0;32m--> 521\u001b[0;31m             \u001b[0;32mreturn\u001b[0m \u001b[0mfuture\u001b[0m\u001b[0;34m.\u001b[0m\u001b[0mresult\u001b[0m\u001b[0;34m(\u001b[0m\u001b[0mtimeout\u001b[0m\u001b[0;34m=\u001b[0m\u001b[0mtimeout\u001b[0m\u001b[0;34m)\u001b[0m\u001b[0;34m\u001b[0m\u001b[0;34m\u001b[0m\u001b[0m\n\u001b[0m\u001b[1;32m    522\u001b[0m         \u001b[0;32mexcept\u001b[0m \u001b[0mLokyTimeoutError\u001b[0m\u001b[0;34m:\u001b[0m\u001b[0;34m\u001b[0m\u001b[0;34m\u001b[0m\u001b[0m\n\u001b[1;32m    523\u001b[0m             \u001b[0;32mraise\u001b[0m \u001b[0mTimeoutError\u001b[0m\u001b[0;34m(\u001b[0m\u001b[0;34m)\u001b[0m\u001b[0;34m\u001b[0m\u001b[0;34m\u001b[0m\u001b[0m\n",
            "\u001b[0;32m/usr/lib/python3.6/concurrent/futures/_base.py\u001b[0m in \u001b[0;36mresult\u001b[0;34m(self, timeout)\u001b[0m\n\u001b[1;32m    425\u001b[0m                 \u001b[0;32mreturn\u001b[0m \u001b[0mself\u001b[0m\u001b[0;34m.\u001b[0m\u001b[0m__get_result\u001b[0m\u001b[0;34m(\u001b[0m\u001b[0;34m)\u001b[0m\u001b[0;34m\u001b[0m\u001b[0;34m\u001b[0m\u001b[0m\n\u001b[1;32m    426\u001b[0m \u001b[0;34m\u001b[0m\u001b[0m\n\u001b[0;32m--> 427\u001b[0;31m             \u001b[0mself\u001b[0m\u001b[0;34m.\u001b[0m\u001b[0m_condition\u001b[0m\u001b[0;34m.\u001b[0m\u001b[0mwait\u001b[0m\u001b[0;34m(\u001b[0m\u001b[0mtimeout\u001b[0m\u001b[0;34m)\u001b[0m\u001b[0;34m\u001b[0m\u001b[0;34m\u001b[0m\u001b[0m\n\u001b[0m\u001b[1;32m    428\u001b[0m \u001b[0;34m\u001b[0m\u001b[0m\n\u001b[1;32m    429\u001b[0m             \u001b[0;32mif\u001b[0m \u001b[0mself\u001b[0m\u001b[0;34m.\u001b[0m\u001b[0m_state\u001b[0m \u001b[0;32min\u001b[0m \u001b[0;34m[\u001b[0m\u001b[0mCANCELLED\u001b[0m\u001b[0;34m,\u001b[0m \u001b[0mCANCELLED_AND_NOTIFIED\u001b[0m\u001b[0;34m]\u001b[0m\u001b[0;34m:\u001b[0m\u001b[0;34m\u001b[0m\u001b[0;34m\u001b[0m\u001b[0m\n",
            "\u001b[0;32m/usr/lib/python3.6/threading.py\u001b[0m in \u001b[0;36mwait\u001b[0;34m(self, timeout)\u001b[0m\n\u001b[1;32m    293\u001b[0m         \u001b[0;32mtry\u001b[0m\u001b[0;34m:\u001b[0m    \u001b[0;31m# restore state no matter what (e.g., KeyboardInterrupt)\u001b[0m\u001b[0;34m\u001b[0m\u001b[0;34m\u001b[0m\u001b[0m\n\u001b[1;32m    294\u001b[0m             \u001b[0;32mif\u001b[0m \u001b[0mtimeout\u001b[0m \u001b[0;32mis\u001b[0m \u001b[0;32mNone\u001b[0m\u001b[0;34m:\u001b[0m\u001b[0;34m\u001b[0m\u001b[0;34m\u001b[0m\u001b[0m\n\u001b[0;32m--> 295\u001b[0;31m                 \u001b[0mwaiter\u001b[0m\u001b[0;34m.\u001b[0m\u001b[0macquire\u001b[0m\u001b[0;34m(\u001b[0m\u001b[0;34m)\u001b[0m\u001b[0;34m\u001b[0m\u001b[0;34m\u001b[0m\u001b[0m\n\u001b[0m\u001b[1;32m    296\u001b[0m                 \u001b[0mgotit\u001b[0m \u001b[0;34m=\u001b[0m \u001b[0;32mTrue\u001b[0m\u001b[0;34m\u001b[0m\u001b[0;34m\u001b[0m\u001b[0m\n\u001b[1;32m    297\u001b[0m             \u001b[0;32melse\u001b[0m\u001b[0;34m:\u001b[0m\u001b[0;34m\u001b[0m\u001b[0;34m\u001b[0m\u001b[0m\n",
            "\u001b[0;31mKeyboardInterrupt\u001b[0m: "
          ]
        }
      ]
    },
    {
      "metadata": {
        "id": "x1k6Pf_K30vV",
        "colab_type": "code",
        "colab": {}
      },
      "cell_type": "code",
      "source": [
        "def plot_with_err(x, data, **kwargs):\n",
        "    mu, std = data.mean(1), data.std(1)\n",
        "    lines = plt.plot(x, mu, '-', **kwargs)\n",
        "    plt.fill_between(x, mu - std, mu + std, edgecolor='none',\n",
        "                     facecolor=lines[0].get_color(), alpha=0.2)\n",
        "\n"
      ],
      "execution_count": 0,
      "outputs": []
    },
    {
      "metadata": {
        "id": "txGhkLYX30vX",
        "colab_type": "code",
        "outputId": "579583d1-3fcc-44f4-8db0-7aeeb37511ae",
        "colab": {
          "base_uri": "https://localhost:8080/",
          "height": 571
        }
      },
      "cell_type": "code",
      "source": [
        "plt.rcParams['figure.figsize'] = 16,9\n",
        "plot_with_err(C_vals, val_train, label='training scores')\n",
        "plot_with_err(C_vals, val_test, label='validation scores')\n",
        "plt.xlabel(r'$C$'); plt.ylabel('log loss')\n",
        "plt.legend();"
      ],
      "execution_count": 0,
      "outputs": [
        {
          "output_type": "display_data",
          "data": {
            "image/png": "[encoded data removed]",
            "text/plain": [
              "<matplotlib.figure.Figure at 0x7f2a48133668>"
            ]
          },
          "metadata": {
            "tags": []
          }
        }
      ]
    },
    {
      "metadata": {
        "id": "br4-wvpN30vZ",
        "colab_type": "text"
      },
      "cell_type": "markdown",
      "source": [
        "На основе анализа кривых валидации можно сделать вывод, что наша модель переобучена, т.к. в LogisticRegression меньшим значениям \"C\" соответствует большая регуляризация."
      ]
    },
    {
      "metadata": {
        "id": "1xfU2sy830vZ",
        "colab_type": "text"
      },
      "cell_type": "markdown",
      "source": [
        "#### Построим кривые обучения"
      ]
    },
    {
      "metadata": {
        "id": "l2zBssBQ30vZ",
        "colab_type": "code",
        "colab": {}
      },
      "cell_type": "code",
      "source": [
        ""
      ],
      "execution_count": 0,
      "outputs": []
    },
    {
      "metadata": {
        "id": "axhRFuJU30va",
        "colab_type": "code",
        "colab": {}
      },
      "cell_type": "code",
      "source": [
        "from sklearn.metrics import log_loss"
      ],
      "execution_count": 0,
      "outputs": []
    },
    {
      "metadata": {
        "id": "e7j24VPx30vc",
        "colab_type": "code",
        "colab": {}
      },
      "cell_type": "code",
      "source": [
        "log_loss_scorer = make_scorer(lambda y_true, y_pred: log_loss(y_true, y_pred, labels=np.unique(y_true)), needs_proba=True)"
      ],
      "execution_count": 0,
      "outputs": []
    },
    {
      "metadata": {
        "id": "ZV3toR9W30vc",
        "colab_type": "code",
        "outputId": "a291e3fc-17e1-4b26-d295-179de9d4f864",
        "colab": {
          "base_uri": "https://localhost:8080/",
          "height": 52
        }
      },
      "cell_type": "code",
      "source": [
        "clf_logit = LogisticRegression(random_state=17, \n",
        "                               n_jobs=4,\n",
        "                               C=0.01,\n",
        "                               multi_class='multinomial', \n",
        "                               solver='lbfgs')\n",
        "    \n",
        "N_train, val_train, val_test = learning_curve(clf_logit,\n",
        "                                              X_train, y, \n",
        "                                              #groups=y,\n",
        "                                              #train_sizes=train_sizes, \n",
        "                                              cv=3,\n",
        "                                              n_jobs=1, \n",
        "                                              verbose=1,\n",
        "                                              scoring=ndcg_scorer)"
      ],
      "execution_count": 0,
      "outputs": [
        {
          "output_type": "stream",
          "text": [
            "[learning_curve] Training set sizes: [ 4920 15991 27062 38133 49204]\n"
          ],
          "name": "stdout"
        },
        {
          "output_type": "stream",
          "text": [
            "[Parallel(n_jobs=1)]: Done  15 out of  15 | elapsed:  8.9min finished\n"
          ],
          "name": "stderr"
        }
      ]
    },
    {
      "metadata": {
        "id": "JT5SmNNO30ve",
        "colab_type": "code",
        "outputId": "a0e1b468-ed60-4069-a83d-76a07c7aeaed",
        "colab": {
          "base_uri": "https://localhost:8080/",
          "height": 608
        }
      },
      "cell_type": "code",
      "source": [
        "plt.rcParams['figure.figsize'] = 16,9\n",
        "plot_with_err(N_train, val_train, label='training scores')\n",
        "plot_with_err(N_train, val_test, label='validation scores')\n",
        "plt.xlabel('Training Set Size'); plt.ylabel('log loss')\n",
        "plt.title(\"Learning curves\")\n",
        "plt.legend()"
      ],
      "execution_count": 0,
      "outputs": [
        {
          "output_type": "execute_result",
          "data": {
            "text/plain": [
              "<matplotlib.legend.Legend at 0x7f2a40d7f4a8>"
            ]
          },
          "metadata": {
            "tags": []
          },
          "execution_count": 141
        },
        {
          "output_type": "display_data",
          "data": {
            "image/png": "[encoded data removed]",
            "text/plain": [
              "<matplotlib.figure.Figure at 0x7f2a41157898>"
            ]
          },
          "metadata": {
            "tags": []
          }
        }
      ]
    },
    {
      "metadata": {
        "id": "uSi7-e-730vf",
        "colab_type": "text"
      },
      "cell_type": "markdown",
      "source": [
        "На кривой обучения мы видим, что метрики качества на обучающающей и валидационной выборках сходятся после примерно 15000 наблюдений. Далее они практически не меняются."
      ]
    },
    {
      "metadata": {
        "id": "_9NBYJS630vg",
        "colab_type": "text"
      },
      "cell_type": "markdown",
      "source": [
        "### _Градиентный бустинг (XGBoost)_"
      ]
    },
    {
      "metadata": {
        "id": "rQB2o3Lr30vg",
        "colab_type": "text"
      },
      "cell_type": "markdown",
      "source": [
        "#### Подбираем базовое количество деревьев"
      ]
    },
    {
      "metadata": {
        "id": "3UqXvTV930vh",
        "colab_type": "text"
      },
      "cell_type": "markdown",
      "source": [
        "XGBoost имеет большое количество тонких настроек. Вначале мы попробуем подобрать оптимальное количество деревьев (n_estimators) при помощи встроенной функции кросс-валидации xgboost. Из-за ограничения в вычислительных ресурсах мы не будем проверять значения n_estimators больше 100."
      ]
    },
    {
      "metadata": {
        "id": "bUsIw86030vh",
        "colab_type": "code",
        "colab": {}
      },
      "cell_type": "code",
      "source": [
        "# Кастомная реализация метрики NDCG\n",
        "def ndcg5_score(preds, dtrain):\n",
        "    labels = dtrain.get_label()\n",
        "    top = []\n",
        "\n",
        "    for i in range(preds.shape[0]):\n",
        "        top.append(np.argsort(preds[i])[::-1][:5])\n",
        "\n",
        "    mat = np.reshape(np.repeat(labels,np.shape(top)[1]) == np.array(top).ravel(),np.array(top).shape).astype(int)\n",
        "    score = np.mean(np.sum(mat/np.log2(np.arange(2, mat.shape[1] + 2)),axis = 1))\n",
        "    return 'ndcg5', score"
      ],
      "execution_count": 0,
      "outputs": []
    },
    {
      "metadata": {
        "id": "Leymr9JV30vi",
        "colab_type": "code",
        "outputId": "f84b8e9e-d99a-471d-b2cd-a6010d47f74f",
        "colab": {
          "base_uri": "https://localhost:8080/",
          "height": 54
        }
      },
      "cell_type": "code",
      "source": [
        "%%time\n",
        "xgtrain = xgb.DMatrix(X_train_part, label=y_train_part)"
      ],
      "execution_count": 0,
      "outputs": [
        {
          "output_type": "stream",
          "text": [
            "CPU times: user 7 s, sys: 545 ms, total: 7.54 s\n",
            "Wall time: 7.53 s\n"
          ],
          "name": "stdout"
        }
      ]
    },
    {
      "metadata": {
        "id": "H82_K4dJ30vm",
        "colab_type": "code",
        "colab": {}
      },
      "cell_type": "code",
      "source": [
        "param = {\n",
        "    'learning_rate': 0.1,\n",
        "    'max_depth': 5,\n",
        "    'n_estimators': 100,\n",
        "    'objective': 'multi:softprob',\n",
        "    'num_class': 12,\n",
        "    'gamma': 0,\n",
        "    'min_child_weight': 1,\n",
        "    'subsample': 0.8,\n",
        "    'colsample_bytree': 0.8,\n",
        "    'scale_pos_weight': 1,\n",
        "    'nthread': 8,\n",
        "    'n_jobs': -1,\n",
        "    'seed': 17\n",
        "}"
      ],
      "execution_count": 0,
      "outputs": []
    },
    {
      "metadata": {
        "id": "TvzshNvu30vn",
        "colab_type": "text"
      },
      "cell_type": "markdown",
      "source": [
        "Запускаем встроенную функцию кросс-валидации xgboost"
      ]
    },
    {
      "metadata": {
        "scrolled": true,
        "id": "NDSZaAow30vn",
        "colab_type": "code",
        "outputId": "4606f6e6-0759-42da-be1b-d70bfb8dd076",
        "colab": {
          "base_uri": "https://localhost:8080/",
          "height": 1805
        }
      },
      "cell_type": "code",
      "source": [
        "%%time\n",
        "cvresult = xgb.cv(param, \n",
        "                  xgtrain, \n",
        "                  num_boost_round=100, \n",
        "                  metrics=['mlogloss'], \n",
        "                  feval=ndcg5_score, \n",
        "                  maximize=True,\n",
        "                  #nfold=5,\n",
        "                  seed=17, \n",
        "                  early_stopping_rounds=50, \n",
        "                  verbose_eval=True)"
      ],
      "execution_count": 0,
      "outputs": [
        {
          "output_type": "stream",
          "text": [
            "[0]\ttrain-mlogloss:2.1828+0.00720741\ttrain-ndcg5:0.852269+0.00290595\ttest-mlogloss:2.18524+0.00754064\ttest-ndcg5:0.847383+0.00417573\n",
            "[1]\ttrain-mlogloss:1.98615+0.00769199\ttrain-ndcg5:0.85447+0.00170076\ttest-mlogloss:1.99041+0.0074323\ttest-ndcg5:0.849651+0.00268982\n",
            "[2]\ttrain-mlogloss:1.83552+0.00559728\ttrain-ndcg5:0.855555+0.00157204\ttest-mlogloss:1.84138+0.00513326\ttest-ndcg5:0.850278+0.00189241\n",
            "[3]\ttrain-mlogloss:1.71852+0.0045234\ttrain-ndcg5:0.856208+0.00127341\ttest-mlogloss:1.72591+0.00422638\ttest-ndcg5:0.850741+0.00224692\n",
            "[4]\ttrain-mlogloss:1.62101+0.00288843\ttrain-ndcg5:0.856659+0.000900623\ttest-mlogloss:1.62995+0.00334457\ttest-ndcg5:0.850759+0.00210714\n",
            "[5]\ttrain-mlogloss:1.53771+0.00249872\ttrain-ndcg5:0.85744+0.00077474\ttest-mlogloss:1.5482+0.00303244\ttest-ndcg5:0.851472+0.00174419\n",
            "[6]\ttrain-mlogloss:1.46696+0.00192673\ttrain-ndcg5:0.858303+0.000544104\ttest-mlogloss:1.47895+0.0025297\ttest-ndcg5:0.852204+0.00155724\n",
            "[7]\ttrain-mlogloss:1.40568+0.00226064\ttrain-ndcg5:0.85873+0.000630535\ttest-mlogloss:1.41916+0.00272082\ttest-ndcg5:0.852068+0.00146295\n",
            "[8]\ttrain-mlogloss:1.35186+0.00218808\ttrain-ndcg5:0.85943+0.000472949\ttest-mlogloss:1.36682+0.0026165\ttest-ndcg5:0.852724+0.00181155\n",
            "[9]\ttrain-mlogloss:1.30467+0.00184333\ttrain-ndcg5:0.859854+0.000432867\ttest-mlogloss:1.3211+0.00268549\ttest-ndcg5:0.853084+0.00177774\n",
            "[10]\ttrain-mlogloss:1.26286+0.00202903\ttrain-ndcg5:0.860418+0.000787864\ttest-mlogloss:1.28073+0.00255857\ttest-ndcg5:0.853627+0.00165451\n",
            "[11]\ttrain-mlogloss:1.22565+0.00243873\ttrain-ndcg5:0.860868+0.000751408\ttest-mlogloss:1.24508+0.00224368\ttest-ndcg5:0.853625+0.00156776\n",
            "[12]\ttrain-mlogloss:1.19236+0.00249658\ttrain-ndcg5:0.861182+0.000679824\ttest-mlogloss:1.21322+0.00239316\ttest-ndcg5:0.853892+0.0015556\n",
            "[13]\ttrain-mlogloss:1.16251+0.00255917\ttrain-ndcg5:0.861553+0.000774027\ttest-mlogloss:1.18492+0.00255115\ttest-ndcg5:0.853851+0.00159157\n",
            "[14]\ttrain-mlogloss:1.13565+0.00241688\ttrain-ndcg5:0.86192+0.000698232\ttest-mlogloss:1.15958+0.00269426\ttest-ndcg5:0.853773+0.00174624\n",
            "[15]\ttrain-mlogloss:1.1115+0.00233336\ttrain-ndcg5:0.862193+0.000599896\ttest-mlogloss:1.13691+0.00286486\ttest-ndcg5:0.853986+0.00182025\n",
            "[16]\ttrain-mlogloss:1.08977+0.00233265\ttrain-ndcg5:0.862411+0.000534929\ttest-mlogloss:1.11662+0.00295209\ttest-ndcg5:0.853822+0.00182319\n",
            "[17]\ttrain-mlogloss:1.06988+0.0022037\ttrain-ndcg5:0.862882+0.000573204\ttest-mlogloss:1.09833+0.00311583\ttest-ndcg5:0.853819+0.00164172\n",
            "[18]\ttrain-mlogloss:1.05226+0.00212146\ttrain-ndcg5:0.863318+0.000685529\ttest-mlogloss:1.0821+0.00327433\ttest-ndcg5:0.854102+0.00166559\n",
            "[19]\ttrain-mlogloss:1.03588+0.00218829\ttrain-ndcg5:0.863637+0.000778191\ttest-mlogloss:1.06721+0.00340457\ttest-ndcg5:0.854058+0.00152415\n",
            "[20]\ttrain-mlogloss:1.02097+0.00238044\ttrain-ndcg5:0.863963+0.00085888\ttest-mlogloss:1.05389+0.00331121\ttest-ndcg5:0.854113+0.00172075\n",
            "[21]\ttrain-mlogloss:1.00711+0.00248879\ttrain-ndcg5:0.864394+0.000786935\ttest-mlogloss:1.04174+0.00332532\ttest-ndcg5:0.854306+0.00158242\n",
            "[22]\ttrain-mlogloss:0.994587+0.00255556\ttrain-ndcg5:0.864656+0.00079665\ttest-mlogloss:1.03081+0.00343291\ttest-ndcg5:0.854347+0.00139996\n",
            "[23]\ttrain-mlogloss:0.983117+0.0024982\ttrain-ndcg5:0.864926+0.000891845\ttest-mlogloss:1.02096+0.00352988\ttest-ndcg5:0.854386+0.00127871\n",
            "[24]\ttrain-mlogloss:0.972551+0.00280733\ttrain-ndcg5:0.865383+0.000922199\ttest-mlogloss:1.01191+0.00349922\ttest-ndcg5:0.854525+0.00115795\n",
            "[25]\ttrain-mlogloss:0.962778+0.00270628\ttrain-ndcg5:0.8656+0.000911584\ttest-mlogloss:1.00375+0.00360062\ttest-ndcg5:0.854703+0.00113657\n",
            "[26]\ttrain-mlogloss:0.953932+0.00287186\ttrain-ndcg5:0.865882+0.000901\ttest-mlogloss:0.996528+0.0035647\ttest-ndcg5:0.854736+0.00128453\n",
            "[27]\ttrain-mlogloss:0.945709+0.0028298\ttrain-ndcg5:0.866157+0.000963421\ttest-mlogloss:0.989809+0.00362594\ttest-ndcg5:0.854951+0.00126141\n",
            "[28]\ttrain-mlogloss:0.938063+0.00276523\ttrain-ndcg5:0.866467+0.000951727\ttest-mlogloss:0.983779+0.00371213\ttest-ndcg5:0.85511+0.0012529\n",
            "[29]\ttrain-mlogloss:0.930988+0.00288134\ttrain-ndcg5:0.866614+0.000919003\ttest-mlogloss:0.978251+0.00371184\ttest-ndcg5:0.855031+0.00123404\n",
            "[30]\ttrain-mlogloss:0.924352+0.00298456\ttrain-ndcg5:0.866828+0.000766174\ttest-mlogloss:0.973201+0.00369504\ttest-ndcg5:0.854968+0.00125442\n",
            "[31]\ttrain-mlogloss:0.918101+0.0029284\ttrain-ndcg5:0.867142+0.000791919\ttest-mlogloss:0.968479+0.00381794\ttest-ndcg5:0.855005+0.00110554\n",
            "[32]\ttrain-mlogloss:0.912181+0.00296286\ttrain-ndcg5:0.8674+0.000821084\ttest-mlogloss:0.964255+0.00377441\ttest-ndcg5:0.855183+0.00115741\n",
            "[33]\ttrain-mlogloss:0.906791+0.00281946\ttrain-ndcg5:0.86764+0.000600308\ttest-mlogloss:0.960422+0.00386451\ttest-ndcg5:0.855073+0.00102887\n",
            "[34]\ttrain-mlogloss:0.901576+0.00277697\ttrain-ndcg5:0.867909+0.000582817\ttest-mlogloss:0.956834+0.00383745\ttest-ndcg5:0.855133+0.00103906\n",
            "[35]\ttrain-mlogloss:0.896737+0.00271511\ttrain-ndcg5:0.868192+0.000679021\ttest-mlogloss:0.953685+0.00382532\ttest-ndcg5:0.855054+0.00114224\n",
            "[36]\ttrain-mlogloss:0.892122+0.00269394\ttrain-ndcg5:0.868499+0.0007629\ttest-mlogloss:0.95078+0.00389324\ttest-ndcg5:0.854946+0.0010851\n",
            "[37]\ttrain-mlogloss:0.887624+0.00273091\ttrain-ndcg5:0.868877+0.000877247\ttest-mlogloss:0.948002+0.00391664\ttest-ndcg5:0.855085+0.00113271\n",
            "[38]\ttrain-mlogloss:0.883602+0.00261163\ttrain-ndcg5:0.868921+0.000845273\ttest-mlogloss:0.94555+0.00398608\ttest-ndcg5:0.855117+0.00119308\n",
            "[39]\ttrain-mlogloss:0.879687+0.00266309\ttrain-ndcg5:0.869198+0.000813064\ttest-mlogloss:0.943268+0.00399566\ttest-ndcg5:0.855097+0.00115833\n",
            "[40]\ttrain-mlogloss:0.875978+0.00269745\ttrain-ndcg5:0.869449+0.000846218\ttest-mlogloss:0.941205+0.00402382\ttest-ndcg5:0.855153+0.0011712\n",
            "[41]\ttrain-mlogloss:0.872413+0.00273187\ttrain-ndcg5:0.869704+0.000761068\ttest-mlogloss:0.939251+0.00398109\ttest-ndcg5:0.855287+0.00116884\n",
            "[42]\ttrain-mlogloss:0.86902+0.00274996\ttrain-ndcg5:0.86994+0.000677228\ttest-mlogloss:0.937546+0.00403154\ttest-ndcg5:0.855231+0.00119861\n",
            "[43]\ttrain-mlogloss:0.865736+0.00277666\ttrain-ndcg5:0.870304+0.000690864\ttest-mlogloss:0.936001+0.00412212\ttest-ndcg5:0.85521+0.00123741\n",
            "[44]\ttrain-mlogloss:0.862669+0.00277461\ttrain-ndcg5:0.870533+0.000742456\ttest-mlogloss:0.93455+0.00419611\ttest-ndcg5:0.855141+0.00131517\n",
            "[45]\ttrain-mlogloss:0.859623+0.00291032\ttrain-ndcg5:0.870788+0.000763268\ttest-mlogloss:0.933134+0.00419344\ttest-ndcg5:0.855132+0.0012326\n",
            "[46]\ttrain-mlogloss:0.856649+0.00296039\ttrain-ndcg5:0.871108+0.00067953\ttest-mlogloss:0.931924+0.0042801\ttest-ndcg5:0.855082+0.00135282\n",
            "[47]\ttrain-mlogloss:0.853847+0.00280244\ttrain-ndcg5:0.871321+0.000622375\ttest-mlogloss:0.930787+0.0042704\ttest-ndcg5:0.855096+0.00134915\n",
            "[48]\ttrain-mlogloss:0.851135+0.00280649\ttrain-ndcg5:0.871551+0.000617458\ttest-mlogloss:0.929709+0.00419603\ttest-ndcg5:0.855098+0.00129678\n",
            "[49]\ttrain-mlogloss:0.848409+0.0026839\ttrain-ndcg5:0.871775+0.000630216\ttest-mlogloss:0.928641+0.00431478\ttest-ndcg5:0.855045+0.0012694\n",
            "[50]\ttrain-mlogloss:0.845857+0.0026437\ttrain-ndcg5:0.871979+0.000591116\ttest-mlogloss:0.927653+0.00438377\ttest-ndcg5:0.854997+0.00131748\n",
            "[51]\ttrain-mlogloss:0.843345+0.00254729\ttrain-ndcg5:0.872355+0.00054079\ttest-mlogloss:0.926748+0.00434219\ttest-ndcg5:0.855166+0.00127928\n",
            "[52]\ttrain-mlogloss:0.840902+0.00242782\ttrain-ndcg5:0.872667+0.000474036\ttest-mlogloss:0.925912+0.00437055\ttest-ndcg5:0.8552+0.0013865\n",
            "[53]\ttrain-mlogloss:0.838677+0.00256786\ttrain-ndcg5:0.872829+0.00040884\ttest-mlogloss:0.925289+0.0043198\ttest-ndcg5:0.855173+0.00127678\n",
            "[54]\ttrain-mlogloss:0.836457+0.00260268\ttrain-ndcg5:0.87313+0.000544405\ttest-mlogloss:0.924713+0.00432776\ttest-ndcg5:0.85526+0.0012802\n",
            "[55]\ttrain-mlogloss:0.83424+0.00263785\ttrain-ndcg5:0.873352+0.000574083\ttest-mlogloss:0.924146+0.0042968\ttest-ndcg5:0.855168+0.0012225\n",
            "[56]\ttrain-mlogloss:0.832164+0.00248607\ttrain-ndcg5:0.873516+0.000476376\ttest-mlogloss:0.923607+0.00430917\ttest-ndcg5:0.855043+0.001162\n",
            "[57]\ttrain-mlogloss:0.830104+0.00258366\ttrain-ndcg5:0.87369+0.000463553\ttest-mlogloss:0.923088+0.00429684\ttest-ndcg5:0.85516+0.00114398\n",
            "[58]\ttrain-mlogloss:0.828007+0.00268045\ttrain-ndcg5:0.873943+0.000514951\ttest-mlogloss:0.92258+0.00422501\ttest-ndcg5:0.855224+0.00112803\n",
            "[59]\ttrain-mlogloss:0.825861+0.00268514\ttrain-ndcg5:0.874208+0.000527543\ttest-mlogloss:0.922107+0.00422238\ttest-ndcg5:0.85524+0.00125558\n",
            "[60]\ttrain-mlogloss:0.823911+0.00266353\ttrain-ndcg5:0.874473+0.000513002\ttest-mlogloss:0.92172+0.00425631\ttest-ndcg5:0.855228+0.00119782\n",
            "[61]\ttrain-mlogloss:0.821899+0.00262904\ttrain-ndcg5:0.874749+0.000532797\ttest-mlogloss:0.92133+0.00427939\ttest-ndcg5:0.855243+0.00118311\n",
            "[62]\ttrain-mlogloss:0.820029+0.00255\ttrain-ndcg5:0.874982+0.000486739\ttest-mlogloss:0.920962+0.00433781\ttest-ndcg5:0.855309+0.00125605\n",
            "[63]\ttrain-mlogloss:0.818073+0.00254533\ttrain-ndcg5:0.875255+0.000447613\ttest-mlogloss:0.920686+0.00429419\ttest-ndcg5:0.855263+0.00128822\n",
            "[64]\ttrain-mlogloss:0.816222+0.00251487\ttrain-ndcg5:0.875482+0.00049619\ttest-mlogloss:0.920377+0.0043526\ttest-ndcg5:0.855337+0.0012523\n",
            "[65]\ttrain-mlogloss:0.814414+0.00258634\ttrain-ndcg5:0.875689+0.000444242\ttest-mlogloss:0.920062+0.00434123\ttest-ndcg5:0.85531+0.00129653\n",
            "[66]\ttrain-mlogloss:0.812611+0.00258207\ttrain-ndcg5:0.876019+0.000385605\ttest-mlogloss:0.919776+0.00434923\ttest-ndcg5:0.855326+0.00126571\n",
            "[67]\ttrain-mlogloss:0.810876+0.00269782\ttrain-ndcg5:0.87618+0.000343599\ttest-mlogloss:0.919536+0.00439653\ttest-ndcg5:0.855384+0.00120151\n",
            "[68]\ttrain-mlogloss:0.809102+0.00270786\ttrain-ndcg5:0.876359+0.000303836\ttest-mlogloss:0.919372+0.00432062\ttest-ndcg5:0.855372+0.00114639\n",
            "[69]\ttrain-mlogloss:0.807317+0.00273066\ttrain-ndcg5:0.876602+0.000313373\ttest-mlogloss:0.919194+0.00433795\ttest-ndcg5:0.855448+0.00113428\n",
            "[70]\ttrain-mlogloss:0.805516+0.00274762\ttrain-ndcg5:0.876911+0.000327154\ttest-mlogloss:0.919056+0.00440378\ttest-ndcg5:0.855598+0.00127087\n",
            "[71]\ttrain-mlogloss:0.804056+0.00268895\ttrain-ndcg5:0.87708+0.000298958\ttest-mlogloss:0.918891+0.00441401\ttest-ndcg5:0.855538+0.00122428\n",
            "[72]\ttrain-mlogloss:0.802322+0.002649\ttrain-ndcg5:0.877357+0.000223725\ttest-mlogloss:0.918664+0.00442457\ttest-ndcg5:0.855475+0.00131831\n",
            "[73]\ttrain-mlogloss:0.800726+0.00267256\ttrain-ndcg5:0.877541+0.000181929\ttest-mlogloss:0.918578+0.00444186\ttest-ndcg5:0.855468+0.00138116\n",
            "[74]\ttrain-mlogloss:0.799136+0.00270518\ttrain-ndcg5:0.877747+0.000208418\ttest-mlogloss:0.918397+0.00437986\ttest-ndcg5:0.855429+0.00127531\n",
            "[75]\ttrain-mlogloss:0.79759+0.00248779\ttrain-ndcg5:0.878043+0.000224632\ttest-mlogloss:0.918267+0.00442381\ttest-ndcg5:0.855424+0.00126598\n",
            "[76]\ttrain-mlogloss:0.795901+0.00246619\ttrain-ndcg5:0.878291+0.000178644\ttest-mlogloss:0.918216+0.00441734\ttest-ndcg5:0.855393+0.0012944\n",
            "[77]\ttrain-mlogloss:0.79439+0.00241026\ttrain-ndcg5:0.878504+0.000133026\ttest-mlogloss:0.918077+0.00450149\ttest-ndcg5:0.855441+0.00131961\n",
            "[78]\ttrain-mlogloss:0.79286+0.00235473\ttrain-ndcg5:0.878701+0.000165064\ttest-mlogloss:0.917931+0.00449477\ttest-ndcg5:0.855472+0.00128097\n",
            "[79]\ttrain-mlogloss:0.791325+0.00231181\ttrain-ndcg5:0.878956+0.000268629\ttest-mlogloss:0.917905+0.00455153\ttest-ndcg5:0.855527+0.001298\n",
            "[80]\ttrain-mlogloss:0.789959+0.0024488\ttrain-ndcg5:0.879114+0.000261098\ttest-mlogloss:0.917859+0.00452691\ttest-ndcg5:0.855436+0.00126197\n",
            "[81]\ttrain-mlogloss:0.788523+0.00246454\ttrain-ndcg5:0.879391+0.000310703\ttest-mlogloss:0.917823+0.0045446\ttest-ndcg5:0.855506+0.00122719\n",
            "[82]\ttrain-mlogloss:0.786983+0.00240802\ttrain-ndcg5:0.879554+0.000285788\ttest-mlogloss:0.917721+0.00454139\ttest-ndcg5:0.855652+0.00128134\n",
            "[83]\ttrain-mlogloss:0.785517+0.0024454\ttrain-ndcg5:0.879776+0.000224936\ttest-mlogloss:0.917722+0.00447446\ttest-ndcg5:0.855656+0.00129441\n",
            "[84]\ttrain-mlogloss:0.784211+0.00238494\ttrain-ndcg5:0.879957+0.000211824\ttest-mlogloss:0.917727+0.00449328\ttest-ndcg5:0.855672+0.00142051\n",
            "[85]\ttrain-mlogloss:0.782816+0.00249732\ttrain-ndcg5:0.880204+0.000187078\ttest-mlogloss:0.917721+0.00454599\ttest-ndcg5:0.855657+0.00133538\n",
            "[86]\ttrain-mlogloss:0.781367+0.00240764\ttrain-ndcg5:0.880362+0.000166975\ttest-mlogloss:0.917693+0.00452721\ttest-ndcg5:0.855631+0.00124857\n",
            "[87]\ttrain-mlogloss:0.779969+0.00231053\ttrain-ndcg5:0.880621+0.000128299\ttest-mlogloss:0.917661+0.00445635\ttest-ndcg5:0.855682+0.00127067\n",
            "[88]\ttrain-mlogloss:0.778524+0.00231085\ttrain-ndcg5:0.880807+0.000111682\ttest-mlogloss:0.917656+0.00447108\ttest-ndcg5:0.855704+0.00129213\n",
            "[89]\ttrain-mlogloss:0.777229+0.00238206\ttrain-ndcg5:0.880999+0.000186206\ttest-mlogloss:0.917676+0.00445692\ttest-ndcg5:0.8557+0.00137707\n",
            "[90]\ttrain-mlogloss:0.775696+0.00237939\ttrain-ndcg5:0.881329+0.000234573\ttest-mlogloss:0.917661+0.0044386\ttest-ndcg5:0.855596+0.00139942\n",
            "[91]\ttrain-mlogloss:0.774438+0.00227263\ttrain-ndcg5:0.881549+0.000243093\ttest-mlogloss:0.917651+0.0043569\ttest-ndcg5:0.855689+0.00140544\n",
            "[92]\ttrain-mlogloss:0.773071+0.00217002\ttrain-ndcg5:0.881767+0.000163899\ttest-mlogloss:0.917712+0.00442219\ttest-ndcg5:0.85573+0.00134254\n",
            "[93]\ttrain-mlogloss:0.771861+0.0021319\ttrain-ndcg5:0.881918+0.000164098\ttest-mlogloss:0.917761+0.0044533\ttest-ndcg5:0.855713+0.00125164\n",
            "[94]\ttrain-mlogloss:0.770557+0.00209153\ttrain-ndcg5:0.882097+0.00014325\ttest-mlogloss:0.917761+0.00443512\ttest-ndcg5:0.855699+0.00125597\n",
            "[95]\ttrain-mlogloss:0.769276+0.0020052\ttrain-ndcg5:0.88232+0.000103347\ttest-mlogloss:0.917721+0.00442676\ttest-ndcg5:0.85558+0.00119132\n",
            "[96]\ttrain-mlogloss:0.767946+0.00199153\ttrain-ndcg5:0.882521+0.000116493\ttest-mlogloss:0.917701+0.00444776\ttest-ndcg5:0.855601+0.00123405\n",
            "[97]\ttrain-mlogloss:0.766679+0.00193227\ttrain-ndcg5:0.88268+0.000103706\ttest-mlogloss:0.917729+0.00442199\ttest-ndcg5:0.855666+0.00134324\n",
            "[98]\ttrain-mlogloss:0.765453+0.00194728\ttrain-ndcg5:0.88288+0.000139739\ttest-mlogloss:0.917748+0.00444651\ttest-ndcg5:0.855584+0.00141297\n",
            "[99]\ttrain-mlogloss:0.764219+0.00183068\ttrain-ndcg5:0.88314+0.000194021\ttest-mlogloss:0.917769+0.00440577\ttest-ndcg5:0.855588+0.00131246\n",
            "CPU times: user 2h 20min 48s, sys: 16.5 s, total: 2h 21min 5s\n",
            "Wall time: 1h 12min 35s\n"
          ],
          "name": "stdout"
        }
      ]
    },
    {
      "metadata": {
        "id": "nIxtogAJ30vo",
        "colab_type": "code",
        "outputId": "ea756c00-ef59-4b56-b52f-3f603b94c463",
        "colab": {
          "base_uri": "https://localhost:8080/",
          "height": 35
        }
      },
      "cell_type": "code",
      "source": [
        "cvresult.shape[0]"
      ],
      "execution_count": 0,
      "outputs": [
        {
          "output_type": "execute_result",
          "data": {
            "text/plain": [
              "100"
            ]
          },
          "metadata": {
            "tags": []
          },
          "execution_count": 146
        }
      ]
    },
    {
      "metadata": {
        "id": "bfsl3J3x30vq",
        "colab_type": "text"
      },
      "cell_type": "markdown",
      "source": [
        "Из-за особенностей пространства признаков задачи (много разреженных переменных) сделать полноценный поиск оптимальных параметров XGBoost не представляется возможным. Нам не удалось за разумное время посчитать при помощи GridSearch и кросс-валидации на 3 фолда оптимальные параметры, поэтому мы использовали более простую схему ручного перебора - без кросс-валидации, но с оценкой на валидационной (отложенной) выборке. В результате получены следующие \"оптимальные\" параметры:"
      ]
    },
    {
      "metadata": {
        "id": "f79XVnID30vq",
        "colab_type": "text"
      },
      "cell_type": "markdown",
      "source": [
        "#### Прогноз на отложенной выборке"
      ]
    },
    {
      "metadata": {
        "id": "k2d52qPN30vq",
        "colab_type": "code",
        "colab": {}
      },
      "cell_type": "code",
      "source": [
        "xgb1 = XGBClassifier(\n",
        "     learning_rate=0.1,\n",
        "     min_child_weight=1,\n",
        "     n_estimators=120,\n",
        "     max_depth=7,\n",
        "     gamma=0,\n",
        "     subsample=0.8,\n",
        "     colsample_bytree=0.8,\n",
        "     objective='multi:softprob',\n",
        "     num_class=12,\n",
        "     scale_pos_weight=1,\n",
        "     reg_alpha=0,\n",
        "     reg_lambda=1,\n",
        "     nthread=8,\n",
        "     n_jobs=-1,\n",
        "     seed=17\n",
        ")"
      ],
      "execution_count": 0,
      "outputs": []
    },
    {
      "metadata": {
        "id": "U01u4aJv30vr",
        "colab_type": "code",
        "outputId": "cdc7a396-ce0a-487d-81b8-236d3860340d",
        "colab": {
          "base_uri": "https://localhost:8080/",
          "height": 163
        }
      },
      "cell_type": "code",
      "source": [
        "%%time\n",
        "xgb1.fit(X_train_part, y_train_part)\n"
      ],
      "execution_count": 0,
      "outputs": [
        {
          "output_type": "stream",
          "text": [
            "CPU times: user 1h 22min 30s, sys: 7.7 s, total: 1h 22min 38s\n",
            "Wall time: 42min 11s\n"
          ],
          "name": "stdout"
        },
        {
          "output_type": "execute_result",
          "data": {
            "text/plain": [
              "XGBClassifier(base_score=0.5, booster='gbtree', colsample_bylevel=1,\n",
              "       colsample_bytree=0.8, gamma=0, learning_rate=0.1, max_delta_step=0,\n",
              "       max_depth=5, min_child_weight=1, missing=None, n_estimators=150,\n",
              "       n_jobs=-1, nthread=8, num_class=12, objective='multi:softprob',\n",
              "       random_state=0, reg_alpha=0, reg_lambda=1, scale_pos_weight=1,\n",
              "       seed=17, silent=True, subsample=0.8)"
            ]
          },
          "metadata": {
            "tags": []
          },
          "execution_count": 134
        }
      ]
    },
    {
      "metadata": {
        "id": "dWjnhV-nKuJr",
        "colab_type": "code",
        "colab": {}
      },
      "cell_type": "code",
      "source": [
        "y_predict = xgb1.predict_proba(X_valid)"
      ],
      "execution_count": 0,
      "outputs": []
    },
    {
      "metadata": {
        "id": "gN3J62Yg30vv",
        "colab_type": "code",
        "outputId": "753b1967-5b7e-490a-d682-593ae437201e",
        "colab": {
          "base_uri": "https://localhost:8080/",
          "height": 72
        }
      },
      "cell_type": "code",
      "source": [
        "%%time\n",
        "my_ndcg(y_valid, y_predict, k=5)"
      ],
      "execution_count": 0,
      "outputs": [
        {
          "output_type": "stream",
          "text": [
            "CPU times: user 163 ms, sys: 1.99 ms, total: 165 ms\n",
            "Wall time: 166 ms\n"
          ],
          "name": "stdout"
        },
        {
          "output_type": "execute_result",
          "data": {
            "text/plain": [
              "0.7846899407805021"
            ]
          },
          "metadata": {
            "tags": []
          },
          "execution_count": 139
        }
      ]
    },
    {
      "metadata": {
        "scrolled": true,
        "id": "m-jH2JGK30vx",
        "colab_type": "code",
        "outputId": "11b4cc65-7491-4fdb-8585-cdcad6733a85",
        "colab": {
          "base_uri": "https://localhost:8080/",
          "height": 54
        }
      },
      "cell_type": "code",
      "source": [
        "%%time\n",
        "xgb1.fit(X_train, y)\n",
        "y_predict = xgb1.predict_proba(X_test)"
      ],
      "execution_count": 0,
      "outputs": [
        {
          "output_type": "stream",
          "text": [
            "CPU times: user 1h 57min 18s, sys: 9.64 s, total: 1h 57min 28s\n",
            "Wall time: 1h 2s\n"
          ],
          "name": "stdout"
        }
      ]
    },
    {
      "metadata": {
        "id": "B-404YGS30vz",
        "colab_type": "code",
        "colab": {}
      },
      "cell_type": "code",
      "source": [
        "create_submission(y_predict, indexes, y_enc, 'sub_xgb_100.csv')"
      ],
      "execution_count": 0,
      "outputs": []
    },
    {
      "metadata": {
        "id": "oZKN3eWu30wJ",
        "colab_type": "text"
      },
      "cell_type": "markdown",
      "source": [
        "### Часть 11. Выводы "
      ]
    },
    {
      "metadata": {
        "id": "6-uvtyvkmvsV",
        "colab_type": "text"
      },
      "cell_type": "markdown",
      "source": [
        "Модели | Score Private LB\n",
        "--- | ---\n",
        "Логистической регрессии с параметрами по умолчанию | 0.86283\n",
        "Логистическая регрессия с параметрами после кроссвалидации | 0.86828\n",
        "XGBoost|0.88557"
      ]
    },
    {
      "metadata": {
        "collapsed": true,
        "id": "gZ6x-faA30wJ",
        "colab_type": "text"
      },
      "cell_type": "markdown",
      "source": [
        "В результате применения более сложного семейства моделей - градиентного бустинга - нам удалось повысить качество прогноза на тестовой выборке, однако это было сделано ценой значительно больших вычислительных ресурсов и времени. Целевая метрика получилась довольно высокой 0.88559 (private LB), что говорит о хорошем качестве прогноза. На момент выполнения проекта соревнование на Kaggle уже было завершено, но по текущим показателям в лидерборде наш сабмит находится на 97 месте (top 6%).\n",
        "\n",
        "Результаты прогноза наиболее вероятной страны первого бронирования позволят оптимизировать показ рекламных баннеров и почтовую рассылку, сделает ее более персонализированной. Это в свою очередь позволит увеличить степень использования сервиса новыми клиентами и снизить среднее время от регистрации до первого бронирования."
      ]
    },
    {
      "metadata": {
        "id": "mlpYeh6t30wK",
        "colab_type": "code",
        "colab": {}
      },
      "cell_type": "code",
      "source": [
        ""
      ],
      "execution_count": 0,
      "outputs": []
    }
  ]
}